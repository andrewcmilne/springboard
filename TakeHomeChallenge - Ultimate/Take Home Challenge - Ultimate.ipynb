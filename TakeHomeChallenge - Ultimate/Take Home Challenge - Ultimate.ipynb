{
 "cells": [
  {
   "cell_type": "code",
   "execution_count": 155,
   "metadata": {
    "collapsed": true
   },
   "outputs": [],
   "source": [
    "import pandas as pd\n",
    "import json\n",
    "import matplotlib.pyplot as plt\n",
    "import numpy as np\n",
    "import seaborn as sns\n",
    "from pandas.io.json import json_normalize\n",
    "from datetime import datetime\n",
    "from datetime import date, timedelta\n",
    "\n",
    "\n",
    "from sklearn.metrics import classification_report\n",
    "from sklearn import model_selection\n",
    "from sklearn.metrics import confusion_matrix\n",
    "from sklearn.model_selection import train_test_split\n",
    "from sklearn import metrics\n",
    "from sklearn.ensemble import RandomForestClassifier\n",
    "from sklearn.metrics import accuracy_score\n",
    "\n",
    "%matplotlib inline"
   ]
  },
  {
   "cell_type": "code",
   "execution_count": 156,
   "metadata": {
    "collapsed": false
   },
   "outputs": [],
   "source": [
    "dfLogins = pd.read_json('/Users/acmilne/Documents/Python-Data-Science-and-Machine-Learning-Bootcamp/ultimate_challenge 2/logins.json')"
   ]
  },
  {
   "cell_type": "code",
   "execution_count": 157,
   "metadata": {
    "collapsed": false
   },
   "outputs": [],
   "source": [
    "#dfUE = pd.read_json('/Users/acmilne/Documents/Python-Data-Science-and-Machine-Learning-Bootcamp/ultimate_challenge 2/ultimate_data_challenge.json')"
   ]
  },
  {
   "cell_type": "code",
   "execution_count": 158,
   "metadata": {
    "collapsed": false
   },
   "outputs": [],
   "source": [
    "jsonString=json.load((open('/Users/acmilne/Documents/Python-Data-Science-and-Machine-Learning-Bootcamp/ultimate_challenge 2/ultimate_data_challenge.json')))\n"
   ]
  },
  {
   "cell_type": "code",
   "execution_count": 159,
   "metadata": {
    "collapsed": true
   },
   "outputs": [],
   "source": [
    "dfUE=json_normalize(jsonString)"
   ]
  },
  {
   "cell_type": "code",
   "execution_count": 160,
   "metadata": {
    "collapsed": false
   },
   "outputs": [
    {
     "data": {
      "text/html": [
       "<div>\n",
       "<style>\n",
       "    .dataframe thead tr:only-child th {\n",
       "        text-align: right;\n",
       "    }\n",
       "\n",
       "    .dataframe thead th {\n",
       "        text-align: left;\n",
       "    }\n",
       "\n",
       "    .dataframe tbody tr th {\n",
       "        vertical-align: top;\n",
       "    }\n",
       "</style>\n",
       "<table border=\"1\" class=\"dataframe\">\n",
       "  <thead>\n",
       "    <tr style=\"text-align: right;\">\n",
       "      <th></th>\n",
       "      <th>avg_dist</th>\n",
       "      <th>avg_rating_by_driver</th>\n",
       "      <th>avg_rating_of_driver</th>\n",
       "      <th>avg_surge</th>\n",
       "      <th>city</th>\n",
       "      <th>last_trip_date</th>\n",
       "      <th>phone</th>\n",
       "      <th>signup_date</th>\n",
       "      <th>surge_pct</th>\n",
       "      <th>trips_in_first_30_days</th>\n",
       "      <th>ultimate_black_user</th>\n",
       "      <th>weekday_pct</th>\n",
       "    </tr>\n",
       "  </thead>\n",
       "  <tbody>\n",
       "    <tr>\n",
       "      <th>0</th>\n",
       "      <td>3.67</td>\n",
       "      <td>5.0</td>\n",
       "      <td>4.7</td>\n",
       "      <td>1.10</td>\n",
       "      <td>King's Landing</td>\n",
       "      <td>2014-06-17</td>\n",
       "      <td>iPhone</td>\n",
       "      <td>2014-01-25</td>\n",
       "      <td>15.4</td>\n",
       "      <td>4</td>\n",
       "      <td>True</td>\n",
       "      <td>46.2</td>\n",
       "    </tr>\n",
       "    <tr>\n",
       "      <th>1</th>\n",
       "      <td>8.26</td>\n",
       "      <td>5.0</td>\n",
       "      <td>5.0</td>\n",
       "      <td>1.00</td>\n",
       "      <td>Astapor</td>\n",
       "      <td>2014-05-05</td>\n",
       "      <td>Android</td>\n",
       "      <td>2014-01-29</td>\n",
       "      <td>0.0</td>\n",
       "      <td>0</td>\n",
       "      <td>False</td>\n",
       "      <td>50.0</td>\n",
       "    </tr>\n",
       "    <tr>\n",
       "      <th>2</th>\n",
       "      <td>0.77</td>\n",
       "      <td>5.0</td>\n",
       "      <td>4.3</td>\n",
       "      <td>1.00</td>\n",
       "      <td>Astapor</td>\n",
       "      <td>2014-01-07</td>\n",
       "      <td>iPhone</td>\n",
       "      <td>2014-01-06</td>\n",
       "      <td>0.0</td>\n",
       "      <td>3</td>\n",
       "      <td>False</td>\n",
       "      <td>100.0</td>\n",
       "    </tr>\n",
       "    <tr>\n",
       "      <th>3</th>\n",
       "      <td>2.36</td>\n",
       "      <td>4.9</td>\n",
       "      <td>4.6</td>\n",
       "      <td>1.14</td>\n",
       "      <td>King's Landing</td>\n",
       "      <td>2014-06-29</td>\n",
       "      <td>iPhone</td>\n",
       "      <td>2014-01-10</td>\n",
       "      <td>20.0</td>\n",
       "      <td>9</td>\n",
       "      <td>True</td>\n",
       "      <td>80.0</td>\n",
       "    </tr>\n",
       "    <tr>\n",
       "      <th>4</th>\n",
       "      <td>3.13</td>\n",
       "      <td>4.9</td>\n",
       "      <td>4.4</td>\n",
       "      <td>1.19</td>\n",
       "      <td>Winterfell</td>\n",
       "      <td>2014-03-15</td>\n",
       "      <td>Android</td>\n",
       "      <td>2014-01-27</td>\n",
       "      <td>11.8</td>\n",
       "      <td>14</td>\n",
       "      <td>False</td>\n",
       "      <td>82.4</td>\n",
       "    </tr>\n",
       "  </tbody>\n",
       "</table>\n",
       "</div>"
      ],
      "text/plain": [
       "   avg_dist  avg_rating_by_driver  avg_rating_of_driver  avg_surge  \\\n",
       "0      3.67                   5.0                   4.7       1.10   \n",
       "1      8.26                   5.0                   5.0       1.00   \n",
       "2      0.77                   5.0                   4.3       1.00   \n",
       "3      2.36                   4.9                   4.6       1.14   \n",
       "4      3.13                   4.9                   4.4       1.19   \n",
       "\n",
       "             city last_trip_date    phone signup_date  surge_pct  \\\n",
       "0  King's Landing     2014-06-17   iPhone  2014-01-25       15.4   \n",
       "1         Astapor     2014-05-05  Android  2014-01-29        0.0   \n",
       "2         Astapor     2014-01-07   iPhone  2014-01-06        0.0   \n",
       "3  King's Landing     2014-06-29   iPhone  2014-01-10       20.0   \n",
       "4      Winterfell     2014-03-15  Android  2014-01-27       11.8   \n",
       "\n",
       "   trips_in_first_30_days  ultimate_black_user  weekday_pct  \n",
       "0                       4                 True         46.2  \n",
       "1                       0                False         50.0  \n",
       "2                       3                False        100.0  \n",
       "3                       9                 True         80.0  \n",
       "4                      14                False         82.4  "
      ]
     },
     "execution_count": 160,
     "metadata": {},
     "output_type": "execute_result"
    }
   ],
   "source": [
    "dfUE.head()"
   ]
  },
  {
   "cell_type": "code",
   "execution_count": 161,
   "metadata": {
    "collapsed": false
   },
   "outputs": [
    {
     "data": {
      "text/html": [
       "<div>\n",
       "<style>\n",
       "    .dataframe thead tr:only-child th {\n",
       "        text-align: right;\n",
       "    }\n",
       "\n",
       "    .dataframe thead th {\n",
       "        text-align: left;\n",
       "    }\n",
       "\n",
       "    .dataframe tbody tr th {\n",
       "        vertical-align: top;\n",
       "    }\n",
       "</style>\n",
       "<table border=\"1\" class=\"dataframe\">\n",
       "  <thead>\n",
       "    <tr style=\"text-align: right;\">\n",
       "      <th></th>\n",
       "      <th>login_time</th>\n",
       "    </tr>\n",
       "  </thead>\n",
       "  <tbody>\n",
       "    <tr>\n",
       "      <th>0</th>\n",
       "      <td>1970-01-01 20:13:18</td>\n",
       "    </tr>\n",
       "    <tr>\n",
       "      <th>1</th>\n",
       "      <td>1970-01-01 20:16:10</td>\n",
       "    </tr>\n",
       "    <tr>\n",
       "      <th>2</th>\n",
       "      <td>1970-01-01 20:16:37</td>\n",
       "    </tr>\n",
       "    <tr>\n",
       "      <th>3</th>\n",
       "      <td>1970-01-01 20:16:36</td>\n",
       "    </tr>\n",
       "    <tr>\n",
       "      <th>4</th>\n",
       "      <td>1970-01-01 20:26:21</td>\n",
       "    </tr>\n",
       "  </tbody>\n",
       "</table>\n",
       "</div>"
      ],
      "text/plain": [
       "           login_time\n",
       "0 1970-01-01 20:13:18\n",
       "1 1970-01-01 20:16:10\n",
       "2 1970-01-01 20:16:37\n",
       "3 1970-01-01 20:16:36\n",
       "4 1970-01-01 20:26:21"
      ]
     },
     "execution_count": 161,
     "metadata": {},
     "output_type": "execute_result"
    }
   ],
   "source": [
    "dfLogins.head()"
   ]
  },
  {
   "cell_type": "code",
   "execution_count": 162,
   "metadata": {
    "collapsed": false
   },
   "outputs": [
    {
     "name": "stdout",
     "output_type": "stream",
     "text": [
      "<class 'pandas.core.frame.DataFrame'>\n",
      "Int64Index: 93142 entries, 0 to 93141\n",
      "Data columns (total 1 columns):\n",
      "login_time    93142 non-null datetime64[ns]\n",
      "dtypes: datetime64[ns](1)\n",
      "memory usage: 1.4 MB\n"
     ]
    }
   ],
   "source": [
    "dfLogins.info()"
   ]
  },
  {
   "cell_type": "code",
   "execution_count": 163,
   "metadata": {
    "collapsed": false
   },
   "outputs": [
    {
     "data": {
      "text/html": [
       "<div>\n",
       "<style>\n",
       "    .dataframe thead tr:only-child th {\n",
       "        text-align: right;\n",
       "    }\n",
       "\n",
       "    .dataframe thead th {\n",
       "        text-align: left;\n",
       "    }\n",
       "\n",
       "    .dataframe tbody tr th {\n",
       "        vertical-align: top;\n",
       "    }\n",
       "</style>\n",
       "<table border=\"1\" class=\"dataframe\">\n",
       "  <thead>\n",
       "    <tr style=\"text-align: right;\">\n",
       "      <th></th>\n",
       "      <th>login_time</th>\n",
       "    </tr>\n",
       "  </thead>\n",
       "  <tbody>\n",
       "    <tr>\n",
       "      <th>count</th>\n",
       "      <td>93142</td>\n",
       "    </tr>\n",
       "    <tr>\n",
       "      <th>unique</th>\n",
       "      <td>92265</td>\n",
       "    </tr>\n",
       "    <tr>\n",
       "      <th>top</th>\n",
       "      <td>1970-02-12 11:16:53</td>\n",
       "    </tr>\n",
       "    <tr>\n",
       "      <th>freq</th>\n",
       "      <td>3</td>\n",
       "    </tr>\n",
       "    <tr>\n",
       "      <th>first</th>\n",
       "      <td>1970-01-01 20:12:16</td>\n",
       "    </tr>\n",
       "    <tr>\n",
       "      <th>last</th>\n",
       "      <td>1970-04-13 18:57:38</td>\n",
       "    </tr>\n",
       "  </tbody>\n",
       "</table>\n",
       "</div>"
      ],
      "text/plain": [
       "                 login_time\n",
       "count                 93142\n",
       "unique                92265\n",
       "top     1970-02-12 11:16:53\n",
       "freq                      3\n",
       "first   1970-01-01 20:12:16\n",
       "last    1970-04-13 18:57:38"
      ]
     },
     "execution_count": 163,
     "metadata": {},
     "output_type": "execute_result"
    }
   ],
   "source": [
    "dfLogins.describe()"
   ]
  },
  {
   "cell_type": "markdown",
   "metadata": {},
   "source": [
    "# Part 1 - Exploratory Data Analysis"
   ]
  },
  {
   "cell_type": "code",
   "execution_count": 164,
   "metadata": {
    "collapsed": false
   },
   "outputs": [],
   "source": [
    "# reindex to a dateTime index\n",
    "dfLogins = dfLogins.set_index(pd.DatetimeIndex(dfLogins['login_time']))"
   ]
  },
  {
   "cell_type": "code",
   "execution_count": 165,
   "metadata": {
    "collapsed": false,
    "scrolled": true
   },
   "outputs": [
    {
     "name": "stderr",
     "output_type": "stream",
     "text": [
      "/Applications/anaconda/lib/python3.6/site-packages/ipykernel/__main__.py:2: FutureWarning: how in .resample() is deprecated\n",
      "the new syntax is .resample(...).count()\n",
      "  from ipykernel import kernelapp as app\n"
     ]
    }
   ],
   "source": [
    "#downsample to 15min intervals\n",
    "t15=dfLogins.resample('15min',how='count')"
   ]
  },
  {
   "cell_type": "code",
   "execution_count": 166,
   "metadata": {
    "collapsed": false
   },
   "outputs": [
    {
     "data": {
      "text/plain": [
       "<matplotlib.text.Text at 0x1133f03c8>"
      ]
     },
     "execution_count": 166,
     "metadata": {},
     "output_type": "execute_result"
    },
    {
     "data": {
      "image/png": "[encoded data removed]",
      "text/plain": [
       "<matplotlib.figure.Figure at 0x115886518>"
      ]
     },
     "metadata": {},
     "output_type": "display_data"
    }
   ],
   "source": [
    "#meaningless plot that is too messy, 15min is too deep a downsample for meaning\n",
    "t15.plot()\n",
    "plt.title('Count of User Logins by 15min Interval')"
   ]
  },
  {
   "cell_type": "code",
   "execution_count": 167,
   "metadata": {
    "collapsed": false
   },
   "outputs": [
    {
     "name": "stderr",
     "output_type": "stream",
     "text": [
      "/Applications/anaconda/lib/python3.6/site-packages/ipykernel/__main__.py:2: FutureWarning: how in .resample() is deprecated\n",
      "the new syntax is .resample(...).count()\n",
      "  from ipykernel import kernelapp as app\n"
     ]
    }
   ],
   "source": [
    "#resample to daily logins\n",
    "tD=dfLogins.resample('D',how='count')"
   ]
  },
  {
   "cell_type": "code",
   "execution_count": 168,
   "metadata": {
    "collapsed": false
   },
   "outputs": [
    {
     "data": {
      "text/plain": [
       "<matplotlib.text.Text at 0x11b5b2e80>"
      ]
     },
     "execution_count": 168,
     "metadata": {},
     "output_type": "execute_result"
    },
    {
     "data": {
      "image/png": "[encoded data removed]",
      "text/plain": [
       "<matplotlib.figure.Figure at 0x115886710>"
      ]
     },
     "metadata": {},
     "output_type": "display_data"
    }
   ],
   "source": [
    "tD.plot()\n",
    "plt.title('Count of Daily Logins')"
   ]
  },
  {
   "cell_type": "code",
   "execution_count": 169,
   "metadata": {
    "collapsed": false
   },
   "outputs": [
    {
     "name": "stderr",
     "output_type": "stream",
     "text": [
      "/Applications/anaconda/lib/python3.6/site-packages/ipykernel/__main__.py:2: FutureWarning: how in .resample() is deprecated\n",
      "the new syntax is .resample(...).count()\n",
      "  from ipykernel import kernelapp as app\n"
     ]
    }
   ],
   "source": [
    "# resample to half day login intervals\n",
    "tM=dfLogins.resample('12H',how='count')"
   ]
  },
  {
   "cell_type": "code",
   "execution_count": 170,
   "metadata": {
    "collapsed": false
   },
   "outputs": [
    {
     "data": {
      "text/plain": [
       "<matplotlib.text.Text at 0x112f0f6d8>"
      ]
     },
     "execution_count": 170,
     "metadata": {},
     "output_type": "execute_result"
    },
    {
     "data": {
      "image/png": "[encoded data removed]",
      "text/plain": [
       "<matplotlib.figure.Figure at 0x115886ef0>"
      ]
     },
     "metadata": {},
     "output_type": "display_data"
    }
   ],
   "source": [
    "tM.plot()\n",
    "plt.title('Count of Halfday Logins')"
   ]
  },
  {
   "cell_type": "code",
   "execution_count": 171,
   "metadata": {
    "collapsed": false
   },
   "outputs": [
    {
     "name": "stderr",
     "output_type": "stream",
     "text": [
      "/Applications/anaconda/lib/python3.6/site-packages/ipykernel/__main__.py:2: FutureWarning: pd.rolling_mean is deprecated for DataFrame and will be removed in a future version, replace with \n",
      "\tDataFrame.rolling(window=7,center=False).mean()\n",
      "  from ipykernel import kernelapp as app\n"
     ]
    },
    {
     "data": {
      "text/plain": [
       "<matplotlib.text.Text at 0x11de5cb38>"
      ]
     },
     "execution_count": 171,
     "metadata": {},
     "output_type": "execute_result"
    },
    {
     "data": {
      "image/png": "[encoded data removed]",
      "text/plain": [
       "<matplotlib.figure.Figure at 0x1179b2ac8>"
      ]
     },
     "metadata": {},
     "output_type": "display_data"
    }
   ],
   "source": [
    "# try a weekly rolling average\n",
    "pd.rolling_mean(tD,7).plot()\n",
    "plt.title('Weekly Rolling Average of Active Users')"
   ]
  },
  {
   "cell_type": "code",
   "execution_count": 172,
   "metadata": {
    "collapsed": false
   },
   "outputs": [
    {
     "data": {
      "text/plain": [
       "<matplotlib.text.Text at 0x120433f98>"
      ]
     },
     "execution_count": 172,
     "metadata": {},
     "output_type": "execute_result"
    },
    {
     "data": {
      "image/png": "[encoded data removed]",
      "text/plain": [
       "<matplotlib.figure.Figure at 0x117944828>"
      ]
     },
     "metadata": {},
     "output_type": "display_data"
    }
   ],
   "source": [
    "# weekly count\n",
    "tWeekly = dfLogins.resample('W-MON').count()\n",
    "tWeekly.plot()\n",
    "plt.title('Weekly Count of Logins')"
   ]
  },
  {
   "cell_type": "code",
   "execution_count": 173,
   "metadata": {
    "collapsed": false
   },
   "outputs": [
    {
     "data": {
      "text/plain": [
       "<matplotlib.text.Text at 0x11480a2e8>"
      ]
     },
     "execution_count": 173,
     "metadata": {},
     "output_type": "execute_result"
    },
    {
     "data": {
      "image/png": "[encoded data removed]",
      "text/plain": [
       "<matplotlib.figure.Figure at 0x112e386a0>"
      ]
     },
     "metadata": {},
     "output_type": "display_data"
    }
   ],
   "source": [
    "# Month end sum of users\n",
    "tMonth = dfLogins.resample('MS').count()\n",
    "tMonth.plot.bar()\n",
    "plt.title('Monthly Count of User Logins')"
   ]
  },
  {
   "cell_type": "code",
   "execution_count": 174,
   "metadata": {
    "collapsed": false
   },
   "outputs": [],
   "source": [
    "# can we reveal something about nights and weekends?"
   ]
  },
  {
   "cell_type": "code",
   "execution_count": 175,
   "metadata": {
    "collapsed": false
   },
   "outputs": [
    {
     "data": {
      "text/plain": [
       "<matplotlib.axes._subplots.AxesSubplot at 0x1177f0d30>"
      ]
     },
     "execution_count": 175,
     "metadata": {},
     "output_type": "execute_result"
    },
    {
     "data": {
      "image/png": "[encoded data removed]",
      "text/plain": [
       "<matplotlib.figure.Figure at 0x114711828>"
      ]
     },
     "metadata": {},
     "output_type": "display_data"
    }
   ],
   "source": [
    "#clearly weekend traffic drives logins\n",
    "dfLogins['1970-03'].resample('D').count().plot()"
   ]
  },
  {
   "cell_type": "code",
   "execution_count": 176,
   "metadata": {
    "collapsed": false
   },
   "outputs": [],
   "source": [
    "dfLogins.rename(columns={'login_time':'login_time_count'},inplace=True)\n",
    "dfLogins.reset_index(inplace=True)"
   ]
  },
  {
   "cell_type": "code",
   "execution_count": 177,
   "metadata": {
    "collapsed": false
   },
   "outputs": [],
   "source": [
    "dfLogins.loc[:, 'weekday'] = dfLogins['login_time'].dt.weekday\n",
    "dfLogins.loc[:, 'month'] = dfLogins['login_time'].dt.month\n",
    "dfLogins.loc[:, 'year'] = dfLogins['login_time'].dt.year\n",
    "dfLogins.loc[:, 'hour'] = dfLogins['login_time'].dt.hour"
   ]
  },
  {
   "cell_type": "code",
   "execution_count": 178,
   "metadata": {
    "collapsed": false
   },
   "outputs": [
    {
     "data": {
      "text/plain": [
       "<matplotlib.text.Text at 0x11babf400>"
      ]
     },
     "execution_count": 178,
     "metadata": {},
     "output_type": "execute_result"
    },
    {
     "data": {
      "image/png": "[encoded data removed]",
      "text/plain": [
       "<matplotlib.figure.Figure at 0x11ba12b00>"
      ]
     },
     "metadata": {},
     "output_type": "display_data"
    }
   ],
   "source": [
    "#rises towards weekend\n",
    "dfLogins.groupby(['weekday'])['login_time'].count().plot()\n",
    "plt.title('Count of Users by Weekday')"
   ]
  },
  {
   "cell_type": "code",
   "execution_count": 179,
   "metadata": {
    "collapsed": false
   },
   "outputs": [
    {
     "data": {
      "text/plain": [
       "<matplotlib.text.Text at 0x11d1b2f98>"
      ]
     },
     "execution_count": 179,
     "metadata": {},
     "output_type": "execute_result"
    },
    {
     "data": {
      "image/png": "[encoded data removed]",
      "text/plain": [
       "<matplotlib.figure.Figure at 0x11b0bc2b0>"
      ]
     },
     "metadata": {},
     "output_type": "display_data"
    }
   ],
   "source": [
    "#rises at midday and night\n",
    "dfLogins.groupby(['hour'])['login_time'].count().plot()\n",
    "plt.title('Count of Users by Hour')"
   ]
  },
  {
   "cell_type": "markdown",
   "metadata": {},
   "source": [
    "# Part 2 - Experiment and Metrics Design"
   ]
  },
  {
   "cell_type": "code",
   "execution_count": 180,
   "metadata": {
    "collapsed": true
   },
   "outputs": [],
   "source": [
    "# see google doc"
   ]
  },
  {
   "cell_type": "markdown",
   "metadata": {},
   "source": [
    "# Part 3 - Predictive Modelling "
   ]
  },
  {
   "cell_type": "code",
   "execution_count": 181,
   "metadata": {
    "collapsed": false,
    "scrolled": false
   },
   "outputs": [
    {
     "name": "stdout",
     "output_type": "stream",
     "text": [
      "<class 'pandas.core.frame.DataFrame'>\n",
      "RangeIndex: 50000 entries, 0 to 49999\n",
      "Data columns (total 12 columns):\n",
      "avg_dist                  50000 non-null float64\n",
      "avg_rating_by_driver      49799 non-null float64\n",
      "avg_rating_of_driver      41878 non-null float64\n",
      "avg_surge                 50000 non-null float64\n",
      "city                      50000 non-null object\n",
      "last_trip_date            50000 non-null object\n",
      "phone                     49604 non-null object\n",
      "signup_date               50000 non-null object\n",
      "surge_pct                 50000 non-null float64\n",
      "trips_in_first_30_days    50000 non-null int64\n",
      "ultimate_black_user       50000 non-null bool\n",
      "weekday_pct               50000 non-null float64\n",
      "dtypes: bool(1), float64(6), int64(1), object(4)\n",
      "memory usage: 4.2+ MB\n"
     ]
    }
   ],
   "source": [
    "dfUE.info()"
   ]
  },
  {
   "cell_type": "code",
   "execution_count": 182,
   "metadata": {
    "collapsed": false
   },
   "outputs": [],
   "source": [
    "# convert the dates to datetime\n",
    "dfUE['last_trip_dt'] = pd.to_datetime(dfUE['last_trip_date'])\n",
    "dfUE['signup_dt']=pd.to_datetime(dfUE['signup_date'])"
   ]
  },
  {
   "cell_type": "code",
   "execution_count": 183,
   "metadata": {
    "collapsed": false
   },
   "outputs": [],
   "source": [
    "#time window for retained user test\n",
    "mostRecent = dfUE['last_trip_dt'].max()\n",
    "margin = timedelta(days = 30)"
   ]
  },
  {
   "cell_type": "code",
   "execution_count": 184,
   "metadata": {
    "collapsed": false
   },
   "outputs": [],
   "source": [
    "dfUE['retained'] = dfUE['last_trip_dt'].apply(lambda x: 1 if (mostRecent-x)<margin else 0)"
   ]
  },
  {
   "cell_type": "code",
   "execution_count": 185,
   "metadata": {
    "collapsed": false
   },
   "outputs": [
    {
     "data": {
      "text/html": [
       "<div>\n",
       "<style>\n",
       "    .dataframe thead tr:only-child th {\n",
       "        text-align: right;\n",
       "    }\n",
       "\n",
       "    .dataframe thead th {\n",
       "        text-align: left;\n",
       "    }\n",
       "\n",
       "    .dataframe tbody tr th {\n",
       "        vertical-align: top;\n",
       "    }\n",
       "</style>\n",
       "<table border=\"1\" class=\"dataframe\">\n",
       "  <thead>\n",
       "    <tr style=\"text-align: right;\">\n",
       "      <th></th>\n",
       "      <th>avg_dist</th>\n",
       "      <th>avg_rating_by_driver</th>\n",
       "      <th>avg_rating_of_driver</th>\n",
       "      <th>avg_surge</th>\n",
       "      <th>city</th>\n",
       "      <th>last_trip_date</th>\n",
       "      <th>phone</th>\n",
       "      <th>signup_date</th>\n",
       "      <th>surge_pct</th>\n",
       "      <th>trips_in_first_30_days</th>\n",
       "      <th>ultimate_black_user</th>\n",
       "      <th>weekday_pct</th>\n",
       "      <th>last_trip_dt</th>\n",
       "      <th>signup_dt</th>\n",
       "      <th>retained</th>\n",
       "    </tr>\n",
       "  </thead>\n",
       "  <tbody>\n",
       "    <tr>\n",
       "      <th>0</th>\n",
       "      <td>3.67</td>\n",
       "      <td>5.0</td>\n",
       "      <td>4.7</td>\n",
       "      <td>1.10</td>\n",
       "      <td>King's Landing</td>\n",
       "      <td>2014-06-17</td>\n",
       "      <td>iPhone</td>\n",
       "      <td>2014-01-25</td>\n",
       "      <td>15.4</td>\n",
       "      <td>4</td>\n",
       "      <td>True</td>\n",
       "      <td>46.2</td>\n",
       "      <td>2014-06-17</td>\n",
       "      <td>2014-01-25</td>\n",
       "      <td>1</td>\n",
       "    </tr>\n",
       "    <tr>\n",
       "      <th>1</th>\n",
       "      <td>8.26</td>\n",
       "      <td>5.0</td>\n",
       "      <td>5.0</td>\n",
       "      <td>1.00</td>\n",
       "      <td>Astapor</td>\n",
       "      <td>2014-05-05</td>\n",
       "      <td>Android</td>\n",
       "      <td>2014-01-29</td>\n",
       "      <td>0.0</td>\n",
       "      <td>0</td>\n",
       "      <td>False</td>\n",
       "      <td>50.0</td>\n",
       "      <td>2014-05-05</td>\n",
       "      <td>2014-01-29</td>\n",
       "      <td>0</td>\n",
       "    </tr>\n",
       "    <tr>\n",
       "      <th>2</th>\n",
       "      <td>0.77</td>\n",
       "      <td>5.0</td>\n",
       "      <td>4.3</td>\n",
       "      <td>1.00</td>\n",
       "      <td>Astapor</td>\n",
       "      <td>2014-01-07</td>\n",
       "      <td>iPhone</td>\n",
       "      <td>2014-01-06</td>\n",
       "      <td>0.0</td>\n",
       "      <td>3</td>\n",
       "      <td>False</td>\n",
       "      <td>100.0</td>\n",
       "      <td>2014-01-07</td>\n",
       "      <td>2014-01-06</td>\n",
       "      <td>0</td>\n",
       "    </tr>\n",
       "    <tr>\n",
       "      <th>3</th>\n",
       "      <td>2.36</td>\n",
       "      <td>4.9</td>\n",
       "      <td>4.6</td>\n",
       "      <td>1.14</td>\n",
       "      <td>King's Landing</td>\n",
       "      <td>2014-06-29</td>\n",
       "      <td>iPhone</td>\n",
       "      <td>2014-01-10</td>\n",
       "      <td>20.0</td>\n",
       "      <td>9</td>\n",
       "      <td>True</td>\n",
       "      <td>80.0</td>\n",
       "      <td>2014-06-29</td>\n",
       "      <td>2014-01-10</td>\n",
       "      <td>1</td>\n",
       "    </tr>\n",
       "    <tr>\n",
       "      <th>4</th>\n",
       "      <td>3.13</td>\n",
       "      <td>4.9</td>\n",
       "      <td>4.4</td>\n",
       "      <td>1.19</td>\n",
       "      <td>Winterfell</td>\n",
       "      <td>2014-03-15</td>\n",
       "      <td>Android</td>\n",
       "      <td>2014-01-27</td>\n",
       "      <td>11.8</td>\n",
       "      <td>14</td>\n",
       "      <td>False</td>\n",
       "      <td>82.4</td>\n",
       "      <td>2014-03-15</td>\n",
       "      <td>2014-01-27</td>\n",
       "      <td>0</td>\n",
       "    </tr>\n",
       "  </tbody>\n",
       "</table>\n",
       "</div>"
      ],
      "text/plain": [
       "   avg_dist  avg_rating_by_driver  avg_rating_of_driver  avg_surge  \\\n",
       "0      3.67                   5.0                   4.7       1.10   \n",
       "1      8.26                   5.0                   5.0       1.00   \n",
       "2      0.77                   5.0                   4.3       1.00   \n",
       "3      2.36                   4.9                   4.6       1.14   \n",
       "4      3.13                   4.9                   4.4       1.19   \n",
       "\n",
       "             city last_trip_date    phone signup_date  surge_pct  \\\n",
       "0  King's Landing     2014-06-17   iPhone  2014-01-25       15.4   \n",
       "1         Astapor     2014-05-05  Android  2014-01-29        0.0   \n",
       "2         Astapor     2014-01-07   iPhone  2014-01-06        0.0   \n",
       "3  King's Landing     2014-06-29   iPhone  2014-01-10       20.0   \n",
       "4      Winterfell     2014-03-15  Android  2014-01-27       11.8   \n",
       "\n",
       "   trips_in_first_30_days  ultimate_black_user  weekday_pct last_trip_dt  \\\n",
       "0                       4                 True         46.2   2014-06-17   \n",
       "1                       0                False         50.0   2014-05-05   \n",
       "2                       3                False        100.0   2014-01-07   \n",
       "3                       9                 True         80.0   2014-06-29   \n",
       "4                      14                False         82.4   2014-03-15   \n",
       "\n",
       "   signup_dt  retained  \n",
       "0 2014-01-25         1  \n",
       "1 2014-01-29         0  \n",
       "2 2014-01-06         0  \n",
       "3 2014-01-10         1  \n",
       "4 2014-01-27         0  "
      ]
     },
     "execution_count": 185,
     "metadata": {},
     "output_type": "execute_result"
    }
   ],
   "source": [
    "dfUE.head()"
   ]
  },
  {
   "cell_type": "code",
   "execution_count": 186,
   "metadata": {
    "collapsed": false
   },
   "outputs": [
    {
     "data": {
      "text/plain": [
       "0.3662"
      ]
     },
     "execution_count": 186,
     "metadata": {},
     "output_type": "execute_result"
    }
   ],
   "source": [
    "#percentage of users qualifying as retained, taken a ride in last 30 days\n",
    "dfUE.retained.mean()"
   ]
  },
  {
   "cell_type": "code",
   "execution_count": 187,
   "metadata": {
    "collapsed": true
   },
   "outputs": [],
   "source": [
    "#generate the model dataframe by getting dummies for city and phone\n",
    "dfModel = pd.get_dummies(dfUE,columns=['city','phone','ultimate_black_user'])"
   ]
  },
  {
   "cell_type": "code",
   "execution_count": 188,
   "metadata": {
    "collapsed": false
   },
   "outputs": [],
   "source": [
    "#generate features from the datetime stamp information\n",
    "dfModel.loc[:, 'weekday'] = dfModel['last_trip_dt'].dt.weekday\n",
    "dfModel.loc[:, 'month'] = dfModel['last_trip_dt'].dt.month\n",
    "dfModel.loc[:, 'signup_weekday'] = dfModel['signup_dt'].dt.weekday\n",
    "dfModel.loc[:, 'signup_month'] = dfModel['signup_dt'].dt.month"
   ]
  },
  {
   "cell_type": "code",
   "execution_count": 189,
   "metadata": {
    "collapsed": false
   },
   "outputs": [],
   "source": [
    "dfModel['weekend'] = dfModel['weekday'].apply(lambda x: 1 if x>4 else 0) #weekend is 1\n",
    "dfModel['months_as_member'] = dfModel['month']-dfModel['signup_month']"
   ]
  },
  {
   "cell_type": "code",
   "execution_count": 190,
   "metadata": {
    "collapsed": false,
    "scrolled": true
   },
   "outputs": [
    {
     "data": {
      "text/html": [
       "<div>\n",
       "<style>\n",
       "    .dataframe thead tr:only-child th {\n",
       "        text-align: right;\n",
       "    }\n",
       "\n",
       "    .dataframe thead th {\n",
       "        text-align: left;\n",
       "    }\n",
       "\n",
       "    .dataframe tbody tr th {\n",
       "        vertical-align: top;\n",
       "    }\n",
       "</style>\n",
       "<table border=\"1\" class=\"dataframe\">\n",
       "  <thead>\n",
       "    <tr style=\"text-align: right;\">\n",
       "      <th></th>\n",
       "      <th>avg_dist</th>\n",
       "      <th>avg_rating_by_driver</th>\n",
       "      <th>avg_rating_of_driver</th>\n",
       "      <th>avg_surge</th>\n",
       "      <th>last_trip_date</th>\n",
       "      <th>signup_date</th>\n",
       "      <th>surge_pct</th>\n",
       "      <th>trips_in_first_30_days</th>\n",
       "      <th>weekday_pct</th>\n",
       "      <th>last_trip_dt</th>\n",
       "      <th>...</th>\n",
       "      <th>phone_Android</th>\n",
       "      <th>phone_iPhone</th>\n",
       "      <th>ultimate_black_user_False</th>\n",
       "      <th>ultimate_black_user_True</th>\n",
       "      <th>weekday</th>\n",
       "      <th>month</th>\n",
       "      <th>signup_weekday</th>\n",
       "      <th>signup_month</th>\n",
       "      <th>weekend</th>\n",
       "      <th>months_as_member</th>\n",
       "    </tr>\n",
       "  </thead>\n",
       "  <tbody>\n",
       "    <tr>\n",
       "      <th>0</th>\n",
       "      <td>3.67</td>\n",
       "      <td>5.0</td>\n",
       "      <td>4.7</td>\n",
       "      <td>1.10</td>\n",
       "      <td>2014-06-17</td>\n",
       "      <td>2014-01-25</td>\n",
       "      <td>15.4</td>\n",
       "      <td>4</td>\n",
       "      <td>46.2</td>\n",
       "      <td>2014-06-17</td>\n",
       "      <td>...</td>\n",
       "      <td>0</td>\n",
       "      <td>1</td>\n",
       "      <td>0</td>\n",
       "      <td>1</td>\n",
       "      <td>1</td>\n",
       "      <td>6</td>\n",
       "      <td>5</td>\n",
       "      <td>1</td>\n",
       "      <td>0</td>\n",
       "      <td>5</td>\n",
       "    </tr>\n",
       "    <tr>\n",
       "      <th>1</th>\n",
       "      <td>8.26</td>\n",
       "      <td>5.0</td>\n",
       "      <td>5.0</td>\n",
       "      <td>1.00</td>\n",
       "      <td>2014-05-05</td>\n",
       "      <td>2014-01-29</td>\n",
       "      <td>0.0</td>\n",
       "      <td>0</td>\n",
       "      <td>50.0</td>\n",
       "      <td>2014-05-05</td>\n",
       "      <td>...</td>\n",
       "      <td>1</td>\n",
       "      <td>0</td>\n",
       "      <td>1</td>\n",
       "      <td>0</td>\n",
       "      <td>0</td>\n",
       "      <td>5</td>\n",
       "      <td>2</td>\n",
       "      <td>1</td>\n",
       "      <td>0</td>\n",
       "      <td>4</td>\n",
       "    </tr>\n",
       "    <tr>\n",
       "      <th>2</th>\n",
       "      <td>0.77</td>\n",
       "      <td>5.0</td>\n",
       "      <td>4.3</td>\n",
       "      <td>1.00</td>\n",
       "      <td>2014-01-07</td>\n",
       "      <td>2014-01-06</td>\n",
       "      <td>0.0</td>\n",
       "      <td>3</td>\n",
       "      <td>100.0</td>\n",
       "      <td>2014-01-07</td>\n",
       "      <td>...</td>\n",
       "      <td>0</td>\n",
       "      <td>1</td>\n",
       "      <td>1</td>\n",
       "      <td>0</td>\n",
       "      <td>1</td>\n",
       "      <td>1</td>\n",
       "      <td>0</td>\n",
       "      <td>1</td>\n",
       "      <td>0</td>\n",
       "      <td>0</td>\n",
       "    </tr>\n",
       "    <tr>\n",
       "      <th>3</th>\n",
       "      <td>2.36</td>\n",
       "      <td>4.9</td>\n",
       "      <td>4.6</td>\n",
       "      <td>1.14</td>\n",
       "      <td>2014-06-29</td>\n",
       "      <td>2014-01-10</td>\n",
       "      <td>20.0</td>\n",
       "      <td>9</td>\n",
       "      <td>80.0</td>\n",
       "      <td>2014-06-29</td>\n",
       "      <td>...</td>\n",
       "      <td>0</td>\n",
       "      <td>1</td>\n",
       "      <td>0</td>\n",
       "      <td>1</td>\n",
       "      <td>6</td>\n",
       "      <td>6</td>\n",
       "      <td>4</td>\n",
       "      <td>1</td>\n",
       "      <td>1</td>\n",
       "      <td>5</td>\n",
       "    </tr>\n",
       "    <tr>\n",
       "      <th>4</th>\n",
       "      <td>3.13</td>\n",
       "      <td>4.9</td>\n",
       "      <td>4.4</td>\n",
       "      <td>1.19</td>\n",
       "      <td>2014-03-15</td>\n",
       "      <td>2014-01-27</td>\n",
       "      <td>11.8</td>\n",
       "      <td>14</td>\n",
       "      <td>82.4</td>\n",
       "      <td>2014-03-15</td>\n",
       "      <td>...</td>\n",
       "      <td>1</td>\n",
       "      <td>0</td>\n",
       "      <td>1</td>\n",
       "      <td>0</td>\n",
       "      <td>5</td>\n",
       "      <td>3</td>\n",
       "      <td>0</td>\n",
       "      <td>1</td>\n",
       "      <td>1</td>\n",
       "      <td>2</td>\n",
       "    </tr>\n",
       "  </tbody>\n",
       "</table>\n",
       "<p>5 rows × 25 columns</p>\n",
       "</div>"
      ],
      "text/plain": [
       "   avg_dist  avg_rating_by_driver  avg_rating_of_driver  avg_surge  \\\n",
       "0      3.67                   5.0                   4.7       1.10   \n",
       "1      8.26                   5.0                   5.0       1.00   \n",
       "2      0.77                   5.0                   4.3       1.00   \n",
       "3      2.36                   4.9                   4.6       1.14   \n",
       "4      3.13                   4.9                   4.4       1.19   \n",
       "\n",
       "  last_trip_date signup_date  surge_pct  trips_in_first_30_days  weekday_pct  \\\n",
       "0     2014-06-17  2014-01-25       15.4                       4         46.2   \n",
       "1     2014-05-05  2014-01-29        0.0                       0         50.0   \n",
       "2     2014-01-07  2014-01-06        0.0                       3        100.0   \n",
       "3     2014-06-29  2014-01-10       20.0                       9         80.0   \n",
       "4     2014-03-15  2014-01-27       11.8                      14         82.4   \n",
       "\n",
       "  last_trip_dt        ...        phone_Android  phone_iPhone  \\\n",
       "0   2014-06-17        ...                    0             1   \n",
       "1   2014-05-05        ...                    1             0   \n",
       "2   2014-01-07        ...                    0             1   \n",
       "3   2014-06-29        ...                    0             1   \n",
       "4   2014-03-15        ...                    1             0   \n",
       "\n",
       "   ultimate_black_user_False  ultimate_black_user_True  weekday  month  \\\n",
       "0                          0                         1        1      6   \n",
       "1                          1                         0        0      5   \n",
       "2                          1                         0        1      1   \n",
       "3                          0                         1        6      6   \n",
       "4                          1                         0        5      3   \n",
       "\n",
       "   signup_weekday  signup_month  weekend  months_as_member  \n",
       "0               5             1        0                 5  \n",
       "1               2             1        0                 4  \n",
       "2               0             1        0                 0  \n",
       "3               4             1        1                 5  \n",
       "4               0             1        1                 2  \n",
       "\n",
       "[5 rows x 25 columns]"
      ]
     },
     "execution_count": 190,
     "metadata": {},
     "output_type": "execute_result"
    }
   ],
   "source": [
    "dfModel.head()"
   ]
  },
  {
   "cell_type": "code",
   "execution_count": 191,
   "metadata": {
    "collapsed": false
   },
   "outputs": [
    {
     "data": {
      "text/plain": [
       "avg_dist                     False\n",
       "avg_rating_by_driver          True\n",
       "avg_rating_of_driver          True\n",
       "avg_surge                    False\n",
       "last_trip_date               False\n",
       "signup_date                  False\n",
       "surge_pct                    False\n",
       "trips_in_first_30_days       False\n",
       "weekday_pct                  False\n",
       "last_trip_dt                 False\n",
       "signup_dt                    False\n",
       "retained                     False\n",
       "city_Astapor                 False\n",
       "city_King's Landing          False\n",
       "city_Winterfell              False\n",
       "phone_Android                False\n",
       "phone_iPhone                 False\n",
       "ultimate_black_user_False    False\n",
       "ultimate_black_user_True     False\n",
       "weekday                      False\n",
       "month                        False\n",
       "signup_weekday               False\n",
       "signup_month                 False\n",
       "weekend                      False\n",
       "months_as_member             False\n",
       "dtype: bool"
      ]
     },
     "execution_count": 191,
     "metadata": {},
     "output_type": "execute_result"
    }
   ],
   "source": [
    "dfModel.isnull().any()"
   ]
  },
  {
   "cell_type": "code",
   "execution_count": 192,
   "metadata": {
    "collapsed": false
   },
   "outputs": [],
   "source": [
    "dfModel = dfModel.fillna(method='ffill')"
   ]
  },
  {
   "cell_type": "code",
   "execution_count": 193,
   "metadata": {
    "collapsed": false
   },
   "outputs": [],
   "source": [
    "dfModel  = dfModel.drop(['month','months_as_member','last_trip_date','signup_date','last_trip_dt','signup_dt'],axis=1)\n",
    "#dropped Month from the model because it is too strongly related to the retained field as that's how retained was calc'd"
   ]
  },
  {
   "cell_type": "code",
   "execution_count": null,
   "metadata": {
    "collapsed": false
   },
   "outputs": [],
   "source": []
  },
  {
   "cell_type": "code",
   "execution_count": 194,
   "metadata": {
    "collapsed": false
   },
   "outputs": [
    {
     "data": {
      "text/html": [
       "<div>\n",
       "<style>\n",
       "    .dataframe thead tr:only-child th {\n",
       "        text-align: right;\n",
       "    }\n",
       "\n",
       "    .dataframe thead th {\n",
       "        text-align: left;\n",
       "    }\n",
       "\n",
       "    .dataframe tbody tr th {\n",
       "        vertical-align: top;\n",
       "    }\n",
       "</style>\n",
       "<table border=\"1\" class=\"dataframe\">\n",
       "  <thead>\n",
       "    <tr style=\"text-align: right;\">\n",
       "      <th></th>\n",
       "      <th>avg_dist</th>\n",
       "      <th>avg_rating_by_driver</th>\n",
       "      <th>avg_rating_of_driver</th>\n",
       "      <th>avg_surge</th>\n",
       "      <th>surge_pct</th>\n",
       "      <th>trips_in_first_30_days</th>\n",
       "      <th>weekday_pct</th>\n",
       "      <th>retained</th>\n",
       "      <th>city_Astapor</th>\n",
       "      <th>city_King's Landing</th>\n",
       "      <th>city_Winterfell</th>\n",
       "      <th>phone_Android</th>\n",
       "      <th>phone_iPhone</th>\n",
       "      <th>ultimate_black_user_False</th>\n",
       "      <th>ultimate_black_user_True</th>\n",
       "      <th>weekday</th>\n",
       "      <th>signup_weekday</th>\n",
       "      <th>signup_month</th>\n",
       "      <th>weekend</th>\n",
       "    </tr>\n",
       "  </thead>\n",
       "  <tbody>\n",
       "    <tr>\n",
       "      <th>avg_dist</th>\n",
       "      <td>1.000000</td>\n",
       "      <td>0.079562</td>\n",
       "      <td>0.019774</td>\n",
       "      <td>-0.081491</td>\n",
       "      <td>-0.104414</td>\n",
       "      <td>-0.136329</td>\n",
       "      <td>0.101652</td>\n",
       "      <td>-0.090279</td>\n",
       "      <td>-0.045431</td>\n",
       "      <td>0.015877</td>\n",
       "      <td>0.030050</td>\n",
       "      <td>0.020888</td>\n",
       "      <td>-0.025030</td>\n",
       "      <td>-0.032310</td>\n",
       "      <td>0.032310</td>\n",
       "      <td>-0.075210</td>\n",
       "      <td>-0.035514</td>\n",
       "      <td>NaN</td>\n",
       "      <td>-0.101349</td>\n",
       "    </tr>\n",
       "    <tr>\n",
       "      <th>avg_rating_by_driver</th>\n",
       "      <td>0.079562</td>\n",
       "      <td>1.000000</td>\n",
       "      <td>0.093993</td>\n",
       "      <td>0.010235</td>\n",
       "      <td>0.019691</td>\n",
       "      <td>-0.039044</td>\n",
       "      <td>0.020326</td>\n",
       "      <td>-0.025590</td>\n",
       "      <td>0.032564</td>\n",
       "      <td>0.084439</td>\n",
       "      <td>-0.098738</td>\n",
       "      <td>0.008224</td>\n",
       "      <td>-0.009564</td>\n",
       "      <td>-0.009373</td>\n",
       "      <td>0.009373</td>\n",
       "      <td>-0.013338</td>\n",
       "      <td>-0.006033</td>\n",
       "      <td>NaN</td>\n",
       "      <td>-0.019784</td>\n",
       "    </tr>\n",
       "    <tr>\n",
       "      <th>avg_rating_of_driver</th>\n",
       "      <td>0.019774</td>\n",
       "      <td>0.093993</td>\n",
       "      <td>1.000000</td>\n",
       "      <td>-0.018889</td>\n",
       "      <td>-0.003313</td>\n",
       "      <td>-0.009195</td>\n",
       "      <td>0.012999</td>\n",
       "      <td>-0.008705</td>\n",
       "      <td>0.027602</td>\n",
       "      <td>0.075139</td>\n",
       "      <td>-0.086565</td>\n",
       "      <td>0.024325</td>\n",
       "      <td>-0.023549</td>\n",
       "      <td>0.004007</td>\n",
       "      <td>-0.004007</td>\n",
       "      <td>-0.014472</td>\n",
       "      <td>-0.006575</td>\n",
       "      <td>NaN</td>\n",
       "      <td>-0.013387</td>\n",
       "    </tr>\n",
       "    <tr>\n",
       "      <th>avg_surge</th>\n",
       "      <td>-0.081491</td>\n",
       "      <td>0.010235</td>\n",
       "      <td>-0.018889</td>\n",
       "      <td>1.000000</td>\n",
       "      <td>0.793582</td>\n",
       "      <td>-0.001841</td>\n",
       "      <td>-0.110071</td>\n",
       "      <td>-0.003567</td>\n",
       "      <td>0.037172</td>\n",
       "      <td>-0.009198</td>\n",
       "      <td>-0.027643</td>\n",
       "      <td>-0.008977</td>\n",
       "      <td>0.011104</td>\n",
       "      <td>0.078791</td>\n",
       "      <td>-0.078791</td>\n",
       "      <td>0.069326</td>\n",
       "      <td>0.040005</td>\n",
       "      <td>NaN</td>\n",
       "      <td>0.079484</td>\n",
       "    </tr>\n",
       "    <tr>\n",
       "      <th>surge_pct</th>\n",
       "      <td>-0.104414</td>\n",
       "      <td>0.019691</td>\n",
       "      <td>-0.003313</td>\n",
       "      <td>0.793582</td>\n",
       "      <td>1.000000</td>\n",
       "      <td>0.005720</td>\n",
       "      <td>-0.144918</td>\n",
       "      <td>0.010612</td>\n",
       "      <td>0.045457</td>\n",
       "      <td>0.028221</td>\n",
       "      <td>-0.065603</td>\n",
       "      <td>-0.010150</td>\n",
       "      <td>0.012851</td>\n",
       "      <td>0.106861</td>\n",
       "      <td>-0.106861</td>\n",
       "      <td>0.087000</td>\n",
       "      <td>0.054375</td>\n",
       "      <td>NaN</td>\n",
       "      <td>0.102915</td>\n",
       "    </tr>\n",
       "    <tr>\n",
       "      <th>trips_in_first_30_days</th>\n",
       "      <td>-0.136329</td>\n",
       "      <td>-0.039044</td>\n",
       "      <td>-0.009195</td>\n",
       "      <td>-0.001841</td>\n",
       "      <td>0.005720</td>\n",
       "      <td>1.000000</td>\n",
       "      <td>0.050388</td>\n",
       "      <td>0.214728</td>\n",
       "      <td>-0.061075</td>\n",
       "      <td>0.024650</td>\n",
       "      <td>0.037735</td>\n",
       "      <td>-0.059309</td>\n",
       "      <td>0.058342</td>\n",
       "      <td>-0.112210</td>\n",
       "      <td>0.112210</td>\n",
       "      <td>-0.054833</td>\n",
       "      <td>-0.024120</td>\n",
       "      <td>NaN</td>\n",
       "      <td>-0.031129</td>\n",
       "    </tr>\n",
       "    <tr>\n",
       "      <th>weekday_pct</th>\n",
       "      <td>0.101652</td>\n",
       "      <td>0.020326</td>\n",
       "      <td>0.012999</td>\n",
       "      <td>-0.110071</td>\n",
       "      <td>-0.144918</td>\n",
       "      <td>0.050388</td>\n",
       "      <td>1.000000</td>\n",
       "      <td>0.026413</td>\n",
       "      <td>-0.010540</td>\n",
       "      <td>0.031349</td>\n",
       "      <td>-0.015318</td>\n",
       "      <td>-0.009241</td>\n",
       "      <td>0.006726</td>\n",
       "      <td>-0.035998</td>\n",
       "      <td>0.035998</td>\n",
       "      <td>-0.413138</td>\n",
       "      <td>-0.253798</td>\n",
       "      <td>NaN</td>\n",
       "      <td>-0.565248</td>\n",
       "    </tr>\n",
       "    <tr>\n",
       "      <th>retained</th>\n",
       "      <td>-0.090279</td>\n",
       "      <td>-0.025590</td>\n",
       "      <td>-0.008705</td>\n",
       "      <td>-0.003567</td>\n",
       "      <td>0.010612</td>\n",
       "      <td>0.214728</td>\n",
       "      <td>0.026413</td>\n",
       "      <td>1.000000</td>\n",
       "      <td>-0.179373</td>\n",
       "      <td>0.268272</td>\n",
       "      <td>-0.046985</td>\n",
       "      <td>-0.231731</td>\n",
       "      <td>0.231391</td>\n",
       "      <td>-0.210259</td>\n",
       "      <td>0.210259</td>\n",
       "      <td>-0.037842</td>\n",
       "      <td>-0.000908</td>\n",
       "      <td>NaN</td>\n",
       "      <td>-0.013336</td>\n",
       "    </tr>\n",
       "    <tr>\n",
       "      <th>city_Astapor</th>\n",
       "      <td>-0.045431</td>\n",
       "      <td>0.032564</td>\n",
       "      <td>0.027602</td>\n",
       "      <td>0.037172</td>\n",
       "      <td>0.045457</td>\n",
       "      <td>-0.061075</td>\n",
       "      <td>-0.010540</td>\n",
       "      <td>-0.179373</td>\n",
       "      <td>1.000000</td>\n",
       "      <td>-0.354298</td>\n",
       "      <td>-0.657563</td>\n",
       "      <td>0.025642</td>\n",
       "      <td>-0.024539</td>\n",
       "      <td>-0.021259</td>\n",
       "      <td>0.021259</td>\n",
       "      <td>0.008258</td>\n",
       "      <td>0.016044</td>\n",
       "      <td>NaN</td>\n",
       "      <td>-0.004621</td>\n",
       "    </tr>\n",
       "    <tr>\n",
       "      <th>city_King's Landing</th>\n",
       "      <td>0.015877</td>\n",
       "      <td>0.084439</td>\n",
       "      <td>0.075139</td>\n",
       "      <td>-0.009198</td>\n",
       "      <td>0.028221</td>\n",
       "      <td>0.024650</td>\n",
       "      <td>0.031349</td>\n",
       "      <td>0.268272</td>\n",
       "      <td>-0.354298</td>\n",
       "      <td>1.000000</td>\n",
       "      <td>-0.471555</td>\n",
       "      <td>-0.059203</td>\n",
       "      <td>0.060520</td>\n",
       "      <td>-0.039649</td>\n",
       "      <td>0.039649</td>\n",
       "      <td>-0.032896</td>\n",
       "      <td>0.002740</td>\n",
       "      <td>NaN</td>\n",
       "      <td>-0.020708</td>\n",
       "    </tr>\n",
       "    <tr>\n",
       "      <th>city_Winterfell</th>\n",
       "      <td>0.030050</td>\n",
       "      <td>-0.098738</td>\n",
       "      <td>-0.086565</td>\n",
       "      <td>-0.027643</td>\n",
       "      <td>-0.065603</td>\n",
       "      <td>0.037735</td>\n",
       "      <td>-0.015318</td>\n",
       "      <td>-0.046985</td>\n",
       "      <td>-0.657563</td>\n",
       "      <td>-0.471555</td>\n",
       "      <td>1.000000</td>\n",
       "      <td>0.023517</td>\n",
       "      <td>-0.025618</td>\n",
       "      <td>0.051990</td>\n",
       "      <td>-0.051990</td>\n",
       "      <td>0.018716</td>\n",
       "      <td>-0.017337</td>\n",
       "      <td>NaN</td>\n",
       "      <td>0.021041</td>\n",
       "    </tr>\n",
       "    <tr>\n",
       "      <th>phone_Android</th>\n",
       "      <td>0.020888</td>\n",
       "      <td>0.008224</td>\n",
       "      <td>0.024325</td>\n",
       "      <td>-0.008977</td>\n",
       "      <td>-0.010150</td>\n",
       "      <td>-0.059309</td>\n",
       "      <td>-0.009241</td>\n",
       "      <td>-0.231731</td>\n",
       "      <td>0.025642</td>\n",
       "      <td>-0.059203</td>\n",
       "      <td>0.023517</td>\n",
       "      <td>1.000000</td>\n",
       "      <td>-0.981471</td>\n",
       "      <td>0.075836</td>\n",
       "      <td>-0.075836</td>\n",
       "      <td>0.006594</td>\n",
       "      <td>0.009346</td>\n",
       "      <td>NaN</td>\n",
       "      <td>0.001687</td>\n",
       "    </tr>\n",
       "    <tr>\n",
       "      <th>phone_iPhone</th>\n",
       "      <td>-0.025030</td>\n",
       "      <td>-0.009564</td>\n",
       "      <td>-0.023549</td>\n",
       "      <td>0.011104</td>\n",
       "      <td>0.012851</td>\n",
       "      <td>0.058342</td>\n",
       "      <td>0.006726</td>\n",
       "      <td>0.231391</td>\n",
       "      <td>-0.024539</td>\n",
       "      <td>0.060520</td>\n",
       "      <td>-0.025618</td>\n",
       "      <td>-0.981471</td>\n",
       "      <td>1.000000</td>\n",
       "      <td>-0.067002</td>\n",
       "      <td>0.067002</td>\n",
       "      <td>-0.005653</td>\n",
       "      <td>-0.008596</td>\n",
       "      <td>NaN</td>\n",
       "      <td>0.000858</td>\n",
       "    </tr>\n",
       "    <tr>\n",
       "      <th>ultimate_black_user_False</th>\n",
       "      <td>-0.032310</td>\n",
       "      <td>-0.009373</td>\n",
       "      <td>0.004007</td>\n",
       "      <td>0.078791</td>\n",
       "      <td>0.106861</td>\n",
       "      <td>-0.112210</td>\n",
       "      <td>-0.035998</td>\n",
       "      <td>-0.210259</td>\n",
       "      <td>-0.021259</td>\n",
       "      <td>-0.039649</td>\n",
       "      <td>0.051990</td>\n",
       "      <td>0.075836</td>\n",
       "      <td>-0.067002</td>\n",
       "      <td>1.000000</td>\n",
       "      <td>-1.000000</td>\n",
       "      <td>0.020937</td>\n",
       "      <td>0.012147</td>\n",
       "      <td>NaN</td>\n",
       "      <td>0.028193</td>\n",
       "    </tr>\n",
       "    <tr>\n",
       "      <th>ultimate_black_user_True</th>\n",
       "      <td>0.032310</td>\n",
       "      <td>0.009373</td>\n",
       "      <td>-0.004007</td>\n",
       "      <td>-0.078791</td>\n",
       "      <td>-0.106861</td>\n",
       "      <td>0.112210</td>\n",
       "      <td>0.035998</td>\n",
       "      <td>0.210259</td>\n",
       "      <td>0.021259</td>\n",
       "      <td>0.039649</td>\n",
       "      <td>-0.051990</td>\n",
       "      <td>-0.075836</td>\n",
       "      <td>0.067002</td>\n",
       "      <td>-1.000000</td>\n",
       "      <td>1.000000</td>\n",
       "      <td>-0.020937</td>\n",
       "      <td>-0.012147</td>\n",
       "      <td>NaN</td>\n",
       "      <td>-0.028193</td>\n",
       "    </tr>\n",
       "    <tr>\n",
       "      <th>weekday</th>\n",
       "      <td>-0.075210</td>\n",
       "      <td>-0.013338</td>\n",
       "      <td>-0.014472</td>\n",
       "      <td>0.069326</td>\n",
       "      <td>0.087000</td>\n",
       "      <td>-0.054833</td>\n",
       "      <td>-0.413138</td>\n",
       "      <td>-0.037842</td>\n",
       "      <td>0.008258</td>\n",
       "      <td>-0.032896</td>\n",
       "      <td>0.018716</td>\n",
       "      <td>0.006594</td>\n",
       "      <td>-0.005653</td>\n",
       "      <td>0.020937</td>\n",
       "      <td>-0.020937</td>\n",
       "      <td>1.000000</td>\n",
       "      <td>0.116912</td>\n",
       "      <td>NaN</td>\n",
       "      <td>0.828150</td>\n",
       "    </tr>\n",
       "    <tr>\n",
       "      <th>signup_weekday</th>\n",
       "      <td>-0.035514</td>\n",
       "      <td>-0.006033</td>\n",
       "      <td>-0.006575</td>\n",
       "      <td>0.040005</td>\n",
       "      <td>0.054375</td>\n",
       "      <td>-0.024120</td>\n",
       "      <td>-0.253798</td>\n",
       "      <td>-0.000908</td>\n",
       "      <td>0.016044</td>\n",
       "      <td>0.002740</td>\n",
       "      <td>-0.017337</td>\n",
       "      <td>0.009346</td>\n",
       "      <td>-0.008596</td>\n",
       "      <td>0.012147</td>\n",
       "      <td>-0.012147</td>\n",
       "      <td>0.116912</td>\n",
       "      <td>1.000000</td>\n",
       "      <td>NaN</td>\n",
       "      <td>0.143604</td>\n",
       "    </tr>\n",
       "    <tr>\n",
       "      <th>signup_month</th>\n",
       "      <td>NaN</td>\n",
       "      <td>NaN</td>\n",
       "      <td>NaN</td>\n",
       "      <td>NaN</td>\n",
       "      <td>NaN</td>\n",
       "      <td>NaN</td>\n",
       "      <td>NaN</td>\n",
       "      <td>NaN</td>\n",
       "      <td>NaN</td>\n",
       "      <td>NaN</td>\n",
       "      <td>NaN</td>\n",
       "      <td>NaN</td>\n",
       "      <td>NaN</td>\n",
       "      <td>NaN</td>\n",
       "      <td>NaN</td>\n",
       "      <td>NaN</td>\n",
       "      <td>NaN</td>\n",
       "      <td>NaN</td>\n",
       "      <td>NaN</td>\n",
       "    </tr>\n",
       "    <tr>\n",
       "      <th>weekend</th>\n",
       "      <td>-0.101349</td>\n",
       "      <td>-0.019784</td>\n",
       "      <td>-0.013387</td>\n",
       "      <td>0.079484</td>\n",
       "      <td>0.102915</td>\n",
       "      <td>-0.031129</td>\n",
       "      <td>-0.565248</td>\n",
       "      <td>-0.013336</td>\n",
       "      <td>-0.004621</td>\n",
       "      <td>-0.020708</td>\n",
       "      <td>0.021041</td>\n",
       "      <td>0.001687</td>\n",
       "      <td>0.000858</td>\n",
       "      <td>0.028193</td>\n",
       "      <td>-0.028193</td>\n",
       "      <td>0.828150</td>\n",
       "      <td>0.143604</td>\n",
       "      <td>NaN</td>\n",
       "      <td>1.000000</td>\n",
       "    </tr>\n",
       "  </tbody>\n",
       "</table>\n",
       "</div>"
      ],
      "text/plain": [
       "                           avg_dist  avg_rating_by_driver  \\\n",
       "avg_dist                   1.000000              0.079562   \n",
       "avg_rating_by_driver       0.079562              1.000000   \n",
       "avg_rating_of_driver       0.019774              0.093993   \n",
       "avg_surge                 -0.081491              0.010235   \n",
       "surge_pct                 -0.104414              0.019691   \n",
       "trips_in_first_30_days    -0.136329             -0.039044   \n",
       "weekday_pct                0.101652              0.020326   \n",
       "retained                  -0.090279             -0.025590   \n",
       "city_Astapor              -0.045431              0.032564   \n",
       "city_King's Landing        0.015877              0.084439   \n",
       "city_Winterfell            0.030050             -0.098738   \n",
       "phone_Android              0.020888              0.008224   \n",
       "phone_iPhone              -0.025030             -0.009564   \n",
       "ultimate_black_user_False -0.032310             -0.009373   \n",
       "ultimate_black_user_True   0.032310              0.009373   \n",
       "weekday                   -0.075210             -0.013338   \n",
       "signup_weekday            -0.035514             -0.006033   \n",
       "signup_month                    NaN                   NaN   \n",
       "weekend                   -0.101349             -0.019784   \n",
       "\n",
       "                           avg_rating_of_driver  avg_surge  surge_pct  \\\n",
       "avg_dist                               0.019774  -0.081491  -0.104414   \n",
       "avg_rating_by_driver                   0.093993   0.010235   0.019691   \n",
       "avg_rating_of_driver                   1.000000  -0.018889  -0.003313   \n",
       "avg_surge                             -0.018889   1.000000   0.793582   \n",
       "surge_pct                             -0.003313   0.793582   1.000000   \n",
       "trips_in_first_30_days                -0.009195  -0.001841   0.005720   \n",
       "weekday_pct                            0.012999  -0.110071  -0.144918   \n",
       "retained                              -0.008705  -0.003567   0.010612   \n",
       "city_Astapor                           0.027602   0.037172   0.045457   \n",
       "city_King's Landing                    0.075139  -0.009198   0.028221   \n",
       "city_Winterfell                       -0.086565  -0.027643  -0.065603   \n",
       "phone_Android                          0.024325  -0.008977  -0.010150   \n",
       "phone_iPhone                          -0.023549   0.011104   0.012851   \n",
       "ultimate_black_user_False              0.004007   0.078791   0.106861   \n",
       "ultimate_black_user_True              -0.004007  -0.078791  -0.106861   \n",
       "weekday                               -0.014472   0.069326   0.087000   \n",
       "signup_weekday                        -0.006575   0.040005   0.054375   \n",
       "signup_month                                NaN        NaN        NaN   \n",
       "weekend                               -0.013387   0.079484   0.102915   \n",
       "\n",
       "                           trips_in_first_30_days  weekday_pct  retained  \\\n",
       "avg_dist                                -0.136329     0.101652 -0.090279   \n",
       "avg_rating_by_driver                    -0.039044     0.020326 -0.025590   \n",
       "avg_rating_of_driver                    -0.009195     0.012999 -0.008705   \n",
       "avg_surge                               -0.001841    -0.110071 -0.003567   \n",
       "surge_pct                                0.005720    -0.144918  0.010612   \n",
       "trips_in_first_30_days                   1.000000     0.050388  0.214728   \n",
       "weekday_pct                              0.050388     1.000000  0.026413   \n",
       "retained                                 0.214728     0.026413  1.000000   \n",
       "city_Astapor                            -0.061075    -0.010540 -0.179373   \n",
       "city_King's Landing                      0.024650     0.031349  0.268272   \n",
       "city_Winterfell                          0.037735    -0.015318 -0.046985   \n",
       "phone_Android                           -0.059309    -0.009241 -0.231731   \n",
       "phone_iPhone                             0.058342     0.006726  0.231391   \n",
       "ultimate_black_user_False               -0.112210    -0.035998 -0.210259   \n",
       "ultimate_black_user_True                 0.112210     0.035998  0.210259   \n",
       "weekday                                 -0.054833    -0.413138 -0.037842   \n",
       "signup_weekday                          -0.024120    -0.253798 -0.000908   \n",
       "signup_month                                  NaN          NaN       NaN   \n",
       "weekend                                 -0.031129    -0.565248 -0.013336   \n",
       "\n",
       "                           city_Astapor  city_King's Landing  city_Winterfell  \\\n",
       "avg_dist                      -0.045431             0.015877         0.030050   \n",
       "avg_rating_by_driver           0.032564             0.084439        -0.098738   \n",
       "avg_rating_of_driver           0.027602             0.075139        -0.086565   \n",
       "avg_surge                      0.037172            -0.009198        -0.027643   \n",
       "surge_pct                      0.045457             0.028221        -0.065603   \n",
       "trips_in_first_30_days        -0.061075             0.024650         0.037735   \n",
       "weekday_pct                   -0.010540             0.031349        -0.015318   \n",
       "retained                      -0.179373             0.268272        -0.046985   \n",
       "city_Astapor                   1.000000            -0.354298        -0.657563   \n",
       "city_King's Landing           -0.354298             1.000000        -0.471555   \n",
       "city_Winterfell               -0.657563            -0.471555         1.000000   \n",
       "phone_Android                  0.025642            -0.059203         0.023517   \n",
       "phone_iPhone                  -0.024539             0.060520        -0.025618   \n",
       "ultimate_black_user_False     -0.021259            -0.039649         0.051990   \n",
       "ultimate_black_user_True       0.021259             0.039649        -0.051990   \n",
       "weekday                        0.008258            -0.032896         0.018716   \n",
       "signup_weekday                 0.016044             0.002740        -0.017337   \n",
       "signup_month                        NaN                  NaN              NaN   \n",
       "weekend                       -0.004621            -0.020708         0.021041   \n",
       "\n",
       "                           phone_Android  phone_iPhone  \\\n",
       "avg_dist                        0.020888     -0.025030   \n",
       "avg_rating_by_driver            0.008224     -0.009564   \n",
       "avg_rating_of_driver            0.024325     -0.023549   \n",
       "avg_surge                      -0.008977      0.011104   \n",
       "surge_pct                      -0.010150      0.012851   \n",
       "trips_in_first_30_days         -0.059309      0.058342   \n",
       "weekday_pct                    -0.009241      0.006726   \n",
       "retained                       -0.231731      0.231391   \n",
       "city_Astapor                    0.025642     -0.024539   \n",
       "city_King's Landing            -0.059203      0.060520   \n",
       "city_Winterfell                 0.023517     -0.025618   \n",
       "phone_Android                   1.000000     -0.981471   \n",
       "phone_iPhone                   -0.981471      1.000000   \n",
       "ultimate_black_user_False       0.075836     -0.067002   \n",
       "ultimate_black_user_True       -0.075836      0.067002   \n",
       "weekday                         0.006594     -0.005653   \n",
       "signup_weekday                  0.009346     -0.008596   \n",
       "signup_month                         NaN           NaN   \n",
       "weekend                         0.001687      0.000858   \n",
       "\n",
       "                           ultimate_black_user_False  \\\n",
       "avg_dist                                   -0.032310   \n",
       "avg_rating_by_driver                       -0.009373   \n",
       "avg_rating_of_driver                        0.004007   \n",
       "avg_surge                                   0.078791   \n",
       "surge_pct                                   0.106861   \n",
       "trips_in_first_30_days                     -0.112210   \n",
       "weekday_pct                                -0.035998   \n",
       "retained                                   -0.210259   \n",
       "city_Astapor                               -0.021259   \n",
       "city_King's Landing                        -0.039649   \n",
       "city_Winterfell                             0.051990   \n",
       "phone_Android                               0.075836   \n",
       "phone_iPhone                               -0.067002   \n",
       "ultimate_black_user_False                   1.000000   \n",
       "ultimate_black_user_True                   -1.000000   \n",
       "weekday                                     0.020937   \n",
       "signup_weekday                              0.012147   \n",
       "signup_month                                     NaN   \n",
       "weekend                                     0.028193   \n",
       "\n",
       "                           ultimate_black_user_True   weekday  signup_weekday  \\\n",
       "avg_dist                                   0.032310 -0.075210       -0.035514   \n",
       "avg_rating_by_driver                       0.009373 -0.013338       -0.006033   \n",
       "avg_rating_of_driver                      -0.004007 -0.014472       -0.006575   \n",
       "avg_surge                                 -0.078791  0.069326        0.040005   \n",
       "surge_pct                                 -0.106861  0.087000        0.054375   \n",
       "trips_in_first_30_days                     0.112210 -0.054833       -0.024120   \n",
       "weekday_pct                                0.035998 -0.413138       -0.253798   \n",
       "retained                                   0.210259 -0.037842       -0.000908   \n",
       "city_Astapor                               0.021259  0.008258        0.016044   \n",
       "city_King's Landing                        0.039649 -0.032896        0.002740   \n",
       "city_Winterfell                           -0.051990  0.018716       -0.017337   \n",
       "phone_Android                             -0.075836  0.006594        0.009346   \n",
       "phone_iPhone                               0.067002 -0.005653       -0.008596   \n",
       "ultimate_black_user_False                 -1.000000  0.020937        0.012147   \n",
       "ultimate_black_user_True                   1.000000 -0.020937       -0.012147   \n",
       "weekday                                   -0.020937  1.000000        0.116912   \n",
       "signup_weekday                            -0.012147  0.116912        1.000000   \n",
       "signup_month                                    NaN       NaN             NaN   \n",
       "weekend                                   -0.028193  0.828150        0.143604   \n",
       "\n",
       "                           signup_month   weekend  \n",
       "avg_dist                            NaN -0.101349  \n",
       "avg_rating_by_driver                NaN -0.019784  \n",
       "avg_rating_of_driver                NaN -0.013387  \n",
       "avg_surge                           NaN  0.079484  \n",
       "surge_pct                           NaN  0.102915  \n",
       "trips_in_first_30_days              NaN -0.031129  \n",
       "weekday_pct                         NaN -0.565248  \n",
       "retained                            NaN -0.013336  \n",
       "city_Astapor                        NaN -0.004621  \n",
       "city_King's Landing                 NaN -0.020708  \n",
       "city_Winterfell                     NaN  0.021041  \n",
       "phone_Android                       NaN  0.001687  \n",
       "phone_iPhone                        NaN  0.000858  \n",
       "ultimate_black_user_False           NaN  0.028193  \n",
       "ultimate_black_user_True            NaN -0.028193  \n",
       "weekday                             NaN  0.828150  \n",
       "signup_weekday                      NaN  0.143604  \n",
       "signup_month                        NaN       NaN  \n",
       "weekend                             NaN  1.000000  "
      ]
     },
     "execution_count": 194,
     "metadata": {},
     "output_type": "execute_result"
    }
   ],
   "source": [
    "dfModel.corr()\n",
    "#some mild issues with multicollinearity here"
   ]
  },
  {
   "cell_type": "code",
   "execution_count": 195,
   "metadata": {
    "collapsed": true
   },
   "outputs": [],
   "source": [
    "x = dfModel.drop(['retained'],axis=1)\n",
    "y = dfModel['retained']"
   ]
  },
  {
   "cell_type": "code",
   "execution_count": 196,
   "metadata": {
    "collapsed": true
   },
   "outputs": [],
   "source": [
    "X_train, X_test, y_train, y_test = train_test_split(x, y, test_size=0.3, random_state=42)"
   ]
  },
  {
   "cell_type": "code",
   "execution_count": 197,
   "metadata": {
    "collapsed": true
   },
   "outputs": [],
   "source": [
    "rfc = RandomForestClassifier()"
   ]
  },
  {
   "cell_type": "code",
   "execution_count": 198,
   "metadata": {
    "collapsed": false
   },
   "outputs": [
    {
     "data": {
      "text/plain": [
       "RandomForestClassifier(bootstrap=True, class_weight=None, criterion='gini',\n",
       "            max_depth=None, max_features='auto', max_leaf_nodes=None,\n",
       "            min_impurity_split=1e-07, min_samples_leaf=1,\n",
       "            min_samples_split=2, min_weight_fraction_leaf=0.0,\n",
       "            n_estimators=10, n_jobs=1, oob_score=False, random_state=None,\n",
       "            verbose=0, warm_start=False)"
      ]
     },
     "execution_count": 198,
     "metadata": {},
     "output_type": "execute_result"
    }
   ],
   "source": [
    "rfc.fit(X_train,y_train)"
   ]
  },
  {
   "cell_type": "code",
   "execution_count": 199,
   "metadata": {
    "collapsed": false
   },
   "outputs": [],
   "source": [
    "predictionsRF = rfc.predict(X_test)"
   ]
  },
  {
   "cell_type": "code",
   "execution_count": 200,
   "metadata": {
    "collapsed": false
   },
   "outputs": [
    {
     "name": "stdout",
     "output_type": "stream",
     "text": [
      "             precision    recall  f1-score   support\n",
      "\n",
      "          0       0.79      0.86      0.82      9523\n",
      "          1       0.71      0.60      0.65      5477\n",
      "\n",
      "avg / total       0.76      0.76      0.76     15000\n",
      "\n"
     ]
    }
   ],
   "source": [
    "print(classification_report(y_test,predictionsRF))"
   ]
  },
  {
   "cell_type": "code",
   "execution_count": 201,
   "metadata": {
    "collapsed": false
   },
   "outputs": [
    {
     "data": {
      "text/plain": [
       "array([[8174, 1349],\n",
       "       [2215, 3262]])"
      ]
     },
     "execution_count": 201,
     "metadata": {},
     "output_type": "execute_result"
    }
   ],
   "source": [
    "confusion_matrix(y_test, predictionsRF)"
   ]
  },
  {
   "cell_type": "code",
   "execution_count": 202,
   "metadata": {
    "collapsed": false
   },
   "outputs": [
    {
     "data": {
      "text/plain": [
       "<matplotlib.text.Text at 0x12049d320>"
      ]
     },
     "execution_count": 202,
     "metadata": {},
     "output_type": "execute_result"
    },
    {
     "data": {
      "image/png": "[encoded data removed]",
      "text/plain": [
       "<matplotlib.figure.Figure at 0x112e28518>"
      ]
     },
     "metadata": {},
     "output_type": "display_data"
    }
   ],
   "source": [
    "coefficientsRF = pd.DataFrame(rfc.feature_importances_,x.columns)\n",
    "coefficientsRF.columns = ['FeatureImportance']\n",
    "coefficientsRF=coefficientsRF.sort_values(by='FeatureImportance',ascending=True)\n",
    "coefficientsRF.plot.barh()\n",
    "plt.title('Random Forest Feature Importance')"
   ]
  },
  {
   "cell_type": "code",
   "execution_count": null,
   "metadata": {
    "collapsed": true
   },
   "outputs": [],
   "source": []
  }
 ],
 "metadata": {
  "kernelspec": {
   "display_name": "Python 3",
   "language": "python",
   "name": "python3"
  },
  "language_info": {
   "codemirror_mode": {
    "name": "ipython",
    "version": 3
   },
   "file_extension": ".py",
   "mimetype": "text/x-python",
   "name": "python",
   "nbconvert_exporter": "python",
   "pygments_lexer": "ipython3",
   "version": "3.6.0"
  }
 },
 "nbformat": 4,
 "nbformat_minor": 2
}
