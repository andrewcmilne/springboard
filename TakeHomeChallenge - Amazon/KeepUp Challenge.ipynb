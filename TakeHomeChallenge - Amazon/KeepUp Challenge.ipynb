{
 "cells": [
  {
   "cell_type": "code",
   "execution_count": 25,
   "metadata": {
    "collapsed": true
   },
   "outputs": [],
   "source": [
    "import pandas as pd\n",
    "\n",
    "import matplotlib.pyplot as plt\n",
    "import numpy as np\n",
    "import seaborn as sns\n",
    "\n",
    "%matplotlib inline"
   ]
  },
  {
   "cell_type": "code",
   "execution_count": 60,
   "metadata": {
    "collapsed": false
   },
   "outputs": [],
   "source": [
    "#Read file into a list\n",
    "fname = \"/Users/acmilne/Documents/Python-Data-Science-and-Machine-Learning-Bootcamp/KeepUp Challenge/amazon-meta.txt\"\n",
    "with open(fname, encoding = 'utf8') as f:\n",
    "    content = f.readlines()\n",
    "#after reading the lines and separating with , trim the spaces out\n",
    "content = [x.strip() for x in content] \n",
    " \n",
    "#Write to a new txt file using , as delimiter\n",
    "#Write the content into file only when all information are available. Hence,\n",
    "#If the data isn't complete it won't be written\n",
    "\n",
    "file = open(\"testfile.txt\",\"w\", encoding='utf8') #open a new text file\n",
    "columns = ['Id','ASIN', 'title', 'group','salesrank', 'categories', 'totalreviews', 'avgrating'] #setup the columns\n",
    "for line in content: #loop through the lines stripped from the raw file\n",
    "    lines = line.split(':')\n",
    "    if lines[0] == \"Id\":\n",
    "        if (len(columns) == 8):\n",
    "            for component in columns[0:7]:\n",
    "                file.write(component)\n",
    "                file.write(',')\n",
    "            file.write(columns[7])\n",
    "            file.write(\"\\n\")\n",
    "        columns = []\n",
    "        columns.append(lines[1].strip())\n",
    "         \n",
    "    if lines[0] == \"ASIN\":\n",
    "        columns.append(lines[1].strip())\n",
    "        \n",
    "    if lines[0] == \"title\":\n",
    "        title = ':'.join(lines[1:]).strip().replace(',', ' ').replace('\\n', ' ').strip()\n",
    "        columns.append(title)\n",
    "        \n",
    "    if lines[0] == \"group\":\n",
    "        columns.append(lines[1].strip())\n",
    "        \n",
    "    if lines[0] == \"salesrank\":\n",
    "        columns.append(lines[1].strip()) \n",
    "        \n",
    "    if lines[0] == \"categories\":\n",
    "        columns.append(lines[1].strip())\n",
    "        \n",
    "    if lines[0] == \"reviews\" and lines[1].strip() == \"total\":\n",
    "        columns.append(lines[2].split(' ')[1])\n",
    "        columns.append(lines[4].strip())\n",
    "file.close()"
   ]
  },
  {
   "cell_type": "code",
   "execution_count": 97,
   "metadata": {
    "collapsed": false
   },
   "outputs": [],
   "source": [
    "#get the values of the IDs and categories\n",
    "#prodid=[]\n",
    "cat=[]\n",
    "#catdict={}\n",
    "for line in content:\n",
    "#    lines = line.split(':')\n",
    "#    if lines[0] == \"Id\":\n",
    "#        cat.append(lines[1].strip())\n",
    "    a=re.findall(r'\\[(\\w+)\\]',line)\n",
    "    if a:\n",
    "        cat.append(a)"
   ]
  },
  {
   "cell_type": "code",
   "execution_count": 99,
   "metadata": {
    "collapsed": false
   },
   "outputs": [],
   "source": [
    "#get the names of the IDs categories\n",
    "#prodid=[]\n",
    "catName=[]\n",
    "#catdict={}\n",
    "for line in content:\n",
    "#    lines = line.split(':')\n",
    "#    if lines[0] == \"Id\":\n",
    "#        catName.append(lines[1].strip())\n",
    "    a=re.findall(r'\\|(\\w+)',line)\n",
    "    if a:\n",
    "        catName.append(a)"
   ]
  },
  {
   "cell_type": "code",
   "execution_count": 98,
   "metadata": {
    "collapsed": false
   },
   "outputs": [
    {
     "data": {
      "text/html": [
       "<div>\n",
       "<style>\n",
       "    .dataframe thead tr:only-child th {\n",
       "        text-align: right;\n",
       "    }\n",
       "\n",
       "    .dataframe thead th {\n",
       "        text-align: left;\n",
       "    }\n",
       "\n",
       "    .dataframe tbody tr th {\n",
       "        vertical-align: top;\n",
       "    }\n",
       "</style>\n",
       "<table border=\"1\" class=\"dataframe\">\n",
       "  <thead>\n",
       "    <tr style=\"text-align: right;\">\n",
       "      <th></th>\n",
       "      <th>col</th>\n",
       "    </tr>\n",
       "  </thead>\n",
       "  <tbody>\n",
       "    <tr>\n",
       "      <th>0</th>\n",
       "      <td>[283155, 1000, 22, 12290, 12360, 12368]</td>\n",
       "    </tr>\n",
       "    <tr>\n",
       "      <th>1</th>\n",
       "      <td>[283155, 1000, 22, 12290, 12360, 12370]</td>\n",
       "    </tr>\n",
       "    <tr>\n",
       "      <th>2</th>\n",
       "      <td>[283155, 1000, 22, 12472, 12484]</td>\n",
       "    </tr>\n",
       "    <tr>\n",
       "      <th>3</th>\n",
       "      <td>[283155, 1000, 22, 12472, 12486]</td>\n",
       "    </tr>\n",
       "    <tr>\n",
       "      <th>4</th>\n",
       "      <td>[283155, 1000, 48, 5126, 5144]</td>\n",
       "    </tr>\n",
       "  </tbody>\n",
       "</table>\n",
       "</div>"
      ],
      "text/plain": [
       "                                       col\n",
       "0  [283155, 1000, 22, 12290, 12360, 12368]\n",
       "1  [283155, 1000, 22, 12290, 12360, 12370]\n",
       "2         [283155, 1000, 22, 12472, 12484]\n",
       "3         [283155, 1000, 22, 12472, 12486]\n",
       "4           [283155, 1000, 48, 5126, 5144]"
      ]
     },
     "execution_count": 98,
     "metadata": {},
     "output_type": "execute_result"
    }
   ],
   "source": [
    "dfcatVal = pd.DataFrame({'col':cat})\n",
    "dfcatVal.head(5)"
   ]
  },
  {
   "cell_type": "code",
   "execution_count": 141,
   "metadata": {
    "collapsed": false,
    "scrolled": true
   },
   "outputs": [
    {
     "data": {
      "text/html": [
       "<div>\n",
       "<style>\n",
       "    .dataframe thead tr:only-child th {\n",
       "        text-align: right;\n",
       "    }\n",
       "\n",
       "    .dataframe thead th {\n",
       "        text-align: left;\n",
       "    }\n",
       "\n",
       "    .dataframe tbody tr th {\n",
       "        vertical-align: top;\n",
       "    }\n",
       "</style>\n",
       "<table border=\"1\" class=\"dataframe\">\n",
       "  <thead>\n",
       "    <tr style=\"text-align: right;\">\n",
       "      <th></th>\n",
       "      <th>col</th>\n",
       "    </tr>\n",
       "  </thead>\n",
       "  <tbody>\n",
       "    <tr>\n",
       "      <th>0</th>\n",
       "      <td>[Books, Subjects, Religion, Christianity, Cler...</td>\n",
       "    </tr>\n",
       "    <tr>\n",
       "      <th>1</th>\n",
       "      <td>[Books, Subjects, Religion, Christianity, Cler...</td>\n",
       "    </tr>\n",
       "    <tr>\n",
       "      <th>2</th>\n",
       "      <td>[Books, Subjects, Religion, Earth, Wicca]</td>\n",
       "    </tr>\n",
       "    <tr>\n",
       "      <th>3</th>\n",
       "      <td>[Books, Subjects, Religion, Earth, Witchcraft]</td>\n",
       "    </tr>\n",
       "    <tr>\n",
       "      <th>4</th>\n",
       "      <td>[Books, Subjects, Home, Crafts, General]</td>\n",
       "    </tr>\n",
       "    <tr>\n",
       "      <th>5</th>\n",
       "      <td>[Books, Subjects, Religion, Christianity, Refe...</td>\n",
       "    </tr>\n",
       "    <tr>\n",
       "      <th>6</th>\n",
       "      <td>[Books, Subjects, Religion, Christianity, Chri...</td>\n",
       "    </tr>\n",
       "    <tr>\n",
       "      <th>7</th>\n",
       "      <td>[Books, Subjects, Religion, Christianity, Bibl...</td>\n",
       "    </tr>\n",
       "    <tr>\n",
       "      <th>8</th>\n",
       "      <td>[Books, Subjects, Religion, Bible, Bible, New]</td>\n",
       "    </tr>\n",
       "    <tr>\n",
       "      <th>9</th>\n",
       "      <td>[Books, Subjects, Religion, Christianity, Bibl...</td>\n",
       "    </tr>\n",
       "    <tr>\n",
       "      <th>10</th>\n",
       "      <td>[Books, Subjects, Religion, Christianity, Wors...</td>\n",
       "    </tr>\n",
       "    <tr>\n",
       "      <th>11</th>\n",
       "      <td>[Books, Subjects, Religion, Christianity, Chri...</td>\n",
       "    </tr>\n",
       "    <tr>\n",
       "      <th>12</th>\n",
       "      <td>[Books, Subjects, Arts, Photography, Photo]</td>\n",
       "    </tr>\n",
       "    <tr>\n",
       "      <th>13</th>\n",
       "      <td>[Books, Subjects, History, Americas, United, G...</td>\n",
       "    </tr>\n",
       "    <tr>\n",
       "      <th>14</th>\n",
       "      <td>[Books, Subjects, History, Jewish, General]</td>\n",
       "    </tr>\n",
       "    <tr>\n",
       "      <th>15</th>\n",
       "      <td>[Books, Subjects, Nonfiction, Social, Sociolog...</td>\n",
       "    </tr>\n",
       "    <tr>\n",
       "      <th>16</th>\n",
       "      <td>[Categories, Camera, Photography, Photo]</td>\n",
       "    </tr>\n",
       "    <tr>\n",
       "      <th>17</th>\n",
       "      <td>[Music, Styles, Jazz, General]</td>\n",
       "    </tr>\n",
       "    <tr>\n",
       "      <th>18</th>\n",
       "      <td>[Music, Styles, Jazz, Modern]</td>\n",
       "    </tr>\n",
       "    <tr>\n",
       "      <th>19</th>\n",
       "      <td>[Music, Specialty, Imports, Jazz]</td>\n",
       "    </tr>\n",
       "    <tr>\n",
       "      <th>20</th>\n",
       "      <td>[Books, Subjects, Gay, Nonfiction, General]</td>\n",
       "    </tr>\n",
       "    <tr>\n",
       "      <th>21</th>\n",
       "      <td>[Books, Subjects, Nonfiction, Crime, Criminology]</td>\n",
       "    </tr>\n",
       "    <tr>\n",
       "      <th>22</th>\n",
       "      <td>[Books, Subjects, Nonfiction, Politics, General]</td>\n",
       "    </tr>\n",
       "    <tr>\n",
       "      <th>23</th>\n",
       "      <td>[Books, Subjects, Nonfiction, Politics, U]</td>\n",
       "    </tr>\n",
       "    <tr>\n",
       "      <th>24</th>\n",
       "      <td>[Books, Subjects, Cooking, Baking, Bread]</td>\n",
       "    </tr>\n",
       "    <tr>\n",
       "      <th>25</th>\n",
       "      <td>[Books, Subjects, Literature, History, Critici...</td>\n",
       "    </tr>\n",
       "    <tr>\n",
       "      <th>26</th>\n",
       "      <td>[Books, Subjects, Nonfiction, Politics, History]</td>\n",
       "    </tr>\n",
       "    <tr>\n",
       "      <th>27</th>\n",
       "      <td>[Books, Subjects, Nonfiction, Social, Anthropo...</td>\n",
       "    </tr>\n",
       "    <tr>\n",
       "      <th>28</th>\n",
       "      <td>[Books, Subjects, Health, Alternative, General]</td>\n",
       "    </tr>\n",
       "    <tr>\n",
       "      <th>29</th>\n",
       "      <td>[Books, Subjects, Medicine, Alternative, General]</td>\n",
       "    </tr>\n",
       "    <tr>\n",
       "      <th>...</th>\n",
       "      <td>...</td>\n",
       "    </tr>\n",
       "    <tr>\n",
       "      <th>2509671</th>\n",
       "      <td>[DVD, Actors, Bottoms]</td>\n",
       "    </tr>\n",
       "    <tr>\n",
       "      <th>2509672</th>\n",
       "      <td>[DVD, Actors, Delaney]</td>\n",
       "    </tr>\n",
       "    <tr>\n",
       "      <th>2509673</th>\n",
       "      <td>[DVD, Actors, Willette]</td>\n",
       "    </tr>\n",
       "    <tr>\n",
       "      <th>2509674</th>\n",
       "      <td>[DVD, Directors]</td>\n",
       "    </tr>\n",
       "    <tr>\n",
       "      <th>2509675</th>\n",
       "      <td>[DVD, Special, Today, Deals]</td>\n",
       "    </tr>\n",
       "    <tr>\n",
       "      <th>2509676</th>\n",
       "      <td>[DVD, Special, Titles]</td>\n",
       "    </tr>\n",
       "    <tr>\n",
       "      <th>2509677</th>\n",
       "      <td>[DVD, Genres, Mystery, Crime, General]</td>\n",
       "    </tr>\n",
       "    <tr>\n",
       "      <th>2509678</th>\n",
       "      <td>[Amazon, Amazon, Categories, DVD, Deals]</td>\n",
       "    </tr>\n",
       "    <tr>\n",
       "      <th>2509679</th>\n",
       "      <td>[DVD, Special, Today, All]</td>\n",
       "    </tr>\n",
       "    <tr>\n",
       "      <th>2509680</th>\n",
       "      <td>[DVD, Special, Today, Drama, General]</td>\n",
       "    </tr>\n",
       "    <tr>\n",
       "      <th>2509681</th>\n",
       "      <td>[Amazon, Amazon, Categories, DVD, Drama, General]</td>\n",
       "    </tr>\n",
       "    <tr>\n",
       "      <th>2509682</th>\n",
       "      <td>[Amazon, Amazon, Categories, DVD, All]</td>\n",
       "    </tr>\n",
       "    <tr>\n",
       "      <th>2509683</th>\n",
       "      <td>[DVD, Genres, Art, General]</td>\n",
       "    </tr>\n",
       "    <tr>\n",
       "      <th>2509684</th>\n",
       "      <td>[DVD, Genres, Comedy, General]</td>\n",
       "    </tr>\n",
       "    <tr>\n",
       "      <th>2509685</th>\n",
       "      <td>[DVD, Specialty, Independently, Art]</td>\n",
       "    </tr>\n",
       "    <tr>\n",
       "      <th>2509686</th>\n",
       "      <td>[DVD, Special, Titles]</td>\n",
       "    </tr>\n",
       "    <tr>\n",
       "      <th>2509687</th>\n",
       "      <td>[DVD, Genres, Animation, General]</td>\n",
       "    </tr>\n",
       "    <tr>\n",
       "      <th>2509688</th>\n",
       "      <td>[DVD, Specialty, Independently, Comedy]</td>\n",
       "    </tr>\n",
       "    <tr>\n",
       "      <th>2509689</th>\n",
       "      <td>[Books, Subjects, Nonfiction, Social, Sociolog...</td>\n",
       "    </tr>\n",
       "    <tr>\n",
       "      <th>2509690</th>\n",
       "      <td>[Books, Subjects, Religion, Christianity, Cath...</td>\n",
       "    </tr>\n",
       "    <tr>\n",
       "      <th>2509691</th>\n",
       "      <td>[Books, Subjects, Science, History, General]</td>\n",
       "    </tr>\n",
       "    <tr>\n",
       "      <th>2509692</th>\n",
       "      <td>[DVD, Genres, Music, General]</td>\n",
       "    </tr>\n",
       "    <tr>\n",
       "      <th>2509693</th>\n",
       "      <td>[DVD, Special, Today, Deals]</td>\n",
       "    </tr>\n",
       "    <tr>\n",
       "      <th>2509694</th>\n",
       "      <td>[Amazon, Amazon, Categories, DVD, Deals]</td>\n",
       "    </tr>\n",
       "    <tr>\n",
       "      <th>2509695</th>\n",
       "      <td>[Music, Styles, Miscellaneous, Nostalgia]</td>\n",
       "    </tr>\n",
       "    <tr>\n",
       "      <th>2509696</th>\n",
       "      <td>[Music, Styles, Broadway, Classic]</td>\n",
       "    </tr>\n",
       "    <tr>\n",
       "      <th>2509697</th>\n",
       "      <td>[Music, Styles, Broadway, Traditional]</td>\n",
       "    </tr>\n",
       "    <tr>\n",
       "      <th>2509698</th>\n",
       "      <td>[Music, Styles, Pop, Vocal, General]</td>\n",
       "    </tr>\n",
       "    <tr>\n",
       "      <th>2509699</th>\n",
       "      <td>[Music, Styles, Pop, Vocal, Classic]</td>\n",
       "    </tr>\n",
       "    <tr>\n",
       "      <th>2509700</th>\n",
       "      <td>[Music, Styles, Broadway, General]</td>\n",
       "    </tr>\n",
       "  </tbody>\n",
       "</table>\n",
       "<p>2509701 rows × 1 columns</p>\n",
       "</div>"
      ],
      "text/plain": [
       "                                                       col\n",
       "0        [Books, Subjects, Religion, Christianity, Cler...\n",
       "1        [Books, Subjects, Religion, Christianity, Cler...\n",
       "2                [Books, Subjects, Religion, Earth, Wicca]\n",
       "3           [Books, Subjects, Religion, Earth, Witchcraft]\n",
       "4                 [Books, Subjects, Home, Crafts, General]\n",
       "5        [Books, Subjects, Religion, Christianity, Refe...\n",
       "6        [Books, Subjects, Religion, Christianity, Chri...\n",
       "7        [Books, Subjects, Religion, Christianity, Bibl...\n",
       "8           [Books, Subjects, Religion, Bible, Bible, New]\n",
       "9        [Books, Subjects, Religion, Christianity, Bibl...\n",
       "10       [Books, Subjects, Religion, Christianity, Wors...\n",
       "11       [Books, Subjects, Religion, Christianity, Chri...\n",
       "12             [Books, Subjects, Arts, Photography, Photo]\n",
       "13       [Books, Subjects, History, Americas, United, G...\n",
       "14             [Books, Subjects, History, Jewish, General]\n",
       "15       [Books, Subjects, Nonfiction, Social, Sociolog...\n",
       "16                [Categories, Camera, Photography, Photo]\n",
       "17                          [Music, Styles, Jazz, General]\n",
       "18                           [Music, Styles, Jazz, Modern]\n",
       "19                       [Music, Specialty, Imports, Jazz]\n",
       "20             [Books, Subjects, Gay, Nonfiction, General]\n",
       "21       [Books, Subjects, Nonfiction, Crime, Criminology]\n",
       "22        [Books, Subjects, Nonfiction, Politics, General]\n",
       "23              [Books, Subjects, Nonfiction, Politics, U]\n",
       "24               [Books, Subjects, Cooking, Baking, Bread]\n",
       "25       [Books, Subjects, Literature, History, Critici...\n",
       "26        [Books, Subjects, Nonfiction, Politics, History]\n",
       "27       [Books, Subjects, Nonfiction, Social, Anthropo...\n",
       "28         [Books, Subjects, Health, Alternative, General]\n",
       "29       [Books, Subjects, Medicine, Alternative, General]\n",
       "...                                                    ...\n",
       "2509671                             [DVD, Actors, Bottoms]\n",
       "2509672                             [DVD, Actors, Delaney]\n",
       "2509673                            [DVD, Actors, Willette]\n",
       "2509674                                   [DVD, Directors]\n",
       "2509675                       [DVD, Special, Today, Deals]\n",
       "2509676                             [DVD, Special, Titles]\n",
       "2509677             [DVD, Genres, Mystery, Crime, General]\n",
       "2509678           [Amazon, Amazon, Categories, DVD, Deals]\n",
       "2509679                         [DVD, Special, Today, All]\n",
       "2509680              [DVD, Special, Today, Drama, General]\n",
       "2509681  [Amazon, Amazon, Categories, DVD, Drama, General]\n",
       "2509682             [Amazon, Amazon, Categories, DVD, All]\n",
       "2509683                        [DVD, Genres, Art, General]\n",
       "2509684                     [DVD, Genres, Comedy, General]\n",
       "2509685               [DVD, Specialty, Independently, Art]\n",
       "2509686                             [DVD, Special, Titles]\n",
       "2509687                  [DVD, Genres, Animation, General]\n",
       "2509688            [DVD, Specialty, Independently, Comedy]\n",
       "2509689  [Books, Subjects, Nonfiction, Social, Sociolog...\n",
       "2509690  [Books, Subjects, Religion, Christianity, Cath...\n",
       "2509691       [Books, Subjects, Science, History, General]\n",
       "2509692                      [DVD, Genres, Music, General]\n",
       "2509693                       [DVD, Special, Today, Deals]\n",
       "2509694           [Amazon, Amazon, Categories, DVD, Deals]\n",
       "2509695          [Music, Styles, Miscellaneous, Nostalgia]\n",
       "2509696                 [Music, Styles, Broadway, Classic]\n",
       "2509697             [Music, Styles, Broadway, Traditional]\n",
       "2509698               [Music, Styles, Pop, Vocal, General]\n",
       "2509699               [Music, Styles, Pop, Vocal, Classic]\n",
       "2509700                 [Music, Styles, Broadway, General]\n",
       "\n",
       "[2509701 rows x 1 columns]"
      ]
     },
     "execution_count": 141,
     "metadata": {},
     "output_type": "execute_result"
    }
   ],
   "source": [
    "dfcatName = pd.DataFrame({'col':catName})\n",
    "dfcatName"
   ]
  },
  {
   "cell_type": "code",
   "execution_count": 76,
   "metadata": {
    "collapsed": false
   },
   "outputs": [],
   "source": [
    "#dfcatName=dfcatName.loc[dfcatName['col'].str.len()>6]"
   ]
  },
  {
   "cell_type": "code",
   "execution_count": 101,
   "metadata": {
    "collapsed": false
   },
   "outputs": [],
   "source": [
    "dfcatName['stringCount']=dfcatName['col'].str.len()"
   ]
  },
  {
   "cell_type": "code",
   "execution_count": 104,
   "metadata": {
    "collapsed": false
   },
   "outputs": [],
   "source": [
    "uniqueCat = np.unique(dfcatName['col'])"
   ]
  },
  {
   "cell_type": "code",
   "execution_count": 112,
   "metadata": {
    "collapsed": false
   },
   "outputs": [
    {
     "data": {
      "text/plain": [
       "(35406,)"
      ]
     },
     "execution_count": 112,
     "metadata": {},
     "output_type": "execute_result"
    }
   ],
   "source": [
    "uniqueCat.shape"
   ]
  },
  {
   "cell_type": "code",
   "execution_count": 114,
   "metadata": {
    "collapsed": false,
    "scrolled": true
   },
   "outputs": [
    {
     "data": {
      "text/plain": [
       "array([list(['3D']), list(['Age', '12', 'Activities', 'All']),\n",
       "       list(['Age', '12', 'Arts', 'All']), ...,\n",
       "       list(['VHS', 'Specialty', 'Yoga', 'Yoga', 'Gaiam']),\n",
       "       list(['VHS', 'Specialty', 'Yoga', 'Yoga', 'Yoga']), list(['XSI'])], dtype=object)"
      ]
     },
     "execution_count": 114,
     "metadata": {},
     "output_type": "execute_result"
    }
   ],
   "source": [
    "uniqueCat"
   ]
  },
  {
   "cell_type": "code",
   "execution_count": 31,
   "metadata": {
    "collapsed": true
   },
   "outputs": [],
   "source": [
    "dfTest = pd.read_csv('/Users/acmilne/Documents/Python-Data-Science-and-Machine-Learning-Bootcamp/KeepUp Challenge/testfile.txt',sep=',')"
   ]
  },
  {
   "cell_type": "code",
   "execution_count": 32,
   "metadata": {
    "collapsed": false
   },
   "outputs": [
    {
     "data": {
      "text/html": [
       "<div>\n",
       "<style>\n",
       "    .dataframe thead tr:only-child th {\n",
       "        text-align: right;\n",
       "    }\n",
       "\n",
       "    .dataframe thead th {\n",
       "        text-align: left;\n",
       "    }\n",
       "\n",
       "    .dataframe tbody tr th {\n",
       "        vertical-align: top;\n",
       "    }\n",
       "</style>\n",
       "<table border=\"1\" class=\"dataframe\">\n",
       "  <thead>\n",
       "    <tr style=\"text-align: right;\">\n",
       "      <th></th>\n",
       "      <th>Id</th>\n",
       "      <th>ASIN</th>\n",
       "      <th>title</th>\n",
       "      <th>group</th>\n",
       "      <th>salesrank</th>\n",
       "      <th>categories</th>\n",
       "      <th>totalreviews</th>\n",
       "      <th>avgrating</th>\n",
       "    </tr>\n",
       "  </thead>\n",
       "  <tbody>\n",
       "    <tr>\n",
       "      <th>0</th>\n",
       "      <td>1</td>\n",
       "      <td>0827229534</td>\n",
       "      <td>Patterns of Preaching: A Sermon Sampler</td>\n",
       "      <td>Book</td>\n",
       "      <td>396585</td>\n",
       "      <td>2</td>\n",
       "      <td>2</td>\n",
       "      <td>5.0</td>\n",
       "    </tr>\n",
       "    <tr>\n",
       "      <th>1</th>\n",
       "      <td>2</td>\n",
       "      <td>0738700797</td>\n",
       "      <td>Candlemas: Feast of Flames</td>\n",
       "      <td>Book</td>\n",
       "      <td>168596</td>\n",
       "      <td>2</td>\n",
       "      <td>12</td>\n",
       "      <td>4.5</td>\n",
       "    </tr>\n",
       "    <tr>\n",
       "      <th>2</th>\n",
       "      <td>3</td>\n",
       "      <td>0486287785</td>\n",
       "      <td>World War II Allied Fighter Planes Trading Cards</td>\n",
       "      <td>Book</td>\n",
       "      <td>1270652</td>\n",
       "      <td>1</td>\n",
       "      <td>1</td>\n",
       "      <td>5.0</td>\n",
       "    </tr>\n",
       "    <tr>\n",
       "      <th>3</th>\n",
       "      <td>4</td>\n",
       "      <td>0842328327</td>\n",
       "      <td>Life Application Bible Commentary: 1 and 2 Tim...</td>\n",
       "      <td>Book</td>\n",
       "      <td>631289</td>\n",
       "      <td>5</td>\n",
       "      <td>1</td>\n",
       "      <td>4.0</td>\n",
       "    </tr>\n",
       "    <tr>\n",
       "      <th>4</th>\n",
       "      <td>5</td>\n",
       "      <td>1577943082</td>\n",
       "      <td>Prayers That Avail Much for Business: Executive</td>\n",
       "      <td>Book</td>\n",
       "      <td>455160</td>\n",
       "      <td>2</td>\n",
       "      <td>0</td>\n",
       "      <td>0.0</td>\n",
       "    </tr>\n",
       "  </tbody>\n",
       "</table>\n",
       "</div>"
      ],
      "text/plain": [
       "   Id        ASIN                                              title group  \\\n",
       "0   1  0827229534            Patterns of Preaching: A Sermon Sampler  Book   \n",
       "1   2  0738700797                         Candlemas: Feast of Flames  Book   \n",
       "2   3  0486287785   World War II Allied Fighter Planes Trading Cards  Book   \n",
       "3   4  0842328327  Life Application Bible Commentary: 1 and 2 Tim...  Book   \n",
       "4   5  1577943082    Prayers That Avail Much for Business: Executive  Book   \n",
       "\n",
       "   salesrank  categories  totalreviews  avgrating  \n",
       "0     396585           2             2        5.0  \n",
       "1     168596           2            12        4.5  \n",
       "2    1270652           1             1        5.0  \n",
       "3     631289           5             1        4.0  \n",
       "4     455160           2             0        0.0  "
      ]
     },
     "execution_count": 32,
     "metadata": {},
     "output_type": "execute_result"
    }
   ],
   "source": [
    "dfTest.head()"
   ]
  },
  {
   "cell_type": "code",
   "execution_count": 33,
   "metadata": {
    "collapsed": false
   },
   "outputs": [
    {
     "name": "stdout",
     "output_type": "stream",
     "text": [
      "<class 'pandas.core.frame.DataFrame'>\n",
      "RangeIndex: 542683 entries, 0 to 542682\n",
      "Data columns (total 8 columns):\n",
      "Id              542683 non-null int64\n",
      "ASIN            542683 non-null object\n",
      "title           542683 non-null object\n",
      "group           542683 non-null object\n",
      "salesrank       542683 non-null int64\n",
      "categories      542683 non-null int64\n",
      "totalreviews    542683 non-null int64\n",
      "avgrating       542683 non-null float64\n",
      "dtypes: float64(1), int64(4), object(3)\n",
      "memory usage: 33.1+ MB\n"
     ]
    }
   ],
   "source": [
    "dfTest.info()"
   ]
  },
  {
   "cell_type": "code",
   "execution_count": 37,
   "metadata": {
    "collapsed": false
   },
   "outputs": [
    {
     "data": {
      "text/html": [
       "<div>\n",
       "<style>\n",
       "    .dataframe thead tr:only-child th {\n",
       "        text-align: right;\n",
       "    }\n",
       "\n",
       "    .dataframe thead th {\n",
       "        text-align: left;\n",
       "    }\n",
       "\n",
       "    .dataframe tbody tr th {\n",
       "        vertical-align: top;\n",
       "    }\n",
       "</style>\n",
       "<table border=\"1\" class=\"dataframe\">\n",
       "  <thead>\n",
       "    <tr style=\"text-align: right;\">\n",
       "      <th></th>\n",
       "      <th>Id</th>\n",
       "      <th>salesrank</th>\n",
       "      <th>categories</th>\n",
       "      <th>totalreviews</th>\n",
       "      <th>avgrating</th>\n",
       "    </tr>\n",
       "  </thead>\n",
       "  <tbody>\n",
       "    <tr>\n",
       "      <th>count</th>\n",
       "      <td>542683.000000</td>\n",
       "      <td>5.426830e+05</td>\n",
       "      <td>542683.000000</td>\n",
       "      <td>542683.000000</td>\n",
       "      <td>542683.000000</td>\n",
       "    </tr>\n",
       "    <tr>\n",
       "      <th>mean</th>\n",
       "      <td>274413.707057</td>\n",
       "      <td>4.893252e+05</td>\n",
       "      <td>4.624602</td>\n",
       "      <td>14.339843</td>\n",
       "      <td>3.209531</td>\n",
       "    </tr>\n",
       "    <tr>\n",
       "      <th>std</th>\n",
       "      <td>158454.188293</td>\n",
       "      <td>5.677231e+05</td>\n",
       "      <td>4.450651</td>\n",
       "      <td>74.768436</td>\n",
       "      <td>1.996296</td>\n",
       "    </tr>\n",
       "    <tr>\n",
       "      <th>min</th>\n",
       "      <td>1.000000</td>\n",
       "      <td>-1.000000e+00</td>\n",
       "      <td>0.000000</td>\n",
       "      <td>0.000000</td>\n",
       "      <td>0.000000</td>\n",
       "    </tr>\n",
       "    <tr>\n",
       "      <th>25%</th>\n",
       "      <td>137161.500000</td>\n",
       "      <td>9.074400e+04</td>\n",
       "      <td>2.000000</td>\n",
       "      <td>0.000000</td>\n",
       "      <td>0.000000</td>\n",
       "    </tr>\n",
       "    <tr>\n",
       "      <th>50%</th>\n",
       "      <td>274427.000000</td>\n",
       "      <td>3.004930e+05</td>\n",
       "      <td>4.000000</td>\n",
       "      <td>2.000000</td>\n",
       "      <td>4.000000</td>\n",
       "    </tr>\n",
       "    <tr>\n",
       "      <th>75%</th>\n",
       "      <td>411673.500000</td>\n",
       "      <td>6.720695e+05</td>\n",
       "      <td>6.000000</td>\n",
       "      <td>8.000000</td>\n",
       "      <td>5.000000</td>\n",
       "    </tr>\n",
       "    <tr>\n",
       "      <th>max</th>\n",
       "      <td>548550.000000</td>\n",
       "      <td>3.798351e+06</td>\n",
       "      <td>116.000000</td>\n",
       "      <td>5545.000000</td>\n",
       "      <td>5.000000</td>\n",
       "    </tr>\n",
       "  </tbody>\n",
       "</table>\n",
       "</div>"
      ],
      "text/plain": [
       "                  Id     salesrank     categories   totalreviews  \\\n",
       "count  542683.000000  5.426830e+05  542683.000000  542683.000000   \n",
       "mean   274413.707057  4.893252e+05       4.624602      14.339843   \n",
       "std    158454.188293  5.677231e+05       4.450651      74.768436   \n",
       "min         1.000000 -1.000000e+00       0.000000       0.000000   \n",
       "25%    137161.500000  9.074400e+04       2.000000       0.000000   \n",
       "50%    274427.000000  3.004930e+05       4.000000       2.000000   \n",
       "75%    411673.500000  6.720695e+05       6.000000       8.000000   \n",
       "max    548550.000000  3.798351e+06     116.000000    5545.000000   \n",
       "\n",
       "           avgrating  \n",
       "count  542683.000000  \n",
       "mean        3.209531  \n",
       "std         1.996296  \n",
       "min         0.000000  \n",
       "25%         0.000000  \n",
       "50%         4.000000  \n",
       "75%         5.000000  \n",
       "max         5.000000  "
      ]
     },
     "execution_count": 37,
     "metadata": {},
     "output_type": "execute_result"
    }
   ],
   "source": [
    "dfTest.describe()"
   ]
  },
  {
   "cell_type": "markdown",
   "metadata": {},
   "source": [
    "# Q1 Ratings"
   ]
  },
  {
   "cell_type": "code",
   "execution_count": 116,
   "metadata": {
    "collapsed": false,
    "scrolled": false
   },
   "outputs": [
    {
     "data": {
      "text/plain": [
       "<matplotlib.axes._subplots.AxesSubplot at 0x3889debe0>"
      ]
     },
     "execution_count": 116,
     "metadata": {},
     "output_type": "execute_result"
    },
    {
     "data": {
      "image/png": "[encoded data removed]",
      "text/plain": [
       "<matplotlib.figure.Figure at 0x3889e3f60>"
      ]
     },
     "metadata": {},
     "output_type": "display_data"
    }
   ],
   "source": [
    "dfTest.plot(x='avgrating',y='totalreviews',kind='scatter',)"
   ]
  },
  {
   "cell_type": "code",
   "execution_count": 129,
   "metadata": {
    "collapsed": false
   },
   "outputs": [
    {
     "data": {
      "text/plain": [
       "<matplotlib.text.Text at 0x1b184bd30>"
      ]
     },
     "execution_count": 129,
     "metadata": {},
     "output_type": "execute_result"
    },
    {
     "data": {
      "image/png": "[encoded data removed]",
      "text/plain": [
       "<matplotlib.figure.Figure at 0x1b2f14e80>"
      ]
     },
     "metadata": {},
     "output_type": "display_data"
    }
   ],
   "source": [
    "dfTest['avgrating'].plot.box()\n",
    "plt.title('Boxplot of Ratings')\n",
    "plt.ylabel('scale')"
   ]
  },
  {
   "cell_type": "code",
   "execution_count": 128,
   "metadata": {
    "collapsed": false
   },
   "outputs": [
    {
     "data": {
      "text/plain": [
       "<matplotlib.text.Text at 0x1b3587400>"
      ]
     },
     "execution_count": 128,
     "metadata": {},
     "output_type": "execute_result"
    },
    {
     "data": {
      "image/png": "[encoded data removed]",
      "text/plain": [
       "<matplotlib.figure.Figure at 0x1b2f43dd8>"
      ]
     },
     "metadata": {},
     "output_type": "display_data"
    }
   ],
   "source": [
    "dfTest['avgrating'].hist()\n",
    "plt.title('Histogram of Ratings')\n",
    "plt.ylabel('count')"
   ]
  },
  {
   "cell_type": "code",
   "execution_count": 127,
   "metadata": {
    "collapsed": false,
    "scrolled": false
   },
   "outputs": [
    {
     "data": {
      "text/plain": [
       "<matplotlib.text.Text at 0x1b3286390>"
      ]
     },
     "execution_count": 127,
     "metadata": {},
     "output_type": "execute_result"
    },
    {
     "data": {
      "image/png": "[encoded data removed]",
      "text/plain": [
       "<matplotlib.figure.Figure at 0x1b2f53f60>"
      ]
     },
     "metadata": {},
     "output_type": "display_data"
    }
   ],
   "source": [
    "dfTest.groupby(['avgrating','group'])['avgrating'].count().unstack().plot.bar(stacked=True)\n",
    "plt.title('Ratings by Product Group')\n",
    "plt.ylabel('count')"
   ]
  },
  {
   "cell_type": "code",
   "execution_count": 34,
   "metadata": {
    "collapsed": false,
    "scrolled": true
   },
   "outputs": [
    {
     "data": {
      "text/plain": [
       "<matplotlib.axes._subplots.AxesSubplot at 0x152c6b7b8>"
      ]
     },
     "execution_count": 34,
     "metadata": {},
     "output_type": "execute_result"
    },
    {
     "data": {
      "image/png": "[encoded data removed]",
      "text/plain": [
       "<matplotlib.figure.Figure at 0x176d94e48>"
      ]
     },
     "metadata": {},
     "output_type": "display_data"
    }
   ],
   "source": [
    "dfTest.groupby(['group'])['Id'].count().plot.bar()"
   ]
  },
  {
   "cell_type": "code",
   "execution_count": 138,
   "metadata": {
    "collapsed": false
   },
   "outputs": [
    {
     "data": {
      "text/plain": [
       "5545"
      ]
     },
     "execution_count": 138,
     "metadata": {},
     "output_type": "execute_result"
    }
   ],
   "source": [
    "dfTest['totalreviews'].max()"
   ]
  },
  {
   "cell_type": "code",
   "execution_count": 139,
   "metadata": {
    "collapsed": false,
    "scrolled": false
   },
   "outputs": [
    {
     "data": {
      "text/plain": [
       "<matplotlib.text.Text at 0x1b29ae6d8>"
      ]
     },
     "execution_count": 139,
     "metadata": {},
     "output_type": "execute_result"
    },
    {
     "data": {
      "image/png": "[encoded data removed]",
      "text/plain": [
       "<matplotlib.figure.Figure at 0x38cf88fd0>"
      ]
     },
     "metadata": {},
     "output_type": "display_data"
    }
   ],
   "source": [
    "dfTest['totalreviews'].plot.box()\n",
    "plt.title('Boxplot of Reviews')\n",
    "plt.ylim(0,6000)\n",
    "plt.ylabel('count')"
   ]
  },
  {
   "cell_type": "code",
   "execution_count": 133,
   "metadata": {
    "collapsed": false,
    "scrolled": false
   },
   "outputs": [
    {
     "data": {
      "text/plain": [
       "<matplotlib.axes._subplots.AxesSubplot at 0x38f95aac8>"
      ]
     },
     "execution_count": 133,
     "metadata": {},
     "output_type": "execute_result"
    },
    {
     "data": {
      "image/png": "[encoded data removed]",
      "text/plain": [
       "<matplotlib.figure.Figure at 0x372505278>"
      ]
     },
     "metadata": {},
     "output_type": "display_data"
    }
   ],
   "source": [
    "dfTest.plot(x='totalreviews',y='salesrank',kind='scatter')"
   ]
  },
  {
   "cell_type": "markdown",
   "metadata": {},
   "source": [
    "# Q2 Categories"
   ]
  },
  {
   "cell_type": "code",
   "execution_count": 143,
   "metadata": {
    "collapsed": false,
    "scrolled": true
   },
   "outputs": [
    {
     "data": {
      "text/plain": [
       "<matplotlib.text.Text at 0x1b2542748>"
      ]
     },
     "execution_count": 143,
     "metadata": {},
     "output_type": "execute_result"
    },
    {
     "data": {
      "image/png": "[encoded data removed]",
      "text/plain": [
       "<matplotlib.figure.Figure at 0x2ededff28>"
      ]
     },
     "metadata": {},
     "output_type": "display_data"
    }
   ],
   "source": [
    "dfTest['categories'].hist(bins=100)\n",
    "plt.title('Product Count by Categories')\n",
    "plt.xlabel('Count of Categories')\n",
    "plt.ylabel('Count')"
   ]
  },
  {
   "cell_type": "code",
   "execution_count": 140,
   "metadata": {
    "collapsed": false,
    "scrolled": true
   },
   "outputs": [
    {
     "data": {
      "text/plain": [
       "<matplotlib.text.Text at 0x38cf885c0>"
      ]
     },
     "execution_count": 140,
     "metadata": {},
     "output_type": "execute_result"
    },
    {
     "data": {
      "image/png": "[encoded data removed]",
      "text/plain": [
       "<matplotlib.figure.Figure at 0x38cf72668>"
      ]
     },
     "metadata": {},
     "output_type": "display_data"
    }
   ],
   "source": [
    "dfcatName['stringCount'].hist()\n",
    "plt.title('Distribution of Category Branches')\n",
    "plt.ylabel('Count of Products')\n",
    "plt.xlabel('Count of Branches')"
   ]
  },
  {
   "cell_type": "code",
   "execution_count": 113,
   "metadata": {
    "collapsed": false,
    "scrolled": false
   },
   "outputs": [
    {
     "data": {
      "text/html": [
       "<div>\n",
       "<style>\n",
       "    .dataframe thead tr:only-child th {\n",
       "        text-align: right;\n",
       "    }\n",
       "\n",
       "    .dataframe thead th {\n",
       "        text-align: left;\n",
       "    }\n",
       "\n",
       "    .dataframe tbody tr th {\n",
       "        vertical-align: top;\n",
       "    }\n",
       "</style>\n",
       "<table border=\"1\" class=\"dataframe\">\n",
       "  <thead>\n",
       "    <tr style=\"text-align: right;\">\n",
       "      <th></th>\n",
       "      <th>stringCount</th>\n",
       "    </tr>\n",
       "  </thead>\n",
       "  <tbody>\n",
       "    <tr>\n",
       "      <th>count</th>\n",
       "      <td>2.509701e+06</td>\n",
       "    </tr>\n",
       "    <tr>\n",
       "      <th>mean</th>\n",
       "      <td>5.046325e+00</td>\n",
       "    </tr>\n",
       "    <tr>\n",
       "      <th>std</th>\n",
       "      <td>1.109619e+00</td>\n",
       "    </tr>\n",
       "    <tr>\n",
       "      <th>min</th>\n",
       "      <td>1.000000e+00</td>\n",
       "    </tr>\n",
       "    <tr>\n",
       "      <th>25%</th>\n",
       "      <td>4.000000e+00</td>\n",
       "    </tr>\n",
       "    <tr>\n",
       "      <th>50%</th>\n",
       "      <td>5.000000e+00</td>\n",
       "    </tr>\n",
       "    <tr>\n",
       "      <th>75%</th>\n",
       "      <td>6.000000e+00</td>\n",
       "    </tr>\n",
       "    <tr>\n",
       "      <th>max</th>\n",
       "      <td>1.000000e+01</td>\n",
       "    </tr>\n",
       "  </tbody>\n",
       "</table>\n",
       "</div>"
      ],
      "text/plain": [
       "        stringCount\n",
       "count  2.509701e+06\n",
       "mean   5.046325e+00\n",
       "std    1.109619e+00\n",
       "min    1.000000e+00\n",
       "25%    4.000000e+00\n",
       "50%    5.000000e+00\n",
       "75%    6.000000e+00\n",
       "max    1.000000e+01"
      ]
     },
     "execution_count": 113,
     "metadata": {},
     "output_type": "execute_result"
    }
   ],
   "source": [
    "dfcatName.describe()"
   ]
  },
  {
   "cell_type": "code",
   "execution_count": null,
   "metadata": {
    "collapsed": false
   },
   "outputs": [],
   "source": []
  },
  {
   "cell_type": "code",
   "execution_count": null,
   "metadata": {
    "collapsed": true
   },
   "outputs": [],
   "source": []
  }
 ],
 "metadata": {
  "kernelspec": {
   "display_name": "Python 3",
   "language": "python",
   "name": "python3"
  },
  "language_info": {
   "codemirror_mode": {
    "name": "ipython",
    "version": 3
   },
   "file_extension": ".py",
   "mimetype": "text/x-python",
   "name": "python",
   "nbconvert_exporter": "python",
   "pygments_lexer": "ipython3",
   "version": "3.6.0"
  }
 },
 "nbformat": 4,
 "nbformat_minor": 2
}
