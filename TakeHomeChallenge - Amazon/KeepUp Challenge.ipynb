{
 "cells": [
  {
   "cell_type": "code",
   "execution_count": 3,
   "metadata": {
    "collapsed": true
   },
   "outputs": [],
   "source": [
    "import pandas as pd\n",
    "import json\n",
    "import matplotlib.pyplot as plt\n",
    "import numpy as np\n",
    "import seaborn as sns\n",
    "from pandas.io.json import json_normalize\n",
    "from datetime import datetime\n",
    "from datetime import date, timedelta"
   ]
  },
  {
   "cell_type": "code",
   "execution_count": 1,
   "metadata": {
    "collapsed": false
   },
   "outputs": [],
   "source": [
    "lines = open('/Users/acmilne/Documents/Python-Data-Science-and-Machine-Learning-Bootcamp/KeepUp Challenge/amazon-meta.txt').read().split(\"id:\")"
   ]
  },
  {
   "cell_type": "code",
   "execution_count": 4,
   "metadata": {
    "collapsed": false
   },
   "outputs": [],
   "source": [
    "df = pd.DataFrame(lines)"
   ]
  },
  {
   "cell_type": "code",
   "execution_count": 5,
   "metadata": {
    "collapsed": false
   },
   "outputs": [
    {
     "data": {
      "text/html": [
       "<div>\n",
       "<style>\n",
       "    .dataframe thead tr:only-child th {\n",
       "        text-align: right;\n",
       "    }\n",
       "\n",
       "    .dataframe thead th {\n",
       "        text-align: left;\n",
       "    }\n",
       "\n",
       "    .dataframe tbody tr th {\n",
       "        vertical-align: top;\n",
       "    }\n",
       "</style>\n",
       "<table border=\"1\" class=\"dataframe\">\n",
       "  <thead>\n",
       "    <tr style=\"text-align: right;\">\n",
       "      <th></th>\n",
       "      <th>0</th>\n",
       "    </tr>\n",
       "  </thead>\n",
       "  <tbody>\n",
       "    <tr>\n",
       "      <th>0</th>\n",
       "      <td># Full information about Amazon Share the Love...</td>\n",
       "    </tr>\n",
       "    <tr>\n",
       "      <th>1</th>\n",
       "      <td>A User's Guide to Digital Arts, Media, and Cu...</td>\n",
       "    </tr>\n",
       "    <tr>\n",
       "      <th>2</th>\n",
       "      <td>How to Avoid Technology Disasters in Business...</td>\n",
       "    </tr>\n",
       "    <tr>\n",
       "      <th>3</th>\n",
       "      <td>Amores I\\n  group: Book\\n  salesrank: 917901\\...</td>\n",
       "    </tr>\n",
       "    <tr>\n",
       "      <th>4</th>\n",
       "      <td>The Captivating Chauffeur\\n  group: Book\\n  s...</td>\n",
       "    </tr>\n",
       "  </tbody>\n",
       "</table>\n",
       "</div>"
      ],
      "text/plain": [
       "                                                   0\n",
       "0  # Full information about Amazon Share the Love...\n",
       "1   A User's Guide to Digital Arts, Media, and Cu...\n",
       "2   How to Avoid Technology Disasters in Business...\n",
       "3   Amores I\\n  group: Book\\n  salesrank: 917901\\...\n",
       "4   The Captivating Chauffeur\\n  group: Book\\n  s..."
      ]
     },
     "execution_count": 5,
     "metadata": {},
     "output_type": "execute_result"
    }
   ],
   "source": [
    "df.head()"
   ]
  },
  {
   "cell_type": "code",
   "execution_count": 6,
   "metadata": {
    "collapsed": true
   },
   "outputs": [],
   "source": [
    "# breakdown the list in to a dictionary by segmenting using '\\n'"
   ]
  },
  {
   "cell_type": "code",
   "execution_count": 20,
   "metadata": {
    "collapsed": true
   },
   "outputs": [],
   "source": [
    "#Read all lines of the meta data into content list.\n",
    "fname = \"/Users/acmilne/Documents/Python-Data-Science-and-Machine-Learning-Bootcamp/KeepUp Challenge/amazon-meta.txt\"\n",
    "with open(fname, encoding = 'utf8') as f:\n",
    "    content = f.readlines()\n",
    "#Remove the beginning and trailing white spaces.\n",
    "content = [x.strip() for x in content] \n",
    " \n",
    "# Write extracted information to testfile.txt in a format of ',' demilited files.\n",
    "# The columns are Id, title, group, categories, totalreviews, avgrating.\n",
    "# The code stores all extracted information about a product into previoulines,\n",
    "# and write the content into file only when all information are available. Hence,\n",
    "# if review information for a product is not available, the product won't appear\n",
    "# in the final file.\n",
    "file = open(\"testfile.txt\",\"w\", encoding='utf8')\n",
    "previouslines = ['Id','ASIN', 'title', 'group','salesrank', 'categories', 'totalreviews', 'avgrating']\n",
    "for line in content:\n",
    "    lines = line.split(':')\n",
    "    if lines[0] == \"Id\":\n",
    "        if (len(previouslines) == 8):\n",
    "            for component in previouslines[0:7]:\n",
    "                file.write(component)\n",
    "                file.write(',')\n",
    "            file.write(previouslines[7])\n",
    "            file.write(\"\\n\")\n",
    "        previouslines = []\n",
    "        previouslines.append(lines[1].strip())\n",
    "         \n",
    "    if lines[0] == \"ASIN\":\n",
    "        previouslines.append(lines[1].strip())\n",
    "        \n",
    "    if lines[0] == \"title\":\n",
    "        title = ':'.join(lines[1:]).strip().replace(',', ' ').replace('\\n', ' ').strip()\n",
    "        previouslines.append(title)\n",
    "        \n",
    "    if lines[0] == \"group\":\n",
    "        previouslines.append(lines[1].strip())\n",
    "        \n",
    "    if lines[0] == \"salesrank\":\n",
    "        previouslines.append(lines[1].strip()) \n",
    "        \n",
    "    if lines[0] == \"categories\":\n",
    "        previouslines.append(lines[1].strip())\n",
    "     \n",
    "    if lines[0] == \"reviews\" and lines[1].strip() == \"total\":\n",
    "        previouslines.append(lines[2].split(' ')[1])\n",
    "        previouslines.append(lines[4].strip())\n",
    "file.close()"
   ]
  },
  {
   "cell_type": "code",
   "execution_count": 21,
   "metadata": {
    "collapsed": true
   },
   "outputs": [],
   "source": [
    "dfTest = pd.read_csv('/Users/acmilne/Documents/Python-Data-Science-and-Machine-Learning-Bootcamp/KeepUp Challenge/testfile.txt',sep=',')"
   ]
  },
  {
   "cell_type": "code",
   "execution_count": 22,
   "metadata": {
    "collapsed": false
   },
   "outputs": [
    {
     "data": {
      "text/html": [
       "<div>\n",
       "<style>\n",
       "    .dataframe thead tr:only-child th {\n",
       "        text-align: right;\n",
       "    }\n",
       "\n",
       "    .dataframe thead th {\n",
       "        text-align: left;\n",
       "    }\n",
       "\n",
       "    .dataframe tbody tr th {\n",
       "        vertical-align: top;\n",
       "    }\n",
       "</style>\n",
       "<table border=\"1\" class=\"dataframe\">\n",
       "  <thead>\n",
       "    <tr style=\"text-align: right;\">\n",
       "      <th></th>\n",
       "      <th>Id</th>\n",
       "      <th>ASIN</th>\n",
       "      <th>title</th>\n",
       "      <th>group</th>\n",
       "      <th>salesrank</th>\n",
       "      <th>categories</th>\n",
       "      <th>totalreviews</th>\n",
       "      <th>avgrating</th>\n",
       "    </tr>\n",
       "  </thead>\n",
       "  <tbody>\n",
       "    <tr>\n",
       "      <th>0</th>\n",
       "      <td>1</td>\n",
       "      <td>0827229534</td>\n",
       "      <td>Patterns of Preaching: A Sermon Sampler</td>\n",
       "      <td>Book</td>\n",
       "      <td>396585</td>\n",
       "      <td>2</td>\n",
       "      <td>2</td>\n",
       "      <td>5.0</td>\n",
       "    </tr>\n",
       "    <tr>\n",
       "      <th>1</th>\n",
       "      <td>2</td>\n",
       "      <td>0738700797</td>\n",
       "      <td>Candlemas: Feast of Flames</td>\n",
       "      <td>Book</td>\n",
       "      <td>168596</td>\n",
       "      <td>2</td>\n",
       "      <td>12</td>\n",
       "      <td>4.5</td>\n",
       "    </tr>\n",
       "    <tr>\n",
       "      <th>2</th>\n",
       "      <td>3</td>\n",
       "      <td>0486287785</td>\n",
       "      <td>World War II Allied Fighter Planes Trading Cards</td>\n",
       "      <td>Book</td>\n",
       "      <td>1270652</td>\n",
       "      <td>1</td>\n",
       "      <td>1</td>\n",
       "      <td>5.0</td>\n",
       "    </tr>\n",
       "    <tr>\n",
       "      <th>3</th>\n",
       "      <td>4</td>\n",
       "      <td>0842328327</td>\n",
       "      <td>Life Application Bible Commentary: 1 and 2 Tim...</td>\n",
       "      <td>Book</td>\n",
       "      <td>631289</td>\n",
       "      <td>5</td>\n",
       "      <td>1</td>\n",
       "      <td>4.0</td>\n",
       "    </tr>\n",
       "    <tr>\n",
       "      <th>4</th>\n",
       "      <td>5</td>\n",
       "      <td>1577943082</td>\n",
       "      <td>Prayers That Avail Much for Business: Executive</td>\n",
       "      <td>Book</td>\n",
       "      <td>455160</td>\n",
       "      <td>2</td>\n",
       "      <td>0</td>\n",
       "      <td>0.0</td>\n",
       "    </tr>\n",
       "  </tbody>\n",
       "</table>\n",
       "</div>"
      ],
      "text/plain": [
       "   Id        ASIN                                              title group  \\\n",
       "0   1  0827229534            Patterns of Preaching: A Sermon Sampler  Book   \n",
       "1   2  0738700797                         Candlemas: Feast of Flames  Book   \n",
       "2   3  0486287785   World War II Allied Fighter Planes Trading Cards  Book   \n",
       "3   4  0842328327  Life Application Bible Commentary: 1 and 2 Tim...  Book   \n",
       "4   5  1577943082    Prayers That Avail Much for Business: Executive  Book   \n",
       "\n",
       "   salesrank  categories  totalreviews  avgrating  \n",
       "0     396585           2             2        5.0  \n",
       "1     168596           2            12        4.5  \n",
       "2    1270652           1             1        5.0  \n",
       "3     631289           5             1        4.0  \n",
       "4     455160           2             0        0.0  "
      ]
     },
     "execution_count": 22,
     "metadata": {},
     "output_type": "execute_result"
    }
   ],
   "source": [
    "dfTest.head()"
   ]
  },
  {
   "cell_type": "code",
   "execution_count": 23,
   "metadata": {
    "collapsed": false
   },
   "outputs": [
    {
     "name": "stdout",
     "output_type": "stream",
     "text": [
      "<class 'pandas.core.frame.DataFrame'>\n",
      "RangeIndex: 542683 entries, 0 to 542682\n",
      "Data columns (total 8 columns):\n",
      "Id              542683 non-null int64\n",
      "ASIN            542683 non-null object\n",
      "title           542683 non-null object\n",
      "group           542683 non-null object\n",
      "salesrank       542683 non-null int64\n",
      "categories      542683 non-null int64\n",
      "totalreviews    542683 non-null int64\n",
      "avgrating       542683 non-null float64\n",
      "dtypes: float64(1), int64(4), object(3)\n",
      "memory usage: 33.1+ MB\n"
     ]
    }
   ],
   "source": [
    "dfTest.info()"
   ]
  },
  {
   "cell_type": "code",
   "execution_count": null,
   "metadata": {
    "collapsed": true
   },
   "outputs": [],
   "source": []
  }
 ],
 "metadata": {
  "kernelspec": {
   "display_name": "Python 3",
   "language": "python",
   "name": "python3"
  },
  "language_info": {
   "codemirror_mode": {
    "name": "ipython",
    "version": 3
   },
   "file_extension": ".py",
   "mimetype": "text/x-python",
   "name": "python",
   "nbconvert_exporter": "python",
   "pygments_lexer": "ipython3",
   "version": "3.6.0"
  }
 },
 "nbformat": 4,
 "nbformat_minor": 2
}
