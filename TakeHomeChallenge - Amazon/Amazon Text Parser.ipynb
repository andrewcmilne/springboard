{
 "cells": [
  {
   "cell_type": "code",
   "execution_count": 2,
   "metadata": {
    "collapsed": false
   },
   "outputs": [],
   "source": [
    "import json\n",
    "import pandas as pd\n",
    "import re\n",
    "import itertools\n"
   ]
  },
  {
   "cell_type": "code",
   "execution_count": 3,
   "metadata": {
    "collapsed": true
   },
   "outputs": [],
   "source": [
    "#Read file into a list\n",
    "fname = 'amazon.txt'\n",
    "with open(fname, encoding = 'utf8') as f:\n",
    "    content = f.readlines()\n",
    "#after reading the lines and separating with , trim the spaces out\n",
    "content = [x.strip() for x in content] \n",
    " "
   ]
  },
  {
   "cell_type": "code",
   "execution_count": 4,
   "metadata": {
    "collapsed": false
   },
   "outputs": [
    {
     "data": {
      "text/plain": [
       "['Id:   15',\n",
       " 'ASIN: 1559362022',\n",
       " 'title: Wake Up and Smell the Coffee',\n",
       " 'group: Book',\n",
       " 'salesrank: 518927',\n",
       " 'similar: 5  1559360968  1559361247  1559360828  1559361018  0743214552',\n",
       " 'categories: 3',\n",
       " '|Books[283155]|Subjects[1000]|Literature & Fiction[17]|Drama[2159]|United States[2160]',\n",
       " '|Books[283155]|Subjects[1000]|Arts & Photography[1]|Performing Arts[521000]|Theater[2154]|General[2218]',\n",
       " '|Books[283155]|Subjects[1000]|Literature & Fiction[17]|Authors, A-Z[70021]|( B )[70023]|Bogosian, Eric[70116]',\n",
       " 'reviews: total: 8  downloaded: 8  avg rating: 4',\n",
       " '2002-5-13  cutomer: A2IGOA66Y6O8TQ  rating: 5  votes:   3  helpful:   2',\n",
       " '2002-6-17  cutomer: A2OIN4AUH84KNE  rating: 5  votes:   2  helpful:   1',\n",
       " '2003-1-2  cutomer: A2HN382JNT1CIU  rating: 1  votes:   6  helpful:   1',\n",
       " '2003-6-7  cutomer: A2FDJ79LDU4O18  rating: 4  votes:   1  helpful:   1',\n",
       " '2003-6-27  cutomer: A39QMV9ZKRJXO5  rating: 4  votes:   1  helpful:   1',\n",
       " '2004-2-17  cutomer:  AUUVMSTQ1TXDI  rating: 1  votes:   2  helpful:   0',\n",
       " '2004-2-24  cutomer: A2C5K0QTLL9UAT  rating: 5  votes:   2  helpful:   2',\n",
       " '2004-10-13  cutomer:  A5XYF0Z3UH4HB  rating: 5  votes:   1  helpful:   1']"
      ]
     },
     "execution_count": 4,
     "metadata": {},
     "output_type": "execute_result"
    }
   ],
   "source": [
    "content"
   ]
  },
  {
   "cell_type": "code",
   "execution_count": 5,
   "metadata": {
    "collapsed": false
   },
   "outputs": [],
   "source": [
    "test = json.dumps(content)"
   ]
  },
  {
   "cell_type": "code",
   "execution_count": 6,
   "metadata": {
    "collapsed": false
   },
   "outputs": [
    {
     "data": {
      "text/plain": [
       "'[\"Id:   15\", \"ASIN: 1559362022\", \"title: Wake Up and Smell the Coffee\", \"group: Book\", \"salesrank: 518927\", \"similar: 5  1559360968  1559361247  1559360828  1559361018  0743214552\", \"categories: 3\", \"|Books[283155]|Subjects[1000]|Literature & Fiction[17]|Drama[2159]|United States[2160]\", \"|Books[283155]|Subjects[1000]|Arts & Photography[1]|Performing Arts[521000]|Theater[2154]|General[2218]\", \"|Books[283155]|Subjects[1000]|Literature & Fiction[17]|Authors, A-Z[70021]|( B )[70023]|Bogosian, Eric[70116]\", \"reviews: total: 8  downloaded: 8  avg rating: 4\", \"2002-5-13  cutomer: A2IGOA66Y6O8TQ  rating: 5  votes:   3  helpful:   2\", \"2002-6-17  cutomer: A2OIN4AUH84KNE  rating: 5  votes:   2  helpful:   1\", \"2003-1-2  cutomer: A2HN382JNT1CIU  rating: 1  votes:   6  helpful:   1\", \"2003-6-7  cutomer: A2FDJ79LDU4O18  rating: 4  votes:   1  helpful:   1\", \"2003-6-27  cutomer: A39QMV9ZKRJXO5  rating: 4  votes:   1  helpful:   1\", \"2004-2-17  cutomer:  AUUVMSTQ1TXDI  rating: 1  votes:   2  helpful:   0\", \"2004-2-24  cutomer: A2C5K0QTLL9UAT  rating: 5  votes:   2  helpful:   2\", \"2004-10-13  cutomer:  A5XYF0Z3UH4HB  rating: 5  votes:   1  helpful:   1\"]'"
      ]
     },
     "execution_count": 6,
     "metadata": {},
     "output_type": "execute_result"
    }
   ],
   "source": [
    "test"
   ]
  },
  {
   "cell_type": "code",
   "execution_count": null,
   "metadata": {
    "collapsed": true
   },
   "outputs": [],
   "source": []
  },
  {
   "cell_type": "code",
   "execution_count": null,
   "metadata": {
    "collapsed": true
   },
   "outputs": [],
   "source": []
  },
  {
   "cell_type": "code",
   "execution_count": 7,
   "metadata": {
    "collapsed": false
   },
   "outputs": [],
   "source": [
    "#Write to a new txt file using , as delimiter\n",
    "#Write the content into file only when all information are available. Hence,\n",
    "#If the data isn't complete it won't be written\n",
    "\n",
    "file = open(\"testfile.txt\",\"w\", encoding='utf8') #open a new text file\n",
    "columns = ['Id','ASIN', 'title', 'group','salesrank', 'categories', 'totalreviews', 'avgrating'] #setup the columns\n",
    "for line in content: #loop through the lines stripped from the raw file\n",
    "    lines = line.split(':')\n",
    "    if lines[0] == \"Id\":\n",
    "        if (len(columns) == 8):\n",
    "            for component in columns[0:7]:\n",
    "                file.write(component)\n",
    "                file.write(',')\n",
    "            file.write(columns[7])\n",
    "            file.write(\"\\n\")\n",
    "        columns = []\n",
    "        columns.append(lines[1].strip())\n",
    "         \n",
    "    if lines[0] == \"ASIN\":\n",
    "        columns.append(lines[1].strip())\n",
    "        \n",
    "    if lines[0] == \"title\":\n",
    "        title = ':'.join(lines[1:]).strip().replace(',', ' ').replace('\\n', ' ').strip()\n",
    "        columns.append(title)\n",
    "        \n",
    "    if lines[0] == \"group\":\n",
    "        columns.append(lines[1].strip())\n",
    "        \n",
    "    if lines[0] == \"salesrank\":\n",
    "        columns.append(lines[1].strip()) \n",
    "        \n",
    "    if lines[0] == \"categories\":\n",
    "        columns.append(lines[1].strip())\n",
    "          \n",
    "    if lines[0] == \"reviews\" and lines[1].strip() == \"total\":\n",
    "        columns.append(lines[2].split(' ')[1])\n",
    "        columns.append(lines[4].strip())\n",
    "file.close()"
   ]
  },
  {
   "cell_type": "code",
   "execution_count": null,
   "metadata": {
    "collapsed": false,
    "scrolled": true
   },
   "outputs": [],
   "source": []
  },
  {
   "cell_type": "code",
   "execution_count": 8,
   "metadata": {
    "collapsed": false
   },
   "outputs": [
    {
     "ename": "TypeError",
     "evalue": "list indices must be integers or slices, not str",
     "output_type": "error",
     "traceback": [
      "\u001b[1;31m---------------------------------------------------------------------------\u001b[0m",
      "\u001b[1;31mTypeError\u001b[0m                                 Traceback (most recent call last)",
      "\u001b[1;32m<ipython-input-8-91a5af1767e2>\u001b[0m in \u001b[0;36m<module>\u001b[1;34m()\u001b[0m\n\u001b[0;32m      6\u001b[0m \u001b[0mcolumns\u001b[0m \u001b[1;33m=\u001b[0m \u001b[1;33m[\u001b[0m\u001b[1;33m]\u001b[0m \u001b[1;31m#setup the columns\u001b[0m\u001b[1;33m\u001b[0m\u001b[0m\n\u001b[0;32m      7\u001b[0m \u001b[1;32mfor\u001b[0m \u001b[0mline\u001b[0m \u001b[1;32min\u001b[0m \u001b[0mcontent\u001b[0m\u001b[1;33m:\u001b[0m \u001b[1;31m#loop through the lines stripped from the raw file\u001b[0m\u001b[1;33m\u001b[0m\u001b[0m\n\u001b[1;32m----> 8\u001b[1;33m     \u001b[0mcolumns\u001b[0m\u001b[1;33m.\u001b[0m\u001b[0mappend\u001b[0m\u001b[1;33m(\u001b[0m\u001b[0mre\u001b[0m\u001b[1;33m.\u001b[0m\u001b[0mfindall\u001b[0m\u001b[1;33m(\u001b[0m\u001b[1;34mr'\\[(\\w+)\\]'\u001b[0m\u001b[1;33m,\u001b[0m\u001b[0mcontent\u001b[0m\u001b[1;33m[\u001b[0m\u001b[0mline\u001b[0m\u001b[1;33m]\u001b[0m\u001b[1;33m)\u001b[0m\u001b[1;33m)\u001b[0m\u001b[1;33m\u001b[0m\u001b[0m\n\u001b[0m\u001b[0;32m      9\u001b[0m \u001b[1;33m\u001b[0m\u001b[0m\n\u001b[0;32m     10\u001b[0m \u001b[0mfile\u001b[0m\u001b[1;33m.\u001b[0m\u001b[0mclose\u001b[0m\u001b[1;33m(\u001b[0m\u001b[1;33m)\u001b[0m\u001b[1;33m\u001b[0m\u001b[0m\n",
      "\u001b[1;31mTypeError\u001b[0m: list indices must be integers or slices, not str"
     ]
    }
   ],
   "source": [
    "#Write to a new txt file using , as delimiter\n",
    "#Write the content into file only when all information are available. Hence,\n",
    "#If the data isn't complete it won't be written\n",
    "\n",
    "file = open(\"testfile2.txt\",\"w\", encoding='utf8') #open a new text file\n",
    "columns = [] #setup the columns\n",
    "for line in content: #loop through the lines stripped from the raw file\n",
    "    columns.append(re.findall(r'\\[(\\w+)\\]',content[line]))\n",
    "                   \n",
    "file.close()"
   ]
  },
  {
   "cell_type": "code",
   "execution_count": null,
   "metadata": {
    "collapsed": false
   },
   "outputs": [],
   "source": [
    "re.findall(r'\\[(\\w+)\\]',content[7])"
   ]
  },
  {
   "cell_type": "code",
   "execution_count": null,
   "metadata": {
    "collapsed": false
   },
   "outputs": [],
   "source": [
    "re.findall(r'\\[(\\w+)\\]',content[8])\n",
    "#loop through a list using regex"
   ]
  },
  {
   "cell_type": "code",
   "execution_count": 9,
   "metadata": {
    "collapsed": false
   },
   "outputs": [],
   "source": [
    "prodid=[]\n",
    "cat=[]\n",
    "catdict={}\n",
    "for line in content:\n",
    "    lines = line.split(':')\n",
    "    if lines[0] == \"Id\":\n",
    "        prodid.append(lines[1].strip())\n",
    "    a=re.findall(r'\\[(\\w+)\\]',line)\n",
    "    if a:\n",
    "        cat.append(a)\n",
    "    \n",
    "#for i in range(len(cat)):\n",
    " #   catdict[prodid[0]] = cat[i]\n",
    "    "
   ]
  },
  {
   "cell_type": "code",
   "execution_count": 19,
   "metadata": {
    "collapsed": false
   },
   "outputs": [
    {
     "data": {
      "text/plain": [
       "[['283155', '1000', '17', '2159', '2160'],\n",
       " ['283155', '1000', '1', '521000', '2154', '2218'],\n",
       " ['283155', '1000', '17', '70021', '70023', '70116']]"
      ]
     },
     "execution_count": 19,
     "metadata": {},
     "output_type": "execute_result"
    }
   ],
   "source": [
    "cat"
   ]
  },
  {
   "cell_type": "code",
   "execution_count": 20,
   "metadata": {
    "collapsed": false
   },
   "outputs": [
    {
     "data": {
      "text/plain": [
       "['15']"
      ]
     },
     "execution_count": 20,
     "metadata": {},
     "output_type": "execute_result"
    }
   ],
   "source": [
    "prodid"
   ]
  },
  {
   "cell_type": "code",
   "execution_count": 12,
   "metadata": {
    "collapsed": false
   },
   "outputs": [
    {
     "data": {
      "text/plain": [
       "{}"
      ]
     },
     "execution_count": 12,
     "metadata": {},
     "output_type": "execute_result"
    }
   ],
   "source": [
    "catdict"
   ]
  },
  {
   "cell_type": "code",
   "execution_count": 148,
   "metadata": {
    "collapsed": false
   },
   "outputs": [],
   "source": [
    "df1= pd.DataFrame(cat)"
   ]
  },
  {
   "cell_type": "code",
   "execution_count": 149,
   "metadata": {
    "collapsed": false
   },
   "outputs": [
    {
     "data": {
      "text/html": [
       "<div>\n",
       "<table border=\"1\" class=\"dataframe\">\n",
       "  <thead>\n",
       "    <tr style=\"text-align: right;\">\n",
       "      <th></th>\n",
       "      <th>0</th>\n",
       "    </tr>\n",
       "  </thead>\n",
       "  <tbody>\n",
       "    <tr>\n",
       "      <th>0</th>\n",
       "      <td>15</td>\n",
       "    </tr>\n",
       "    <tr>\n",
       "      <th>1</th>\n",
       "      <td>[283155, 1000, 17, 2159, 2160]</td>\n",
       "    </tr>\n",
       "    <tr>\n",
       "      <th>2</th>\n",
       "      <td>[283155, 1000, 1, 521000, 2154, 2218]</td>\n",
       "    </tr>\n",
       "    <tr>\n",
       "      <th>3</th>\n",
       "      <td>[283155, 1000, 17, 70021, 70023, 70116]</td>\n",
       "    </tr>\n",
       "  </tbody>\n",
       "</table>\n",
       "</div>"
      ],
      "text/plain": [
       "                                         0\n",
       "0                                       15\n",
       "1           [283155, 1000, 17, 2159, 2160]\n",
       "2    [283155, 1000, 1, 521000, 2154, 2218]\n",
       "3  [283155, 1000, 17, 70021, 70023, 70116]"
      ]
     },
     "execution_count": 149,
     "metadata": {},
     "output_type": "execute_result"
    }
   ],
   "source": [
    "df1"
   ]
  },
  {
   "cell_type": "code",
   "execution_count": 21,
   "metadata": {
    "collapsed": false
   },
   "outputs": [],
   "source": [
    "from itertools import cycle\n",
    "zip_list = zip(prodid, cycle(cat)) if len(prodid) > len(cat) else zip(cycle(prodid), cat)"
   ]
  },
  {
   "cell_type": "code",
   "execution_count": 22,
   "metadata": {
    "collapsed": false
   },
   "outputs": [
    {
     "data": {
      "text/plain": [
       "{'15': ['283155', '1000', '17', '70021', '70023', '70116']}"
      ]
     },
     "execution_count": 22,
     "metadata": {},
     "output_type": "execute_result"
    }
   ],
   "source": [
    "dict(zip_list)\n"
   ]
  },
  {
   "cell_type": "code",
   "execution_count": 33,
   "metadata": {
    "collapsed": false
   },
   "outputs": [],
   "source": [
    "d=zip(prodid, itertools.cycle(cat))"
   ]
  },
  {
   "cell_type": "code",
   "execution_count": 34,
   "metadata": {
    "collapsed": false
   },
   "outputs": [
    {
     "data": {
      "text/plain": [
       "{'15': ['283155', '1000', '17', '2159', '2160']}"
      ]
     },
     "execution_count": 34,
     "metadata": {},
     "output_type": "execute_result"
    }
   ],
   "source": [
    "dict(d)"
   ]
  },
  {
   "cell_type": "code",
   "execution_count": null,
   "metadata": {
    "collapsed": false
   },
   "outputs": [],
   "source": []
  },
  {
   "cell_type": "code",
   "execution_count": null,
   "metadata": {
    "collapsed": true
   },
   "outputs": [],
   "source": []
  }
 ],
 "metadata": {
  "kernelspec": {
   "display_name": "Python 3",
   "language": "python",
   "name": "python3"
  },
  "language_info": {
   "codemirror_mode": {
    "name": "ipython",
    "version": 3
   },
   "file_extension": ".py",
   "mimetype": "text/x-python",
   "name": "python",
   "nbconvert_exporter": "python",
   "pygments_lexer": "ipython3",
   "version": "3.5.2"
  }
 },
 "nbformat": 4,
 "nbformat_minor": 2
}
