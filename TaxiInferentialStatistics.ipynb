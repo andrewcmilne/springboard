{
 "cells": [
  {
   "cell_type": "code",
   "execution_count": 116,
   "metadata": {
    "collapsed": false
   },
   "outputs": [],
   "source": [
    "import pandas as pd\n",
    "import numpy as np\n",
    "import matplotlib.pyplot as plt\n",
    "import seaborn as sns\n",
    "import datetime as dt\n",
    "import scipy.stats as stats\n",
    "import math\n",
    "import statsmodels.api as sm\n",
    "import pylab\n",
    "%matplotlib inline"
   ]
  },
  {
   "cell_type": "code",
   "execution_count": 81,
   "metadata": {
    "collapsed": true
   },
   "outputs": [],
   "source": [
    "df_train = pd.read_csv('train.csv')\n",
    "df_test = pd.read_csv('test.csv')\n",
    "df_sample = pd.read_csv('sample_submission.csv')"
   ]
  },
  {
   "cell_type": "code",
   "execution_count": 82,
   "metadata": {
    "collapsed": false
   },
   "outputs": [
    {
     "data": {
      "text/plain": [
       "<matplotlib.axes._subplots.AxesSubplot at 0x13e0712b0>"
      ]
     },
     "execution_count": 82,
     "metadata": {},
     "output_type": "execute_result"
    },
    {
     "data": {
      "image/png": "[encoded data removed]",
      "text/plain": [
       "<matplotlib.figure.Figure at 0x15c0a1320>"
      ]
     },
     "metadata": {},
     "output_type": "display_data"
    }
   ],
   "source": [
    "df_train['log_trip_duration'] = np.log(df_train['trip_duration'].values)\n",
    "df_train['log_trip_duration'].plot.hist(bins=100)"
   ]
  },
  {
   "cell_type": "code",
   "execution_count": 83,
   "metadata": {
    "collapsed": false
   },
   "outputs": [
    {
     "data": {
      "text/plain": [
       "979.52277777777783"
      ]
     },
     "execution_count": 83,
     "metadata": {},
     "output_type": "execute_result"
    }
   ],
   "source": [
    "df_train['trip_duration'].max()/3600"
   ]
  },
  {
   "cell_type": "code",
   "execution_count": 84,
   "metadata": {
    "collapsed": false
   },
   "outputs": [
    {
     "data": {
      "text/plain": [
       "count    1.458644e+06\n",
       "mean     9.594923e+02\n",
       "std      5.237432e+03\n",
       "min      1.000000e+00\n",
       "25%      3.970000e+02\n",
       "50%      6.620000e+02\n",
       "75%      1.075000e+03\n",
       "max      3.526282e+06\n",
       "Name: trip_duration, dtype: float64"
      ]
     },
     "execution_count": 84,
     "metadata": {},
     "output_type": "execute_result"
    }
   ],
   "source": [
    "df_train['trip_duration'].describe()"
   ]
  },
  {
   "cell_type": "code",
   "execution_count": 85,
   "metadata": {
    "collapsed": false
   },
   "outputs": [
    {
     "name": "stdout",
     "output_type": "stream",
     "text": [
      "Trip_duration and datetimes are ok.\n"
     ]
    }
   ],
   "source": [
    "df_train['pickup_datetime'] = pd.to_datetime(df_train.pickup_datetime)\n",
    "df_test['pickup_datetime'] = pd.to_datetime(df_test.pickup_datetime)\n",
    "df_train.loc[:, 'pickup_date'] = df_train['pickup_datetime'].dt.date\n",
    "df_test.loc[:, 'pickup_date'] = df_test['pickup_datetime'].dt.date\n",
    "df_train['dropoff_datetime'] = pd.to_datetime(df_train.dropoff_datetime)\n",
    "df_train['store_and_fwd_flag'] = 1 * (df_train.store_and_fwd_flag.values == 'Y')\n",
    "df_test['store_and_fwd_flag'] = 1 * (df_test.store_and_fwd_flag.values == 'Y')\n",
    "df_train['check_trip_duration'] = (df_train['dropoff_datetime'] - df_train['pickup_datetime']).map(lambda x: x.total_seconds())\n",
    "duration_difference = df_train[np.abs(df_train['check_trip_duration'].values  - df_train['trip_duration'].values) > 1]\n",
    "print('Trip_duration and datetimes are ok.') if len(duration_difference[['pickup_datetime', 'dropoff_datetime', 'trip_duration', 'check_trip_duration']]) == 0 else print('Ooops.')"
   ]
  },
  {
   "cell_type": "code",
   "execution_count": 86,
   "metadata": {
    "collapsed": true
   },
   "outputs": [],
   "source": [
    "df_train.loc[:, 'pickup_weekday'] = df_train['pickup_datetime'].dt.weekday\n",
    "df_train.loc[:, 'pickup_hour_weekofyear'] = df_train['pickup_datetime'].dt.weekofyear\n",
    "df_train.loc[:, 'pickup_hour'] = df_train['pickup_datetime'].dt.hour\n",
    "df_train.loc[:, 'pickup_minute'] = df_train['pickup_datetime'].dt.minute\n",
    "df_train.loc[:, 'pickup_dt'] = (df_train['pickup_datetime'] - df_train['pickup_datetime'].min()).dt.total_seconds()\n",
    "df_train.loc[:, 'pickup_week_hour'] = df_train['pickup_weekday'] * 24 + df_train['pickup_hour']\n",
    "df_train['Month'] = df_train['pickup_datetime'].dt.month\n",
    "df_test['Month'] = df_test['pickup_datetime'].dt.month"
   ]
  },
  {
   "cell_type": "code",
   "execution_count": 105,
   "metadata": {
    "collapsed": false
   },
   "outputs": [
    {
     "data": {
      "text/plain": [
       "<matplotlib.axes._subplots.AxesSubplot at 0x126575390>"
      ]
     },
     "execution_count": 105,
     "metadata": {},
     "output_type": "execute_result"
    },
    {
     "data": {
      "image/png": "[encoded data removed]",
      "text/plain": [
       "<matplotlib.figure.Figure at 0x12ffad128>"
      ]
     },
     "metadata": {},
     "output_type": "display_data"
    }
   ],
   "source": [
    "df_train.groupby(['pickup_hour']).size().plot.line()\n",
    "#number of trips each hour, peaking around dinner time"
   ]
  },
  {
   "cell_type": "code",
   "execution_count": 88,
   "metadata": {
    "collapsed": false
   },
   "outputs": [
    {
     "data": {
      "text/plain": [
       "<matplotlib.axes._subplots.AxesSubplot at 0x1a82a8e10>"
      ]
     },
     "execution_count": 88,
     "metadata": {},
     "output_type": "execute_result"
    },
    {
     "data": {
      "image/png": "[encoded data removed]",
      "text/plain": [
       "<matplotlib.figure.Figure at 0x1289abfd0>"
      ]
     },
     "metadata": {},
     "output_type": "display_data"
    }
   ],
   "source": [
    "df_train.groupby(['Month']).size().plot.line()\n",
    "#strange that data is only 6 months of the year???"
   ]
  },
  {
   "cell_type": "code",
   "execution_count": 110,
   "metadata": {
    "collapsed": false
   },
   "outputs": [
    {
     "data": {
      "text/plain": [
       "<matplotlib.axes._subplots.AxesSubplot at 0x1acc84e48>"
      ]
     },
     "execution_count": 110,
     "metadata": {},
     "output_type": "execute_result"
    },
    {
     "data": {
      "image/png": "[encoded data removed]",
      "text/plain": [
       "<matplotlib.figure.Figure at 0x131b18fd0>"
      ]
     },
     "metadata": {},
     "output_type": "display_data"
    }
   ],
   "source": [
    "df_train.groupby(['Month'])['trip_duration'].mean().plot.line()\n",
    "#do the trip times increase as a result of summer?"
   ]
  },
  {
   "cell_type": "code",
   "execution_count": 90,
   "metadata": {
    "collapsed": false
   },
   "outputs": [
    {
     "data": {
      "text/plain": [
       "<matplotlib.axes._subplots.AxesSubplot at 0x192978630>"
      ]
     },
     "execution_count": 90,
     "metadata": {},
     "output_type": "execute_result"
    },
    {
     "data": {
      "image/png": "[encoded data removed]",
      "text/plain": [
       "<matplotlib.figure.Figure at 0x12ec594a8>"
      ]
     },
     "metadata": {},
     "output_type": "display_data"
    }
   ],
   "source": [
    "df_train.groupby(['pickup_hour'])['trip_duration'].mean().plot.line()\n",
    "#do the trip times increase as a result of rush hour? not really it seems there is a big peak at 3pm\n",
    "#lulls in ridership in early morning and around 8pm"
   ]
  },
  {
   "cell_type": "code",
   "execution_count": 91,
   "metadata": {
    "collapsed": false
   },
   "outputs": [
    {
     "data": {
      "text/plain": [
       "<matplotlib.axes._subplots.AxesSubplot at 0x12a771208>"
      ]
     },
     "execution_count": 91,
     "metadata": {},
     "output_type": "execute_result"
    },
    {
     "data": {
      "image/png": "[encoded data removed]",
      "text/plain": [
       "<matplotlib.figure.Figure at 0x11a9980f0>"
      ]
     },
     "metadata": {},
     "output_type": "display_data"
    }
   ],
   "source": [
    "df_train.groupby(['pickup_weekday'])['trip_duration'].mean().plot.line()\n",
    "#peak traffic on wednesdays"
   ]
  },
  {
   "cell_type": "code",
   "execution_count": 92,
   "metadata": {
    "collapsed": false
   },
   "outputs": [
    {
     "data": {
      "text/html": [
       "<div>\n",
       "<style>\n",
       "    .dataframe thead tr:only-child th {\n",
       "        text-align: right;\n",
       "    }\n",
       "\n",
       "    .dataframe thead th {\n",
       "        text-align: left;\n",
       "    }\n",
       "\n",
       "    .dataframe tbody tr th {\n",
       "        vertical-align: top;\n",
       "    }\n",
       "</style>\n",
       "<table border=\"1\" class=\"dataframe\">\n",
       "  <thead>\n",
       "    <tr style=\"text-align: right;\">\n",
       "      <th></th>\n",
       "      <th>id</th>\n",
       "      <th>vendor_id</th>\n",
       "      <th>pickup_datetime</th>\n",
       "      <th>dropoff_datetime</th>\n",
       "      <th>passenger_count</th>\n",
       "      <th>pickup_longitude</th>\n",
       "      <th>pickup_latitude</th>\n",
       "      <th>dropoff_longitude</th>\n",
       "      <th>dropoff_latitude</th>\n",
       "      <th>store_and_fwd_flag</th>\n",
       "      <th>...</th>\n",
       "      <th>log_trip_duration</th>\n",
       "      <th>pickup_date</th>\n",
       "      <th>check_trip_duration</th>\n",
       "      <th>pickup_weekday</th>\n",
       "      <th>pickup_hour_weekofyear</th>\n",
       "      <th>pickup_hour</th>\n",
       "      <th>pickup_minute</th>\n",
       "      <th>pickup_dt</th>\n",
       "      <th>pickup_week_hour</th>\n",
       "      <th>Month</th>\n",
       "    </tr>\n",
       "  </thead>\n",
       "  <tbody>\n",
       "    <tr>\n",
       "      <th>0</th>\n",
       "      <td>id2875421</td>\n",
       "      <td>2</td>\n",
       "      <td>2016-03-14 17:24:55</td>\n",
       "      <td>2016-03-14 17:32:30</td>\n",
       "      <td>1</td>\n",
       "      <td>-73.982155</td>\n",
       "      <td>40.767937</td>\n",
       "      <td>-73.964630</td>\n",
       "      <td>40.765602</td>\n",
       "      <td>0</td>\n",
       "      <td>...</td>\n",
       "      <td>6.120297</td>\n",
       "      <td>2016-03-14</td>\n",
       "      <td>455.0</td>\n",
       "      <td>0</td>\n",
       "      <td>11</td>\n",
       "      <td>17</td>\n",
       "      <td>24</td>\n",
       "      <td>6369878.0</td>\n",
       "      <td>17</td>\n",
       "      <td>3</td>\n",
       "    </tr>\n",
       "    <tr>\n",
       "      <th>1</th>\n",
       "      <td>id2377394</td>\n",
       "      <td>1</td>\n",
       "      <td>2016-06-12 00:43:35</td>\n",
       "      <td>2016-06-12 00:54:38</td>\n",
       "      <td>1</td>\n",
       "      <td>-73.980415</td>\n",
       "      <td>40.738564</td>\n",
       "      <td>-73.999481</td>\n",
       "      <td>40.731152</td>\n",
       "      <td>0</td>\n",
       "      <td>...</td>\n",
       "      <td>6.496775</td>\n",
       "      <td>2016-06-12</td>\n",
       "      <td>663.0</td>\n",
       "      <td>6</td>\n",
       "      <td>23</td>\n",
       "      <td>0</td>\n",
       "      <td>43</td>\n",
       "      <td>14085798.0</td>\n",
       "      <td>144</td>\n",
       "      <td>6</td>\n",
       "    </tr>\n",
       "    <tr>\n",
       "      <th>2</th>\n",
       "      <td>id3858529</td>\n",
       "      <td>2</td>\n",
       "      <td>2016-01-19 11:35:24</td>\n",
       "      <td>2016-01-19 12:10:48</td>\n",
       "      <td>1</td>\n",
       "      <td>-73.979027</td>\n",
       "      <td>40.763939</td>\n",
       "      <td>-74.005333</td>\n",
       "      <td>40.710087</td>\n",
       "      <td>0</td>\n",
       "      <td>...</td>\n",
       "      <td>7.661056</td>\n",
       "      <td>2016-01-19</td>\n",
       "      <td>2124.0</td>\n",
       "      <td>1</td>\n",
       "      <td>3</td>\n",
       "      <td>11</td>\n",
       "      <td>35</td>\n",
       "      <td>1596907.0</td>\n",
       "      <td>35</td>\n",
       "      <td>1</td>\n",
       "    </tr>\n",
       "    <tr>\n",
       "      <th>3</th>\n",
       "      <td>id3504673</td>\n",
       "      <td>2</td>\n",
       "      <td>2016-04-06 19:32:31</td>\n",
       "      <td>2016-04-06 19:39:40</td>\n",
       "      <td>1</td>\n",
       "      <td>-74.010040</td>\n",
       "      <td>40.719971</td>\n",
       "      <td>-74.012268</td>\n",
       "      <td>40.706718</td>\n",
       "      <td>0</td>\n",
       "      <td>...</td>\n",
       "      <td>6.061457</td>\n",
       "      <td>2016-04-06</td>\n",
       "      <td>429.0</td>\n",
       "      <td>2</td>\n",
       "      <td>14</td>\n",
       "      <td>19</td>\n",
       "      <td>32</td>\n",
       "      <td>8364734.0</td>\n",
       "      <td>67</td>\n",
       "      <td>4</td>\n",
       "    </tr>\n",
       "    <tr>\n",
       "      <th>4</th>\n",
       "      <td>id2181028</td>\n",
       "      <td>2</td>\n",
       "      <td>2016-03-26 13:30:55</td>\n",
       "      <td>2016-03-26 13:38:10</td>\n",
       "      <td>1</td>\n",
       "      <td>-73.973053</td>\n",
       "      <td>40.793209</td>\n",
       "      <td>-73.972923</td>\n",
       "      <td>40.782520</td>\n",
       "      <td>0</td>\n",
       "      <td>...</td>\n",
       "      <td>6.075346</td>\n",
       "      <td>2016-03-26</td>\n",
       "      <td>435.0</td>\n",
       "      <td>5</td>\n",
       "      <td>12</td>\n",
       "      <td>13</td>\n",
       "      <td>30</td>\n",
       "      <td>7392638.0</td>\n",
       "      <td>133</td>\n",
       "      <td>3</td>\n",
       "    </tr>\n",
       "  </tbody>\n",
       "</table>\n",
       "<p>5 rows × 21 columns</p>\n",
       "</div>"
      ],
      "text/plain": [
       "          id  vendor_id     pickup_datetime    dropoff_datetime  \\\n",
       "0  id2875421          2 2016-03-14 17:24:55 2016-03-14 17:32:30   \n",
       "1  id2377394          1 2016-06-12 00:43:35 2016-06-12 00:54:38   \n",
       "2  id3858529          2 2016-01-19 11:35:24 2016-01-19 12:10:48   \n",
       "3  id3504673          2 2016-04-06 19:32:31 2016-04-06 19:39:40   \n",
       "4  id2181028          2 2016-03-26 13:30:55 2016-03-26 13:38:10   \n",
       "\n",
       "   passenger_count  pickup_longitude  pickup_latitude  dropoff_longitude  \\\n",
       "0                1        -73.982155        40.767937         -73.964630   \n",
       "1                1        -73.980415        40.738564         -73.999481   \n",
       "2                1        -73.979027        40.763939         -74.005333   \n",
       "3                1        -74.010040        40.719971         -74.012268   \n",
       "4                1        -73.973053        40.793209         -73.972923   \n",
       "\n",
       "   dropoff_latitude  store_and_fwd_flag  ...    log_trip_duration  \\\n",
       "0         40.765602                   0  ...             6.120297   \n",
       "1         40.731152                   0  ...             6.496775   \n",
       "2         40.710087                   0  ...             7.661056   \n",
       "3         40.706718                   0  ...             6.061457   \n",
       "4         40.782520                   0  ...             6.075346   \n",
       "\n",
       "   pickup_date check_trip_duration  pickup_weekday  pickup_hour_weekofyear  \\\n",
       "0   2016-03-14               455.0               0                      11   \n",
       "1   2016-06-12               663.0               6                      23   \n",
       "2   2016-01-19              2124.0               1                       3   \n",
       "3   2016-04-06               429.0               2                      14   \n",
       "4   2016-03-26               435.0               5                      12   \n",
       "\n",
       "   pickup_hour  pickup_minute   pickup_dt  pickup_week_hour  Month  \n",
       "0           17             24   6369878.0                17      3  \n",
       "1            0             43  14085798.0               144      6  \n",
       "2           11             35   1596907.0                35      1  \n",
       "3           19             32   8364734.0                67      4  \n",
       "4           13             30   7392638.0               133      3  \n",
       "\n",
       "[5 rows x 21 columns]"
      ]
     },
     "execution_count": 92,
     "metadata": {},
     "output_type": "execute_result"
    }
   ],
   "source": [
    "df_train.head()"
   ]
  },
  {
   "cell_type": "code",
   "execution_count": 93,
   "metadata": {
    "collapsed": false
   },
   "outputs": [
    {
     "name": "stdout",
     "output_type": "stream",
     "text": [
      "<class 'pandas.core.frame.DataFrame'>\n",
      "RangeIndex: 1458644 entries, 0 to 1458643\n",
      "Data columns (total 21 columns):\n",
      "id                        1458644 non-null object\n",
      "vendor_id                 1458644 non-null int64\n",
      "pickup_datetime           1458644 non-null datetime64[ns]\n",
      "dropoff_datetime          1458644 non-null datetime64[ns]\n",
      "passenger_count           1458644 non-null int64\n",
      "pickup_longitude          1458644 non-null float64\n",
      "pickup_latitude           1458644 non-null float64\n",
      "dropoff_longitude         1458644 non-null float64\n",
      "dropoff_latitude          1458644 non-null float64\n",
      "store_and_fwd_flag        1458644 non-null int64\n",
      "trip_duration             1458644 non-null int64\n",
      "log_trip_duration         1458644 non-null float64\n",
      "pickup_date               1458644 non-null object\n",
      "check_trip_duration       1458644 non-null float64\n",
      "pickup_weekday            1458644 non-null int64\n",
      "pickup_hour_weekofyear    1458644 non-null int64\n",
      "pickup_hour               1458644 non-null int64\n",
      "pickup_minute             1458644 non-null int64\n",
      "pickup_dt                 1458644 non-null float64\n",
      "pickup_week_hour          1458644 non-null int64\n",
      "Month                     1458644 non-null int64\n",
      "dtypes: datetime64[ns](2), float64(7), int64(10), object(2)\n",
      "memory usage: 233.7+ MB\n"
     ]
    }
   ],
   "source": [
    "df_train.info()"
   ]
  },
  {
   "cell_type": "code",
   "execution_count": 99,
   "metadata": {
    "collapsed": false
   },
   "outputs": [
    {
     "data": {
      "text/plain": [
       "count    1.330033e+06\n",
       "mean     1.311557e+00\n",
       "std      6.574672e-01\n",
       "min      0.000000e+00\n",
       "25%      1.000000e+00\n",
       "50%      1.000000e+00\n",
       "75%      1.000000e+00\n",
       "max      4.000000e+00\n",
       "Name: passenger_count, dtype: float64"
      ]
     },
     "execution_count": 99,
     "metadata": {},
     "output_type": "execute_result"
    }
   ],
   "source": [
    "df_train['passenger_count'].describe()"
   ]
  },
  {
   "cell_type": "code",
   "execution_count": 100,
   "metadata": {
    "collapsed": false
   },
   "outputs": [],
   "source": [
    "df_train = df_train[df_train['passenger_count']<5]"
   ]
  },
  {
   "cell_type": "code",
   "execution_count": 101,
   "metadata": {
    "collapsed": false
   },
   "outputs": [
    {
     "data": {
      "text/plain": [
       "count    1.330033e+06\n",
       "mean     8.344028e+02\n",
       "std      6.490852e+02\n",
       "min      1.000000e+00\n",
       "25%      3.960000e+02\n",
       "50%      6.610000e+02\n",
       "75%      1.072000e+03\n",
       "max      5.999000e+03\n",
       "Name: trip_duration, dtype: float64"
      ]
     },
     "execution_count": 101,
     "metadata": {},
     "output_type": "execute_result"
    }
   ],
   "source": [
    "df_train = df_train[df_train['trip_duration']<6000]\n",
    "df_train['trip_duration'].describe()"
   ]
  },
  {
   "cell_type": "markdown",
   "metadata": {},
   "source": [
    "Explore the following using hypothesis testing or correlations:\n",
    " 1. Is there a statistical difference between the taxi vendors trip durations?\n",
    " - trip duration vs passenger count\n",
    " - trip duration vs time of year (seasonal, i.e. summer/winter)\n",
    " - impact of rush hour on trip duration\n",
    " - demonstrate the trip durations to airports is related to the pickup distance from the airport\n",
    " - trip duration vs total distance (need to import the OCRM data)\n",
    " \n",
    " \n",
    " Cleaning Data:\n",
    " - remove the super long trips: set limit to no more than 100minutes\n",
    " - remove the trips with >5 passengers : removed all trips with passengers >5\n",
    " - remove trips that have zero distance and greater than 5 minutes  <<<don't know how to do yet>>>"
   ]
  },
  {
   "cell_type": "code",
   "execution_count": 97,
   "metadata": {
    "collapsed": false
   },
   "outputs": [
    {
     "data": {
      "text/plain": [
       "<matplotlib.axes._subplots.AxesSubplot at 0x121ae08d0>"
      ]
     },
     "execution_count": 97,
     "metadata": {},
     "output_type": "execute_result"
    },
    {
     "data": {
      "image/png": "[encoded data removed]",
      "text/plain": [
       "<matplotlib.figure.Figure at 0x186123e80>"
      ]
     },
     "metadata": {},
     "output_type": "display_data"
    }
   ],
   "source": [
    "df_train.groupby(['vendor_id'])['trip_duration'].mean().plot.bar()"
   ]
  },
  {
   "cell_type": "code",
   "execution_count": 125,
   "metadata": {
    "collapsed": true
   },
   "outputs": [],
   "source": [
    "vendor1_df = df_train[df_train['vendor_id']==1]\n",
    "vendor2_df = df_train[df_train['vendor_id']==2]\n",
    "\n",
    "trip = df_train.as_matrix(columns=['trip_duration'])\n",
    "\n",
    "vendor1_trip = vendor1_df.as_matrix(columns=['trip_duration'])\n",
    "vendor2_trip = vendor2_df.as_matrix(columns=['trip_duration'])\n",
    "\n",
    "mu_vendor1 = np.mean(vendor1_trip)\n",
    "sig_vendor1 = np.std(vendor1_trip)\n",
    "\n",
    "mu_vendor2 = np.mean(vendor2_trip)\n",
    "sig_vendor2 = np.std(vendor2_trip)\n",
    "\n",
    "mu_trip = np.mean(trip)\n",
    "sig_trip = np.std(trip)"
   ]
  },
  {
   "cell_type": "code",
   "execution_count": 126,
   "metadata": {
    "collapsed": false
   },
   "outputs": [
    {
     "data": {
      "image/png": "[encoded data removed]",
      "text/plain": [
       "<matplotlib.figure.Figure at 0x11a120630>"
      ]
     },
     "metadata": {},
     "output_type": "display_data"
    }
   ],
   "source": [
    "sm.qqplot(trip)\n",
    "pylab.show()"
   ]
  },
  {
   "cell_type": "code",
   "execution_count": 118,
   "metadata": {
    "collapsed": false
   },
   "outputs": [
    {
     "data": {
      "text/plain": [
       "NormaltestResult(statistic=masked_array(data = [601718.7160193013],\n",
       "             mask = [False],\n",
       "       fill_value = 1e+20)\n",
       ", pvalue=array([ 0.]))"
      ]
     },
     "execution_count": 118,
     "metadata": {},
     "output_type": "execute_result"
    }
   ],
   "source": [
    "stats.mstats.normaltest(trip)"
   ]
  },
  {
   "cell_type": "code",
   "execution_count": 127,
   "metadata": {
    "collapsed": false
   },
   "outputs": [
    {
     "data": {
      "image/png": "[encoded data removed]",
      "text/plain": [
       "<matplotlib.figure.Figure at 0x11a81af28>"
      ]
     },
     "metadata": {},
     "output_type": "display_data"
    }
   ],
   "source": [
    "plt.figure()\n",
    "plt.boxplot([trip],1 ,'rs',0, labels=['All Data'],showfliers=False)\n",
    "plt.xlabel('Trip Duration')\n",
    "plt.title('All Trips')\n",
    "None"
   ]
  },
  {
   "cell_type": "code",
   "execution_count": 131,
   "metadata": {
    "collapsed": false
   },
   "outputs": [
    {
     "data": {
      "text/plain": [
       "vendor_id\n",
       "1    677637\n",
       "2    652396\n",
       "Name: id, dtype: int64"
      ]
     },
     "execution_count": 131,
     "metadata": {},
     "output_type": "execute_result"
    }
   ],
   "source": [
    "df_train.groupby(['vendor_id'])['id'].count()\n",
    "#huge sample, probably will use z-stat assuming it is representative of the population standard deviation"
   ]
  },
  {
   "cell_type": "code",
   "execution_count": 139,
   "metadata": {
    "collapsed": true
   },
   "outputs": [],
   "source": [
    "def get_z(sample1, sample2):\n",
    "    z = (np.mean(sample1) - np.mean(sample2)) / math.sqrt(np.std(sample1)**2/len(sample1)+np.std(sample2)**2/len(sample2))\n",
    "    return z\n",
    "\n",
    "\n",
    "def get_t(sample, null_hypo):\n",
    "    t = (np.mean(sample) - null_hypo) / (np.std(sample) / math.sqrt(len(sample)))\n",
    "    return t"
   ]
  },
  {
   "cell_type": "code",
   "execution_count": 141,
   "metadata": {
    "collapsed": false
   },
   "outputs": [
    {
     "name": "stdout",
     "output_type": "stream",
     "text": [
      "Z statastic: -10.1915132951\n"
     ]
    }
   ],
   "source": [
    "z = get_z(vendor1_trip, vendor2_trip)\n",
    "print('Z statastic:', z)\n",
    "#makes it very unlikely that the means are statistically inequal, null hypothesis will not be rejected"
   ]
  },
  {
   "cell_type": "code",
   "execution_count": null,
   "metadata": {
    "collapsed": true
   },
   "outputs": [],
   "source": []
  }
 ],
 "metadata": {
  "kernelspec": {
   "display_name": "Python 3",
   "language": "python",
   "name": "python3"
  },
  "language_info": {
   "codemirror_mode": {
    "name": "ipython",
    "version": 3
   },
   "file_extension": ".py",
   "mimetype": "text/x-python",
   "name": "python",
   "nbconvert_exporter": "python",
   "pygments_lexer": "ipython3",
   "version": "3.6.0"
  }
 },
 "nbformat": 4,
 "nbformat_minor": 2
}
