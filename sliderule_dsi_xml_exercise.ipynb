{
 "cells": [
  {
   "cell_type": "markdown",
   "metadata": {},
   "source": [
    "# XML example and exercise\n",
    "****\n",
    "+ study examples of accessing nodes in XML tree structure  \n",
    "+ work on exercise to be completed and submitted\n",
    "****\n",
    "+ reference: https://docs.python.org/2.7/library/xml.etree.elementtree.html\n",
    "+ data source: http://www.dbis.informatik.uni-goettingen.de/Mondial\n",
    "****"
   ]
  },
  {
   "cell_type": "code",
   "execution_count": 207,
   "metadata": {
    "collapsed": true
   },
   "outputs": [],
   "source": [
    "from xml.etree import ElementTree as ET\n",
    "import numpy as np\n",
    "import pandas as pd"
   ]
  },
  {
   "cell_type": "markdown",
   "metadata": {},
   "source": [
    "## XML example\n",
    "\n",
    "+ for details about tree traversal and iterators, see https://docs.python.org/2.7/library/xml.etree.elementtree.html"
   ]
  },
  {
   "cell_type": "code",
   "execution_count": 208,
   "metadata": {
    "collapsed": false
   },
   "outputs": [],
   "source": [
    "document_tree = ET.parse( './data/mondial_database_less.xml' )"
   ]
  },
  {
   "cell_type": "code",
   "execution_count": 209,
   "metadata": {
    "collapsed": false
   },
   "outputs": [
    {
     "name": "stdout",
     "output_type": "stream",
     "text": [
      "Albania\n",
      "Greece\n",
      "Macedonia\n",
      "Serbia\n",
      "Montenegro\n",
      "Kosovo\n",
      "Andorra\n"
     ]
    }
   ],
   "source": [
    "# print names of all countries\n",
    "for child in document_tree.getroot():\n",
    "    print (child.find('name').text)"
   ]
  },
  {
   "cell_type": "code",
   "execution_count": 210,
   "metadata": {
    "collapsed": false
   },
   "outputs": [
    {
     "name": "stdout",
     "output_type": "stream",
     "text": [
      "* Albania:\n",
      "Tirana, Shkodër, Durrës, Vlorë, Elbasan, Korçë\n",
      "* Greece:\n",
      "Komotini, Kavala, Athina, Peiraias, Peristeri, Acharnes, Patra, Kozani, Kerkyra, Ioannina, Thessaloniki, Iraklio, Chania, Ermoupoli, Rhodes, Tripoli, Lamia, Chalkida, Larissa, Volos, Mytilini, Karyes\n",
      "* Macedonia:\n",
      "Skopje, Kumanovo\n",
      "* Serbia:\n",
      "Beograd, Novi Sad, Niš\n",
      "* Montenegro:\n",
      "Podgorica\n",
      "* Kosovo:\n",
      "Prishtine\n",
      "* Andorra:\n",
      "Andorra la Vella\n"
     ]
    }
   ],
   "source": [
    "# print names of all countries and their cities\n",
    "for element in document_tree.iterfind('country'):\n",
    "    print ('* ' + element.find('name').text + ':',)\n",
    "    capitals_string = ''\n",
    "    for subelement in element.getiterator('city'):\n",
    "        capitals_string += subelement.find('name').text + ', '\n",
    "    print (capitals_string[:-2])"
   ]
  },
  {
   "cell_type": "markdown",
   "metadata": {},
   "source": [
    "****\n",
    "## XML exercise\n",
    "\n",
    "Using data in 'data/mondial_database.xml', the examples above, and refering to https://docs.python.org/2.7/library/xml.etree.elementtree.html, find\n",
    "\n",
    "1. 10 countries with the lowest infant mortality rates\n",
    "2. 10 cities with the largest population\n",
    "3. 10 ethnic groups with the largest overall populations (sum of best/latest estimates over all countries)\n",
    "4. name and country of a) longest river, b) largest lake and c) airport at highest elevation"
   ]
  },
  {
   "cell_type": "code",
   "execution_count": 211,
   "metadata": {
    "collapsed": true
   },
   "outputs": [],
   "source": [
    "document = ET.parse( './data/mondial_database.xml' )\n",
    "root = document.getroot()"
   ]
  },
  {
   "cell_type": "code",
   "execution_count": 230,
   "metadata": {
    "collapsed": false
   },
   "outputs": [],
   "source": [
    "#explore the XML root\n",
    "#for child in root:\n",
    "#    print (child.tag, child.attrib)"
   ]
  },
  {
   "cell_type": "code",
   "execution_count": 213,
   "metadata": {
    "collapsed": false
   },
   "outputs": [
    {
     "data": {
      "text/plain": [
       "'1214489'"
      ]
     },
     "execution_count": 213,
     "metadata": {},
     "output_type": "execute_result"
    }
   ],
   "source": [
    "#practise the XML tools\n",
    "root[0][1].text"
   ]
  },
  {
   "cell_type": "markdown",
   "metadata": {},
   "source": [
    "# 1. Lowest mortality rates"
   ]
  },
  {
   "cell_type": "code",
   "execution_count": 214,
   "metadata": {
    "collapsed": false
   },
   "outputs": [
    {
     "data": {
      "text/html": [
       "<div>\n",
       "<table border=\"1\" class=\"dataframe\">\n",
       "  <thead>\n",
       "    <tr style=\"text-align: right;\">\n",
       "      <th></th>\n",
       "      <th>Baby Death Rate per 1000</th>\n",
       "    </tr>\n",
       "  </thead>\n",
       "  <tbody>\n",
       "    <tr>\n",
       "      <th>Monaco</th>\n",
       "      <td>1.81</td>\n",
       "    </tr>\n",
       "    <tr>\n",
       "      <th>Japan</th>\n",
       "      <td>2.13</td>\n",
       "    </tr>\n",
       "    <tr>\n",
       "      <th>Bermuda</th>\n",
       "      <td>2.48</td>\n",
       "    </tr>\n",
       "    <tr>\n",
       "      <th>Norway</th>\n",
       "      <td>2.48</td>\n",
       "    </tr>\n",
       "    <tr>\n",
       "      <th>Singapore</th>\n",
       "      <td>2.53</td>\n",
       "    </tr>\n",
       "    <tr>\n",
       "      <th>Sweden</th>\n",
       "      <td>2.60</td>\n",
       "    </tr>\n",
       "    <tr>\n",
       "      <th>Czech Republic</th>\n",
       "      <td>2.63</td>\n",
       "    </tr>\n",
       "    <tr>\n",
       "      <th>Hong Kong</th>\n",
       "      <td>2.73</td>\n",
       "    </tr>\n",
       "    <tr>\n",
       "      <th>Macao</th>\n",
       "      <td>3.13</td>\n",
       "    </tr>\n",
       "    <tr>\n",
       "      <th>Iceland</th>\n",
       "      <td>3.15</td>\n",
       "    </tr>\n",
       "  </tbody>\n",
       "</table>\n",
       "</div>"
      ],
      "text/plain": [
       "                Baby Death Rate per 1000\n",
       "Monaco                              1.81\n",
       "Japan                               2.13\n",
       "Bermuda                             2.48\n",
       "Norway                              2.48\n",
       "Singapore                           2.53\n",
       "Sweden                              2.60\n",
       "Czech Republic                      2.63\n",
       "Hong Kong                           2.73\n",
       "Macao                               3.13\n",
       "Iceland                             3.15"
      ]
     },
     "execution_count": 214,
     "metadata": {},
     "output_type": "execute_result"
    }
   ],
   "source": [
    "#make a blank dictionary\n",
    "dict = {}\n",
    "\n",
    "#loop through the elements to find country and the child 'infant mortality'\n",
    "for baby in document.iterfind('country'):\n",
    "    country = baby.find('name')\n",
    "    mortality = baby.find('infant_mortality')\n",
    "\n",
    "#dump blanks\n",
    "    if (country) != None:\n",
    "        if (mortality) != None:\n",
    "#build the dictionary by setting the key to the value\n",
    "            dict[country.text] = float(mortality.text)\n",
    "        else:\n",
    "            dict[country.text] = np.NaN\n",
    "\n",
    "# Convert to data frame from dictionary\n",
    "dfPais = pd.DataFrame.from_dict(dict, orient='index')\n",
    "\n",
    "# Set Column to Infant Mortality Rate\n",
    "dfPais.columns = ['Baby Death Rate per 1000']\n",
    "dfPais.sort_values(by='Baby Death Rate per 1000', ascending=True).head(10)"
   ]
  },
  {
   "cell_type": "markdown",
   "metadata": {},
   "source": [
    "# 2. 10 Cities with the largest population"
   ]
  },
  {
   "cell_type": "code",
   "execution_count": 215,
   "metadata": {
    "collapsed": false
   },
   "outputs": [
    {
     "data": {
      "text/html": [
       "<div>\n",
       "<table border=\"1\" class=\"dataframe\">\n",
       "  <thead>\n",
       "    <tr style=\"text-align: right;\">\n",
       "      <th></th>\n",
       "      <th>city</th>\n",
       "      <th>pop</th>\n",
       "    </tr>\n",
       "  </thead>\n",
       "  <tbody>\n",
       "    <tr>\n",
       "      <th>1341</th>\n",
       "      <td>Shanghai</td>\n",
       "      <td>22315474</td>\n",
       "    </tr>\n",
       "    <tr>\n",
       "      <th>771</th>\n",
       "      <td>Istanbul</td>\n",
       "      <td>13710512</td>\n",
       "    </tr>\n",
       "    <tr>\n",
       "      <th>1527</th>\n",
       "      <td>Mumbai</td>\n",
       "      <td>12442373</td>\n",
       "    </tr>\n",
       "    <tr>\n",
       "      <th>479</th>\n",
       "      <td>Moskva</td>\n",
       "      <td>11979529</td>\n",
       "    </tr>\n",
       "    <tr>\n",
       "      <th>1340</th>\n",
       "      <td>Beijing</td>\n",
       "      <td>11716620</td>\n",
       "    </tr>\n",
       "    <tr>\n",
       "      <th>2810</th>\n",
       "      <td>São Paulo</td>\n",
       "      <td>11152344</td>\n",
       "    </tr>\n",
       "    <tr>\n",
       "      <th>1342</th>\n",
       "      <td>Tianjin</td>\n",
       "      <td>11090314</td>\n",
       "    </tr>\n",
       "    <tr>\n",
       "      <th>1064</th>\n",
       "      <td>Guangzhou</td>\n",
       "      <td>11071424</td>\n",
       "    </tr>\n",
       "    <tr>\n",
       "      <th>1582</th>\n",
       "      <td>Delhi</td>\n",
       "      <td>11034555</td>\n",
       "    </tr>\n",
       "    <tr>\n",
       "      <th>1067</th>\n",
       "      <td>Shenzhen</td>\n",
       "      <td>10358381</td>\n",
       "    </tr>\n",
       "  </tbody>\n",
       "</table>\n",
       "</div>"
      ],
      "text/plain": [
       "           city       pop\n",
       "1341   Shanghai  22315474\n",
       "771    Istanbul  13710512\n",
       "1527     Mumbai  12442373\n",
       "479      Moskva  11979529\n",
       "1340    Beijing  11716620\n",
       "2810  São Paulo  11152344\n",
       "1342    Tianjin  11090314\n",
       "1064  Guangzhou  11071424\n",
       "1582      Delhi  11034555\n",
       "1067   Shenzhen  10358381"
      ]
     },
     "execution_count": 215,
     "metadata": {},
     "output_type": "execute_result"
    }
   ],
   "source": [
    "#make a blank list\n",
    "pop_list = []\n",
    "\n",
    "#loop through the elements to find cities and provinces as they both have populations\n",
    "for element in document.iterfind('country'):\n",
    "    cities = element.findall('city')\n",
    "    provinces = element.findall('province')\n",
    "\n",
    "#access the population in each province and corresponding city\n",
    "#add them to the city list\n",
    "    for province in provinces:\n",
    "        cities += province.findall('city')\n",
    "#get the individual city name and the most recent population value\n",
    "    for city in cities:\n",
    "        cityName = city.find('name').text\n",
    "        population = city.find('.//population[last()]')\n",
    "        if population != None:\n",
    "            cityPop = int(population.text)\n",
    "        cityList = (cityName,cityPop)\n",
    "#populate the list\n",
    "        pop_list.append(cityList)\n",
    "#create a dataframe\n",
    "\n",
    "df = pd.DataFrame.from_records(data=pop_list,columns=['city','pop'])\n",
    "df\n",
    "#print the dataframe to show the largest 10 by sorting it\n",
    "df.sort_values('pop',ascending=False).head(10)"
   ]
  },
  {
   "cell_type": "markdown",
   "metadata": {
    "collapsed": false
   },
   "source": [
    "# 3.0 largest ethnic groups"
   ]
  },
  {
   "cell_type": "code",
   "execution_count": 216,
   "metadata": {
    "collapsed": false
   },
   "outputs": [
    {
     "data": {
      "text/html": [
       "<div>\n",
       "<table border=\"1\" class=\"dataframe\">\n",
       "  <thead>\n",
       "    <tr style=\"text-align: right;\">\n",
       "      <th></th>\n",
       "      <th>country</th>\n",
       "      <th>ethnicGroup</th>\n",
       "      <th>pop%</th>\n",
       "    </tr>\n",
       "  </thead>\n",
       "  <tbody>\n",
       "    <tr>\n",
       "      <th>614</th>\n",
       "      <td>Mozambique</td>\n",
       "      <td>European</td>\n",
       "      <td>0.06</td>\n",
       "    </tr>\n",
       "    <tr>\n",
       "      <th>615</th>\n",
       "      <td>Mozambique</td>\n",
       "      <td>Indian</td>\n",
       "      <td>0.08</td>\n",
       "    </tr>\n",
       "    <tr>\n",
       "      <th>56</th>\n",
       "      <td>Slovakia</td>\n",
       "      <td>Polish</td>\n",
       "      <td>0.10</td>\n",
       "    </tr>\n",
       "  </tbody>\n",
       "</table>\n",
       "</div>"
      ],
      "text/plain": [
       "        country ethnicGroup  pop%\n",
       "614  Mozambique    European  0.06\n",
       "615  Mozambique      Indian  0.08\n",
       "56     Slovakia      Polish  0.10"
      ]
     },
     "execution_count": 216,
     "metadata": {},
     "output_type": "execute_result"
    }
   ],
   "source": [
    "#make a blank list\n",
    "ethpop_list = []\n",
    "\n",
    "#loop through the elements to find single country\n",
    "for element in document.iterfind('country'):\n",
    "    ctry = element.find('name').text\n",
    "#within the country, get the ethnicity detail  \n",
    "    for eth in element.iterfind('ethnicgroup'):\n",
    "        ethnicName = eth.text\n",
    "        ethnicityPctg = float(eth.attrib['percentage'])\n",
    "        ethpop_list.append([ctry,ethnicName,ethnicityPctg])\n",
    "#populate the list\n",
    "#create a dataframe\n",
    "\n",
    "df = pd.DataFrame.from_records(data=ethpop_list,columns=['country','ethnicGroup','pop%'])\n",
    "df\n",
    "#print the dataframe to show the largest 10 by sorting it\n",
    "df.sort_values('pop%',ascending=True).head(3)"
   ]
  },
  {
   "cell_type": "code",
   "execution_count": 217,
   "metadata": {
    "collapsed": false
   },
   "outputs": [],
   "source": [
    "#make a blank dictionary\n",
    "ctry_list = {}\n",
    "\n",
    "#loop the document for country and population\n",
    "for country in document.iterfind('country'):\n",
    "    ctry = country.find('name')\n",
    "    population = country.find('.//population[last()]')\n",
    "# dictionary of counrty and population\n",
    "\n",
    "    ctry_list[ctry.text] = int(population.text)\n",
    "\n",
    "\n",
    "# Creates dataframe\n",
    "ctry_df = pd.DataFrame.from_dict(ctry_list, orient='index')\n",
    "ctry_df.reset_index(drop=False, inplace=True)\n",
    "ctry_df.columns = ['country', 'Population']\n"
   ]
  },
  {
   "cell_type": "code",
   "execution_count": 218,
   "metadata": {
    "collapsed": false
   },
   "outputs": [
    {
     "data": {
      "text/html": [
       "<div>\n",
       "<table border=\"1\" class=\"dataframe\">\n",
       "  <thead>\n",
       "    <tr style=\"text-align: right;\">\n",
       "      <th></th>\n",
       "      <th>Population</th>\n",
       "      <th>pop%</th>\n",
       "      <th>ethnicPop</th>\n",
       "    </tr>\n",
       "    <tr>\n",
       "      <th>ethnicGroup</th>\n",
       "      <th></th>\n",
       "      <th></th>\n",
       "      <th></th>\n",
       "    </tr>\n",
       "  </thead>\n",
       "  <tbody>\n",
       "    <tr>\n",
       "      <th>Han Chinese</th>\n",
       "      <td>1360720000</td>\n",
       "      <td>91.50</td>\n",
       "      <td>1.245059e+09</td>\n",
       "    </tr>\n",
       "    <tr>\n",
       "      <th>Indo-Aryan</th>\n",
       "      <td>1210854977</td>\n",
       "      <td>72.00</td>\n",
       "      <td>8.718156e+08</td>\n",
       "    </tr>\n",
       "    <tr>\n",
       "      <th>European</th>\n",
       "      <td>1157295639</td>\n",
       "      <td>970.82</td>\n",
       "      <td>4.948722e+08</td>\n",
       "    </tr>\n",
       "    <tr>\n",
       "      <th>African</th>\n",
       "      <td>975352746</td>\n",
       "      <td>1868.55</td>\n",
       "      <td>3.183251e+08</td>\n",
       "    </tr>\n",
       "    <tr>\n",
       "      <th>Dravidian</th>\n",
       "      <td>1210854977</td>\n",
       "      <td>25.00</td>\n",
       "      <td>3.027137e+08</td>\n",
       "    </tr>\n",
       "    <tr>\n",
       "      <th>Mestizo</th>\n",
       "      <td>279743964</td>\n",
       "      <td>870.70</td>\n",
       "      <td>1.577344e+08</td>\n",
       "    </tr>\n",
       "    <tr>\n",
       "      <th>Bengali</th>\n",
       "      <td>149772364</td>\n",
       "      <td>98.00</td>\n",
       "      <td>1.467769e+08</td>\n",
       "    </tr>\n",
       "    <tr>\n",
       "      <th>Russian</th>\n",
       "      <td>322438406</td>\n",
       "      <td>224.10</td>\n",
       "      <td>1.318570e+08</td>\n",
       "    </tr>\n",
       "    <tr>\n",
       "      <th>Japanese</th>\n",
       "      <td>127298000</td>\n",
       "      <td>99.40</td>\n",
       "      <td>1.265342e+08</td>\n",
       "    </tr>\n",
       "    <tr>\n",
       "      <th>Malay</th>\n",
       "      <td>377500275</td>\n",
       "      <td>242.30</td>\n",
       "      <td>1.219936e+08</td>\n",
       "    </tr>\n",
       "  </tbody>\n",
       "</table>\n",
       "</div>"
      ],
      "text/plain": [
       "             Population     pop%     ethnicPop\n",
       "ethnicGroup                                   \n",
       "Han Chinese  1360720000    91.50  1.245059e+09\n",
       "Indo-Aryan   1210854977    72.00  8.718156e+08\n",
       "European     1157295639   970.82  4.948722e+08\n",
       "African       975352746  1868.55  3.183251e+08\n",
       "Dravidian    1210854977    25.00  3.027137e+08\n",
       "Mestizo       279743964   870.70  1.577344e+08\n",
       "Bengali       149772364    98.00  1.467769e+08\n",
       "Russian       322438406   224.10  1.318570e+08\n",
       "Japanese      127298000    99.40  1.265342e+08\n",
       "Malay         377500275   242.30  1.219936e+08"
      ]
     },
     "execution_count": 218,
     "metadata": {},
     "output_type": "execute_result"
    }
   ],
   "source": [
    "#merge the dataframes, creat the ethnicPopulation column, sum them by group and sort for highest\n",
    "ethnicDF=ctry_df.merge(df,on='country')\n",
    "ethnicDF['ethnicPop']=ethnicDF['pop%']*ethnicDF['Population']/100\n",
    "ethnicities=ethnicDF.groupby('ethnicGroup').sum()\n",
    "ethnicities.sort_values('ethnicPop',ascending=False).head(10)"
   ]
  },
  {
   "cell_type": "markdown",
   "metadata": {},
   "source": [
    "## 4. name and country of a) longest river, b) largest lake and c) airport at highest elevation"
   ]
  },
  {
   "cell_type": "code",
   "execution_count": 219,
   "metadata": {
    "collapsed": false
   },
   "outputs": [
    {
     "data": {
      "text/html": [
       "<div>\n",
       "<table border=\"1\" class=\"dataframe\">\n",
       "  <thead>\n",
       "    <tr style=\"text-align: right;\">\n",
       "      <th></th>\n",
       "      <th>country</th>\n",
       "      <th>ctry code</th>\n",
       "    </tr>\n",
       "  </thead>\n",
       "  <tbody>\n",
       "    <tr>\n",
       "      <th>0</th>\n",
       "      <td>AL</td>\n",
       "      <td>Albania</td>\n",
       "    </tr>\n",
       "    <tr>\n",
       "      <th>1</th>\n",
       "      <td>GR</td>\n",
       "      <td>Greece</td>\n",
       "    </tr>\n",
       "    <tr>\n",
       "      <th>2</th>\n",
       "      <td>MK</td>\n",
       "      <td>Macedonia</td>\n",
       "    </tr>\n",
       "    <tr>\n",
       "      <th>3</th>\n",
       "      <td>SRB</td>\n",
       "      <td>Serbia</td>\n",
       "    </tr>\n",
       "    <tr>\n",
       "      <th>4</th>\n",
       "      <td>MNE</td>\n",
       "      <td>Montenegro</td>\n",
       "    </tr>\n",
       "  </tbody>\n",
       "</table>\n",
       "</div>"
      ],
      "text/plain": [
       "  country   ctry code\n",
       "0      AL     Albania\n",
       "1      GR      Greece\n",
       "2      MK   Macedonia\n",
       "3     SRB      Serbia\n",
       "4     MNE  Montenegro"
      ]
     },
     "execution_count": 219,
     "metadata": {},
     "output_type": "execute_result"
    }
   ],
   "source": [
    "#make a blank dictionary\n",
    "ctrycode_list = {}\n",
    "\n",
    "#loop the document for country and population\n",
    "for country in document.iterfind('country'):\n",
    "    ctry = country.find('name')\n",
    "    ctrycode = country.attrib['car_code']\n",
    "# dictionary of counrty and population\n",
    "\n",
    "    ctrycode_list[ctrycode] = ctry.text\n",
    "\n",
    "\n",
    "# Creates dataframe\n",
    "ctry_df = pd.DataFrame.from_dict(ctrycode_list, orient='index')\n",
    "ctry_df.reset_index(drop=False, inplace=True)\n",
    "ctry_df.columns = ['country', 'ctry code']\n",
    "ctry_df.head()\n"
   ]
  },
  {
   "cell_type": "code",
   "execution_count": 229,
   "metadata": {
    "collapsed": false
   },
   "outputs": [
    {
     "data": {
      "text/html": [
       "<div>\n",
       "<table border=\"1\" class=\"dataframe\">\n",
       "  <thead>\n",
       "    <tr style=\"text-align: right;\">\n",
       "      <th></th>\n",
       "      <th>cc</th>\n",
       "      <th>waterBody</th>\n",
       "      <th>length</th>\n",
       "    </tr>\n",
       "  </thead>\n",
       "  <tbody>\n",
       "    <tr>\n",
       "      <th>174</th>\n",
       "      <td>Peru</td>\n",
       "      <td>Amazonas</td>\n",
       "      <td>6448.0</td>\n",
       "    </tr>\n",
       "    <tr>\n",
       "      <th>137</th>\n",
       "      <td>China</td>\n",
       "      <td>Jangtse</td>\n",
       "      <td>6380.0</td>\n",
       "    </tr>\n",
       "    <tr>\n",
       "      <th>136</th>\n",
       "      <td>China</td>\n",
       "      <td>Hwangho</td>\n",
       "      <td>4845.0</td>\n",
       "    </tr>\n",
       "    <tr>\n",
       "      <th>123</th>\n",
       "      <td>Russia</td>\n",
       "      <td>Lena</td>\n",
       "      <td>4400.0</td>\n",
       "    </tr>\n",
       "    <tr>\n",
       "      <th>205</th>\n",
       "      <td>Zaire</td>\n",
       "      <td>Zaire</td>\n",
       "      <td>4374.0</td>\n",
       "    </tr>\n",
       "    <tr>\n",
       "      <th>138</th>\n",
       "      <td>Vietnam</td>\n",
       "      <td>Mekong</td>\n",
       "      <td>4350.0</td>\n",
       "    </tr>\n",
       "    <tr>\n",
       "      <th>115</th>\n",
       "      <td>China</td>\n",
       "      <td>Irtysch</td>\n",
       "      <td>4248.0</td>\n",
       "    </tr>\n",
       "    <tr>\n",
       "      <th>186</th>\n",
       "      <td>Guinea</td>\n",
       "      <td>Niger</td>\n",
       "      <td>4184.0</td>\n",
       "    </tr>\n",
       "    <tr>\n",
       "      <th>160</th>\n",
       "      <td>United States</td>\n",
       "      <td>Missouri</td>\n",
       "      <td>4130.0</td>\n",
       "    </tr>\n",
       "    <tr>\n",
       "      <th>119</th>\n",
       "      <td>Russia</td>\n",
       "      <td>Jenissej</td>\n",
       "      <td>4092.0</td>\n",
       "    </tr>\n",
       "  </tbody>\n",
       "</table>\n",
       "</div>"
      ],
      "text/plain": [
       "                cc waterBody  length\n",
       "174           Peru  Amazonas  6448.0\n",
       "137          China   Jangtse  6380.0\n",
       "136          China   Hwangho  4845.0\n",
       "123         Russia      Lena  4400.0\n",
       "205          Zaire     Zaire  4374.0\n",
       "138        Vietnam    Mekong  4350.0\n",
       "115          China   Irtysch  4248.0\n",
       "186         Guinea     Niger  4184.0\n",
       "160  United States  Missouri  4130.0\n",
       "119         Russia  Jenissej  4092.0"
      ]
     },
     "execution_count": 229,
     "metadata": {},
     "output_type": "execute_result"
    }
   ],
   "source": [
    "#make a blank list\n",
    "water_list = []\n",
    "\n",
    "#loop through the countries to find cities and rivers\n",
    "for element in document.iterfind('river'):    \n",
    "    riverName = element.find('name').text\n",
    "    riverSize = element.find('length')\n",
    "    if riverSize != None:\n",
    "        \n",
    "        riverLength = float(riverSize.text)\n",
    "        for riverCC in element.attrib['country'].split():\n",
    "            riverCC = ctrycode_list[riverCC]\n",
    "    waterList = (riverCC,riverName,riverLength)\n",
    "#populate the list\n",
    "    water_list.append(waterList)\n",
    "#create a dataframe\n",
    "\n",
    "dfWater = pd.DataFrame.from_records(data=water_list,columns=['cc','waterBody','length'])\n",
    "\n",
    "#print the dataframe sorted for longest river\n",
    "dfWater.sort_values(by='length',ascending = False).head(10)\n"
   ]
  },
  {
   "cell_type": "markdown",
   "metadata": {},
   "source": [
    "# The longest river is the amazon river and 'originates' in Peru"
   ]
  },
  {
   "cell_type": "code",
   "execution_count": 228,
   "metadata": {
    "collapsed": false
   },
   "outputs": [
    {
     "data": {
      "text/html": [
       "<div>\n",
       "<table border=\"1\" class=\"dataframe\">\n",
       "  <thead>\n",
       "    <tr style=\"text-align: right;\">\n",
       "      <th></th>\n",
       "      <th>cc</th>\n",
       "      <th>waterBody</th>\n",
       "      <th>area</th>\n",
       "    </tr>\n",
       "  </thead>\n",
       "  <tbody>\n",
       "    <tr>\n",
       "      <th>54</th>\n",
       "      <td>Turkmenistan</td>\n",
       "      <td>Caspian Sea</td>\n",
       "      <td>386400.0</td>\n",
       "    </tr>\n",
       "    <tr>\n",
       "      <th>109</th>\n",
       "      <td>United States</td>\n",
       "      <td>Lake Superior</td>\n",
       "      <td>82103.0</td>\n",
       "    </tr>\n",
       "    <tr>\n",
       "      <th>81</th>\n",
       "      <td>Uganda</td>\n",
       "      <td>Lake Victoria</td>\n",
       "      <td>68870.0</td>\n",
       "    </tr>\n",
       "    <tr>\n",
       "      <th>106</th>\n",
       "      <td>United States</td>\n",
       "      <td>Lake Huron</td>\n",
       "      <td>59600.0</td>\n",
       "    </tr>\n",
       "    <tr>\n",
       "      <th>108</th>\n",
       "      <td>United States</td>\n",
       "      <td>Lake Michigan</td>\n",
       "      <td>57800.0</td>\n",
       "    </tr>\n",
       "    <tr>\n",
       "      <th>47</th>\n",
       "      <td>West Bank</td>\n",
       "      <td>Dead Sea</td>\n",
       "      <td>41650.0</td>\n",
       "    </tr>\n",
       "    <tr>\n",
       "      <th>83</th>\n",
       "      <td>Tanzania</td>\n",
       "      <td>Lake Tanganjika</td>\n",
       "      <td>32893.0</td>\n",
       "    </tr>\n",
       "    <tr>\n",
       "      <th>98</th>\n",
       "      <td>Canada</td>\n",
       "      <td>Great Bear Lake</td>\n",
       "      <td>31792.0</td>\n",
       "    </tr>\n",
       "    <tr>\n",
       "      <th>43</th>\n",
       "      <td>Russia</td>\n",
       "      <td>Ozero Baikal</td>\n",
       "      <td>31492.0</td>\n",
       "    </tr>\n",
       "    <tr>\n",
       "      <th>89</th>\n",
       "      <td>Tanzania</td>\n",
       "      <td>Lake Malawi</td>\n",
       "      <td>29600.0</td>\n",
       "    </tr>\n",
       "  </tbody>\n",
       "</table>\n",
       "</div>"
      ],
      "text/plain": [
       "                cc        waterBody      area\n",
       "54    Turkmenistan      Caspian Sea  386400.0\n",
       "109  United States    Lake Superior   82103.0\n",
       "81          Uganda    Lake Victoria   68870.0\n",
       "106  United States       Lake Huron   59600.0\n",
       "108  United States    Lake Michigan   57800.0\n",
       "47       West Bank         Dead Sea   41650.0\n",
       "83        Tanzania  Lake Tanganjika   32893.0\n",
       "98          Canada  Great Bear Lake   31792.0\n",
       "43          Russia     Ozero Baikal   31492.0\n",
       "89        Tanzania      Lake Malawi   29600.0"
      ]
     },
     "execution_count": 228,
     "metadata": {},
     "output_type": "execute_result"
    }
   ],
   "source": [
    "lake_list=[]\n",
    "#loop through the countries to find lakes and area of the lake\n",
    "for element in document.iterfind('lake'):    \n",
    "    lakeName = element.find('name').text\n",
    "    lakeSize = element.find('area')\n",
    "    if lakeSize != None:\n",
    "        \n",
    "        lakeArea = float(lakeSize.text)\n",
    "        for lakeCC in element.attrib['country'].split():\n",
    "            lakeCC = ctrycode_list[lakeCC]\n",
    "    lakeList = (lakeCC,lakeName,lakeArea)\n",
    "#populate the list\n",
    "    lake_list.append(lakeList)\n",
    "#create a dataframe\n",
    "\n",
    "dfLake = pd.DataFrame.from_records(data=lake_list,columns=['cc','waterBody','area'])\n",
    "\n",
    "#print the dataframe sorted for largest area lake\n",
    "dfLake.sort_values(by='area',ascending = False).head(10)"
   ]
  },
  {
   "cell_type": "markdown",
   "metadata": {},
   "source": [
    "# The largest lake is the caspian sea in turkmenistan...largest fresh water is Lake Superior, equally owned by Canada"
   ]
  },
  {
   "cell_type": "code",
   "execution_count": 227,
   "metadata": {
    "collapsed": false
   },
   "outputs": [
    {
     "data": {
      "text/html": [
       "<div>\n",
       "<table border=\"1\" class=\"dataframe\">\n",
       "  <thead>\n",
       "    <tr style=\"text-align: right;\">\n",
       "      <th></th>\n",
       "      <th>cc</th>\n",
       "      <th>airportName</th>\n",
       "      <th>elevation</th>\n",
       "    </tr>\n",
       "  </thead>\n",
       "  <tbody>\n",
       "    <tr>\n",
       "      <th>80</th>\n",
       "      <td>Bolivia</td>\n",
       "      <td>El Alto Intl</td>\n",
       "      <td>4063.0</td>\n",
       "    </tr>\n",
       "    <tr>\n",
       "      <th>219</th>\n",
       "      <td>China</td>\n",
       "      <td>Lhasa-Gonggar</td>\n",
       "      <td>4005.0</td>\n",
       "    </tr>\n",
       "    <tr>\n",
       "      <th>241</th>\n",
       "      <td>China</td>\n",
       "      <td>Yushu Batang</td>\n",
       "      <td>3963.0</td>\n",
       "    </tr>\n",
       "    <tr>\n",
       "      <th>813</th>\n",
       "      <td>Peru</td>\n",
       "      <td>Juliaca</td>\n",
       "      <td>3827.0</td>\n",
       "    </tr>\n",
       "    <tr>\n",
       "      <th>815</th>\n",
       "      <td>Peru</td>\n",
       "      <td>Teniente Alejandro Velasco Astete Intl</td>\n",
       "      <td>3311.0</td>\n",
       "    </tr>\n",
       "    <tr>\n",
       "      <th>82</th>\n",
       "      <td>Bolivia</td>\n",
       "      <td>Juana Azurduy De Padilla</td>\n",
       "      <td>2905.0</td>\n",
       "    </tr>\n",
       "    <tr>\n",
       "      <th>334</th>\n",
       "      <td>Ecuador</td>\n",
       "      <td>Mariscal Sucre Intl</td>\n",
       "      <td>2813.0</td>\n",
       "    </tr>\n",
       "    <tr>\n",
       "      <th>805</th>\n",
       "      <td>Peru</td>\n",
       "      <td>Coronel Fap Alfredo Mendivil Duarte</td>\n",
       "      <td>2719.0</td>\n",
       "    </tr>\n",
       "    <tr>\n",
       "      <th>807</th>\n",
       "      <td>Peru</td>\n",
       "      <td>Mayor General FAP Armando Revoredo Iglesias Ai...</td>\n",
       "      <td>2677.0</td>\n",
       "    </tr>\n",
       "    <tr>\n",
       "      <th>692</th>\n",
       "      <td>Mexico</td>\n",
       "      <td>Licenciado Adolfo Lopez Mateos Intl</td>\n",
       "      <td>2581.0</td>\n",
       "    </tr>\n",
       "  </tbody>\n",
       "</table>\n",
       "</div>"
      ],
      "text/plain": [
       "          cc                                        airportName  elevation\n",
       "80   Bolivia                                       El Alto Intl     4063.0\n",
       "219    China                                      Lhasa-Gonggar     4005.0\n",
       "241    China                                       Yushu Batang     3963.0\n",
       "813     Peru                                            Juliaca     3827.0\n",
       "815     Peru             Teniente Alejandro Velasco Astete Intl     3311.0\n",
       "82   Bolivia                           Juana Azurduy De Padilla     2905.0\n",
       "334  Ecuador                                Mariscal Sucre Intl     2813.0\n",
       "805     Peru                Coronel Fap Alfredo Mendivil Duarte     2719.0\n",
       "807     Peru  Mayor General FAP Armando Revoredo Iglesias Ai...     2677.0\n",
       "692   Mexico                Licenciado Adolfo Lopez Mateos Intl     2581.0"
      ]
     },
     "execution_count": 227,
     "metadata": {},
     "output_type": "execute_result"
    }
   ],
   "source": [
    "airport_list=[]\n",
    "#loop through the countries to find airports and elevation\n",
    "for element in document.iterfind('airport'):    \n",
    "    airName = element.find('name').text\n",
    "    airElevation = element.find('elevation')\n",
    "    if airElevation != None:\n",
    "        elevation = airElevation.text\n",
    "        for airCC in element.attrib['country'].split():\n",
    "            airCC = ctrycode_list[airCC]\n",
    "    airList = (airCC,airName,elevation)\n",
    "#populate the list\n",
    "    airport_list.append(airList)\n",
    "#create a dataframe\n",
    "\n",
    "dfAirText = pd.DataFrame.from_records(data=airport_list,columns=['cc','airportName','elevation'])\n",
    "#convert the data from text to numeric\n",
    "dfAir=dfAirText.apply(pd.to_numeric, errors='ignore')\n",
    "#print the dataframe sorted for largest elevation\n",
    "dfAir.sort_values(by='elevation',ascending = False).head(10)\n",
    "\n"
   ]
  },
  {
   "cell_type": "markdown",
   "metadata": {},
   "source": [
    "# The highest airport in the worls is 'El Alto Intl' meaning 'the height' in Bolivia"
   ]
  },
  {
   "cell_type": "code",
   "execution_count": null,
   "metadata": {
    "collapsed": true
   },
   "outputs": [],
   "source": []
  }
 ],
 "metadata": {
  "kernelspec": {
   "display_name": "Python 3",
   "language": "python",
   "name": "python3"
  },
  "language_info": {
   "codemirror_mode": {
    "name": "ipython",
    "version": 3
   },
   "file_extension": ".py",
   "mimetype": "text/x-python",
   "name": "python",
   "nbconvert_exporter": "python",
   "pygments_lexer": "ipython3",
   "version": "3.6.0"
  }
 },
 "nbformat": 4,
 "nbformat_minor": 0
}
